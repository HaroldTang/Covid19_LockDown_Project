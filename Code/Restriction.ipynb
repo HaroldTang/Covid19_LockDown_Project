{
 "cells": [
  {
   "cell_type": "code",
   "execution_count": 2,
   "metadata": {},
   "outputs": [
    {
     "name": "stdout",
     "output_type": "stream",
     "text": [
      "Collecting package metadata (current_repodata.json): done\n",
      "Solving environment: done\n",
      "\n",
      "# All requested packages already installed.\n",
      "\n",
      "\n",
      "Note: you may need to restart the kernel to use updated packages.\n"
     ]
    }
   ],
   "source": [
    "conda install -c plotly plotly=4.7.0"
   ]
  },
  {
   "cell_type": "code",
   "execution_count": 154,
   "metadata": {},
   "outputs": [],
   "source": [
    "import pandas as pd\n",
    "import numpy as np\n",
    "import glob,os\n",
    "from datetime import datetime\n",
    "import plotly.graph_objects as go\n",
    "import plotly.express as px"
   ]
  },
  {
   "cell_type": "code",
   "execution_count": 155,
   "metadata": {},
   "outputs": [
    {
     "data": {
      "text/html": [
       "<div>\n",
       "<style scoped>\n",
       "    .dataframe tbody tr th:only-of-type {\n",
       "        vertical-align: middle;\n",
       "    }\n",
       "\n",
       "    .dataframe tbody tr th {\n",
       "        vertical-align: top;\n",
       "    }\n",
       "\n",
       "    .dataframe thead th {\n",
       "        text-align: right;\n",
       "    }\n",
       "</style>\n",
       "<table border=\"1\" class=\"dataframe\">\n",
       "  <thead>\n",
       "    <tr style=\"text-align: right;\">\n",
       "      <th></th>\n",
       "      <th>City/ Location</th>\n",
       "      <th>State</th>\n",
       "      <th>What was the event?</th>\n",
       "      <th>Who made the decision? (Name &amp; title)</th>\n",
       "      <th>Category</th>\n",
       "      <th>Date of event</th>\n",
       "      <th>Link to sources or more information</th>\n",
       "      <th>Additional link</th>\n",
       "      <th>Additional link.1</th>\n",
       "      <th>Your name &amp; email or twitter handle to contact (optional, will be viewable by the public)</th>\n",
       "      <th>Unnamed: 10</th>\n",
       "    </tr>\n",
       "  </thead>\n",
       "  <tbody>\n",
       "    <tr>\n",
       "      <th>0</th>\n",
       "      <td>19 counties</td>\n",
       "      <td>PA</td>\n",
       "      <td>Stay at home orders imposed in the following c...</td>\n",
       "      <td>Governor Wolf</td>\n",
       "      <td>Quarantines and forced closures</td>\n",
       "      <td>3/27/2020</td>\n",
       "      <td>https://www.co.berks.pa.us/Dept/DES/Pages/COVI...</td>\n",
       "      <td></td>\n",
       "      <td>NaN</td>\n",
       "      <td>NaN</td>\n",
       "      <td>NaN</td>\n",
       "    </tr>\n",
       "    <tr>\n",
       "      <th>1</th>\n",
       "      <td>Aberdeen</td>\n",
       "      <td>SD</td>\n",
       "      <td>COVID-19 Emergency Ordinance No. 1 that restri...</td>\n",
       "      <td>Travis Schaunaman, Mayor and the Aberdeen City...</td>\n",
       "      <td>Quarantines and forced closures</td>\n",
       "      <td>2/4/2020</td>\n",
       "      <td>https://www.aberdeen.sd.us/1162/COVID-19-Updat...</td>\n",
       "      <td>NaN</td>\n",
       "      <td>NaN</td>\n",
       "      <td>NaN</td>\n",
       "      <td>NaN</td>\n",
       "    </tr>\n",
       "    <tr>\n",
       "      <th>2</th>\n",
       "      <td>Aberdeen</td>\n",
       "      <td>SD</td>\n",
       "      <td>COVID-19 Emergency Ordinance No. 2: closure of...</td>\n",
       "      <td>Travis Schaunaman, Mayor and the Aberdeen City...</td>\n",
       "      <td>Quarantines and forced closures</td>\n",
       "      <td>4/7/2020</td>\n",
       "      <td>https://www.aberdeen.sd.us/DocumentCenter/View...</td>\n",
       "      <td>NaN</td>\n",
       "      <td>NaN</td>\n",
       "      <td>NaN</td>\n",
       "      <td>NaN</td>\n",
       "    </tr>\n",
       "    <tr>\n",
       "      <th>3</th>\n",
       "      <td>Aberdeen</td>\n",
       "      <td>SD</td>\n",
       "      <td>COVID-19 Emergency Ordinance No. 3: COVID-19 E...</td>\n",
       "      <td>Travis Schaunaman, Mayor and the Aberdeen City...</td>\n",
       "      <td>Quarantines and forced closures</td>\n",
       "      <td>4/13/2020</td>\n",
       "      <td>https://www.aberdeen.sd.us/DocumentCenter/View...</td>\n",
       "      <td>NaN</td>\n",
       "      <td>NaN</td>\n",
       "      <td>NaN</td>\n",
       "      <td>NaN</td>\n",
       "    </tr>\n",
       "    <tr>\n",
       "      <th>4</th>\n",
       "      <td>Aberdeen</td>\n",
       "      <td>NC</td>\n",
       "      <td>At this time, all advisory board and committee...</td>\n",
       "      <td>Mayor Farrell</td>\n",
       "      <td>Elected/public officials</td>\n",
       "      <td>4/15/2020</td>\n",
       "      <td>https://townofaberdeen.net/pview.aspx?id=20689...</td>\n",
       "      <td>NaN</td>\n",
       "      <td>NaN</td>\n",
       "      <td>gwilly56@mac.com</td>\n",
       "      <td>NaN</td>\n",
       "    </tr>\n",
       "    <tr>\n",
       "      <th>...</th>\n",
       "      <td>...</td>\n",
       "      <td>...</td>\n",
       "      <td>...</td>\n",
       "      <td>...</td>\n",
       "      <td>...</td>\n",
       "      <td>...</td>\n",
       "      <td>...</td>\n",
       "      <td>...</td>\n",
       "      <td>...</td>\n",
       "      <td>...</td>\n",
       "      <td>...</td>\n",
       "    </tr>\n",
       "    <tr>\n",
       "      <th>775</th>\n",
       "      <td>Rosebud Sioux Tribe</td>\n",
       "      <td>SD</td>\n",
       "      <td>Reservation-wide curfew of 10 p.m. –6 a.m. and...</td>\n",
       "      <td>Rodney M. Bordeaux, President, Rosebud Sioux T...</td>\n",
       "      <td>Quarantines and forced closures</td>\n",
       "      <td>3/27/2020</td>\n",
       "      <td>https://www.rosebudsiouxtribe-nsn.gov/rst-coro...</td>\n",
       "      <td>https://597bd9a0-d50b-4e6b-a67b-e5f63c849a48.f...</td>\n",
       "      <td>NaN</td>\n",
       "      <td>NaN</td>\n",
       "      <td>NaN</td>\n",
       "    </tr>\n",
       "    <tr>\n",
       "      <th>776</th>\n",
       "      <td>statewide</td>\n",
       "      <td>TX</td>\n",
       "      <td>Gov. Abbott announced barbershops, hair salons...</td>\n",
       "      <td>Gov. Greg Abbott</td>\n",
       "      <td>Quarantines and forced closures</td>\n",
       "      <td>5/5/2020</td>\n",
       "      <td>https://www.kvue.com/article/news/health/coron...</td>\n",
       "      <td>NaN</td>\n",
       "      <td>NaN</td>\n",
       "      <td>NaN</td>\n",
       "      <td>NaN</td>\n",
       "    </tr>\n",
       "    <tr>\n",
       "      <th>777</th>\n",
       "      <td>statewide</td>\n",
       "      <td>TX</td>\n",
       "      <td>Gov. Abbott announced gyms may reopen starting...</td>\n",
       "      <td>Gov. Greg Abbott</td>\n",
       "      <td>Quarantines and forced closures</td>\n",
       "      <td>5/5/2020</td>\n",
       "      <td>https://www.kvue.com/article/news/health/coron...</td>\n",
       "      <td>NaN</td>\n",
       "      <td>NaN</td>\n",
       "      <td>NaN</td>\n",
       "      <td>NaN</td>\n",
       "    </tr>\n",
       "    <tr>\n",
       "      <th>778</th>\n",
       "      <td>statewide</td>\n",
       "      <td>OK</td>\n",
       "      <td>Gov. Stitt announces plan to reopen businesses...</td>\n",
       "      <td>Gov. Kevin Stitt</td>\n",
       "      <td>Quarantines and forced closures</td>\n",
       "      <td>4/22/2020</td>\n",
       "      <td>https://www.koco.com/article/watch-gov-stitt-p...</td>\n",
       "      <td>NaN</td>\n",
       "      <td>NaN</td>\n",
       "      <td>NaN</td>\n",
       "      <td>NaN</td>\n",
       "    </tr>\n",
       "    <tr>\n",
       "      <th>779</th>\n",
       "      <td>Durham</td>\n",
       "      <td>NC</td>\n",
       "      <td>County + City of Durham, NC extending stay at ...</td>\n",
       "      <td>Mayor Steve Schewel</td>\n",
       "      <td>Quarantines and forced closures</td>\n",
       "      <td>4/24/2020</td>\n",
       "      <td>https://www.dconc.gov/county-departments/depar...</td>\n",
       "      <td>NaN</td>\n",
       "      <td>NaN</td>\n",
       "      <td>NaN</td>\n",
       "      <td>NaN</td>\n",
       "    </tr>\n",
       "  </tbody>\n",
       "</table>\n",
       "<p>780 rows × 11 columns</p>\n",
       "</div>"
      ],
      "text/plain": [
       "          City/ Location State  \\\n",
       "0            19 counties    PA   \n",
       "1               Aberdeen    SD   \n",
       "2               Aberdeen    SD   \n",
       "3               Aberdeen    SD   \n",
       "4               Aberdeen    NC   \n",
       "..                   ...   ...   \n",
       "775  Rosebud Sioux Tribe    SD   \n",
       "776            statewide    TX   \n",
       "777            statewide    TX   \n",
       "778            statewide    OK   \n",
       "779              Durham     NC   \n",
       "\n",
       "                                   What was the event?  \\\n",
       "0    Stay at home orders imposed in the following c...   \n",
       "1    COVID-19 Emergency Ordinance No. 1 that restri...   \n",
       "2    COVID-19 Emergency Ordinance No. 2: closure of...   \n",
       "3    COVID-19 Emergency Ordinance No. 3: COVID-19 E...   \n",
       "4    At this time, all advisory board and committee...   \n",
       "..                                                 ...   \n",
       "775  Reservation-wide curfew of 10 p.m. –6 a.m. and...   \n",
       "776  Gov. Abbott announced barbershops, hair salons...   \n",
       "777  Gov. Abbott announced gyms may reopen starting...   \n",
       "778  Gov. Stitt announces plan to reopen businesses...   \n",
       "779  County + City of Durham, NC extending stay at ...   \n",
       "\n",
       "                 Who made the decision? (Name & title)  \\\n",
       "0                                        Governor Wolf   \n",
       "1    Travis Schaunaman, Mayor and the Aberdeen City...   \n",
       "2    Travis Schaunaman, Mayor and the Aberdeen City...   \n",
       "3    Travis Schaunaman, Mayor and the Aberdeen City...   \n",
       "4                                        Mayor Farrell   \n",
       "..                                                 ...   \n",
       "775  Rodney M. Bordeaux, President, Rosebud Sioux T...   \n",
       "776                                   Gov. Greg Abbott   \n",
       "777                                   Gov. Greg Abbott   \n",
       "778                                   Gov. Kevin Stitt   \n",
       "779                                Mayor Steve Schewel   \n",
       "\n",
       "                            Category Date of event  \\\n",
       "0    Quarantines and forced closures     3/27/2020   \n",
       "1    Quarantines and forced closures      2/4/2020   \n",
       "2    Quarantines and forced closures      4/7/2020   \n",
       "3    Quarantines and forced closures     4/13/2020   \n",
       "4           Elected/public officials     4/15/2020   \n",
       "..                               ...           ...   \n",
       "775  Quarantines and forced closures     3/27/2020   \n",
       "776  Quarantines and forced closures      5/5/2020   \n",
       "777  Quarantines and forced closures      5/5/2020   \n",
       "778  Quarantines and forced closures     4/22/2020   \n",
       "779  Quarantines and forced closures     4/24/2020   \n",
       "\n",
       "                  Link to sources or more information   \\\n",
       "0    https://www.co.berks.pa.us/Dept/DES/Pages/COVI...   \n",
       "1    https://www.aberdeen.sd.us/1162/COVID-19-Updat...   \n",
       "2    https://www.aberdeen.sd.us/DocumentCenter/View...   \n",
       "3    https://www.aberdeen.sd.us/DocumentCenter/View...   \n",
       "4    https://townofaberdeen.net/pview.aspx?id=20689...   \n",
       "..                                                 ...   \n",
       "775  https://www.rosebudsiouxtribe-nsn.gov/rst-coro...   \n",
       "776  https://www.kvue.com/article/news/health/coron...   \n",
       "777  https://www.kvue.com/article/news/health/coron...   \n",
       "778  https://www.koco.com/article/watch-gov-stitt-p...   \n",
       "779  https://www.dconc.gov/county-departments/depar...   \n",
       "\n",
       "                                       Additional link Additional link.1  \\\n",
       "0                                                                    NaN   \n",
       "1                                                  NaN               NaN   \n",
       "2                                                  NaN               NaN   \n",
       "3                                                  NaN               NaN   \n",
       "4                                                  NaN               NaN   \n",
       "..                                                 ...               ...   \n",
       "775  https://597bd9a0-d50b-4e6b-a67b-e5f63c849a48.f...               NaN   \n",
       "776                                                NaN               NaN   \n",
       "777                                                NaN               NaN   \n",
       "778                                                NaN               NaN   \n",
       "779                                                NaN               NaN   \n",
       "\n",
       "    Your name & email or twitter handle to contact (optional, will be viewable by the public)  \\\n",
       "0                                                  NaN                                          \n",
       "1                                                  NaN                                          \n",
       "2                                                  NaN                                          \n",
       "3                                                  NaN                                          \n",
       "4                                     gwilly56@mac.com                                          \n",
       "..                                                 ...                                          \n",
       "775                                                NaN                                          \n",
       "776                                                NaN                                          \n",
       "777                                                NaN                                          \n",
       "778                                                NaN                                          \n",
       "779                                                NaN                                          \n",
       "\n",
       "    Unnamed: 10  \n",
       "0           NaN  \n",
       "1           NaN  \n",
       "2           NaN  \n",
       "3           NaN  \n",
       "4           NaN  \n",
       "..          ...  \n",
       "775         NaN  \n",
       "776         NaN  \n",
       "777         NaN  \n",
       "778         NaN  \n",
       "779         NaN  \n",
       "\n",
       "[780 rows x 11 columns]"
      ]
     },
     "execution_count": 155,
     "metadata": {},
     "output_type": "execute_result"
    }
   ],
   "source": [
    "restriction_df= pd.read_csv('../Raw_data/Restriction.csv')\n",
    "restriction_df"
   ]
  },
  {
   "cell_type": "code",
   "execution_count": 156,
   "metadata": {},
   "outputs": [
    {
     "data": {
      "text/html": [
       "<div>\n",
       "<style scoped>\n",
       "    .dataframe tbody tr th:only-of-type {\n",
       "        vertical-align: middle;\n",
       "    }\n",
       "\n",
       "    .dataframe tbody tr th {\n",
       "        vertical-align: top;\n",
       "    }\n",
       "\n",
       "    .dataframe thead th {\n",
       "        text-align: right;\n",
       "    }\n",
       "</style>\n",
       "<table border=\"1\" class=\"dataframe\">\n",
       "  <thead>\n",
       "    <tr style=\"text-align: right;\">\n",
       "      <th></th>\n",
       "      <th>State</th>\n",
       "      <th>What was the event?</th>\n",
       "      <th>Category</th>\n",
       "      <th>Date of event</th>\n",
       "    </tr>\n",
       "  </thead>\n",
       "  <tbody>\n",
       "    <tr>\n",
       "      <th>0</th>\n",
       "      <td>PA</td>\n",
       "      <td>Stay at home orders imposed in the following c...</td>\n",
       "      <td>Quarantines and forced closures</td>\n",
       "      <td>3/27/2020</td>\n",
       "    </tr>\n",
       "    <tr>\n",
       "      <th>1</th>\n",
       "      <td>SD</td>\n",
       "      <td>COVID-19 Emergency Ordinance No. 1 that restri...</td>\n",
       "      <td>Quarantines and forced closures</td>\n",
       "      <td>2/4/2020</td>\n",
       "    </tr>\n",
       "    <tr>\n",
       "      <th>2</th>\n",
       "      <td>SD</td>\n",
       "      <td>COVID-19 Emergency Ordinance No. 2: closure of...</td>\n",
       "      <td>Quarantines and forced closures</td>\n",
       "      <td>4/7/2020</td>\n",
       "    </tr>\n",
       "    <tr>\n",
       "      <th>3</th>\n",
       "      <td>SD</td>\n",
       "      <td>COVID-19 Emergency Ordinance No. 3: COVID-19 E...</td>\n",
       "      <td>Quarantines and forced closures</td>\n",
       "      <td>4/13/2020</td>\n",
       "    </tr>\n",
       "    <tr>\n",
       "      <th>4</th>\n",
       "      <td>NC</td>\n",
       "      <td>At this time, all advisory board and committee...</td>\n",
       "      <td>Elected/public officials</td>\n",
       "      <td>4/15/2020</td>\n",
       "    </tr>\n",
       "    <tr>\n",
       "      <th>...</th>\n",
       "      <td>...</td>\n",
       "      <td>...</td>\n",
       "      <td>...</td>\n",
       "      <td>...</td>\n",
       "    </tr>\n",
       "    <tr>\n",
       "      <th>775</th>\n",
       "      <td>SD</td>\n",
       "      <td>Reservation-wide curfew of 10 p.m. –6 a.m. and...</td>\n",
       "      <td>Quarantines and forced closures</td>\n",
       "      <td>3/27/2020</td>\n",
       "    </tr>\n",
       "    <tr>\n",
       "      <th>776</th>\n",
       "      <td>TX</td>\n",
       "      <td>Gov. Abbott announced barbershops, hair salons...</td>\n",
       "      <td>Quarantines and forced closures</td>\n",
       "      <td>5/5/2020</td>\n",
       "    </tr>\n",
       "    <tr>\n",
       "      <th>777</th>\n",
       "      <td>TX</td>\n",
       "      <td>Gov. Abbott announced gyms may reopen starting...</td>\n",
       "      <td>Quarantines and forced closures</td>\n",
       "      <td>5/5/2020</td>\n",
       "    </tr>\n",
       "    <tr>\n",
       "      <th>778</th>\n",
       "      <td>OK</td>\n",
       "      <td>Gov. Stitt announces plan to reopen businesses...</td>\n",
       "      <td>Quarantines and forced closures</td>\n",
       "      <td>4/22/2020</td>\n",
       "    </tr>\n",
       "    <tr>\n",
       "      <th>779</th>\n",
       "      <td>NC</td>\n",
       "      <td>County + City of Durham, NC extending stay at ...</td>\n",
       "      <td>Quarantines and forced closures</td>\n",
       "      <td>4/24/2020</td>\n",
       "    </tr>\n",
       "  </tbody>\n",
       "</table>\n",
       "<p>780 rows × 4 columns</p>\n",
       "</div>"
      ],
      "text/plain": [
       "    State                                What was the event?  \\\n",
       "0      PA  Stay at home orders imposed in the following c...   \n",
       "1      SD  COVID-19 Emergency Ordinance No. 1 that restri...   \n",
       "2      SD  COVID-19 Emergency Ordinance No. 2: closure of...   \n",
       "3      SD  COVID-19 Emergency Ordinance No. 3: COVID-19 E...   \n",
       "4      NC  At this time, all advisory board and committee...   \n",
       "..    ...                                                ...   \n",
       "775    SD  Reservation-wide curfew of 10 p.m. –6 a.m. and...   \n",
       "776    TX  Gov. Abbott announced barbershops, hair salons...   \n",
       "777    TX  Gov. Abbott announced gyms may reopen starting...   \n",
       "778    OK  Gov. Stitt announces plan to reopen businesses...   \n",
       "779    NC  County + City of Durham, NC extending stay at ...   \n",
       "\n",
       "                            Category Date of event  \n",
       "0    Quarantines and forced closures     3/27/2020  \n",
       "1    Quarantines and forced closures      2/4/2020  \n",
       "2    Quarantines and forced closures      4/7/2020  \n",
       "3    Quarantines and forced closures     4/13/2020  \n",
       "4           Elected/public officials     4/15/2020  \n",
       "..                               ...           ...  \n",
       "775  Quarantines and forced closures     3/27/2020  \n",
       "776  Quarantines and forced closures      5/5/2020  \n",
       "777  Quarantines and forced closures      5/5/2020  \n",
       "778  Quarantines and forced closures     4/22/2020  \n",
       "779  Quarantines and forced closures     4/24/2020  \n",
       "\n",
       "[780 rows x 4 columns]"
      ]
     },
     "execution_count": 156,
     "metadata": {},
     "output_type": "execute_result"
    }
   ],
   "source": [
    "drop_list = [\"City/ Location\",\"Who made the decision? (Name & title)\", \"Link to sources or more information \", \\\n",
    "             'Additional link','Additional link.1', \\\n",
    "             'Your name & email or twitter handle to contact (optional, will be viewable by the public)',\\\n",
    "             'Unnamed: 10']\n",
    "restriction_df.drop(drop_list,inplace=True,axis = 1)\n",
    "restriction_df.dropna(axis=0,how='all')  \n",
    "restriction_df"
   ]
  },
  {
   "cell_type": "code",
   "execution_count": 88,
   "metadata": {},
   "outputs": [
    {
     "name": "stdout",
     "output_type": "stream",
     "text": [
      "{nan, 'Schools', 'Courts', 'Elected/public officials', 'Ballot measures', 'Quarantines and forced closures', 'Not sure', 'State legislatures', 'phoenix', 'Elections', 'Not Sure', 'Elected/ public officials'}\n"
     ]
    }
   ],
   "source": [
    "print(set(restriction_df['Category'].tolist()))"
   ]
  },
  {
   "cell_type": "code",
   "execution_count": 157,
   "metadata": {},
   "outputs": [],
   "source": [
    "restriction_df.rename(columns={'What was the event?':'measure', 'Category':'category', 'Date of event': 'date',\n",
    "                       \"State\":'state'}, inplace = True)"
   ]
  },
  {
   "cell_type": "code",
   "execution_count": 90,
   "metadata": {},
   "outputs": [
    {
     "data": {
      "text/html": [
       "<div>\n",
       "<style scoped>\n",
       "    .dataframe tbody tr th:only-of-type {\n",
       "        vertical-align: middle;\n",
       "    }\n",
       "\n",
       "    .dataframe tbody tr th {\n",
       "        vertical-align: top;\n",
       "    }\n",
       "\n",
       "    .dataframe thead th {\n",
       "        text-align: right;\n",
       "    }\n",
       "</style>\n",
       "<table border=\"1\" class=\"dataframe\">\n",
       "  <thead>\n",
       "    <tr style=\"text-align: right;\">\n",
       "      <th></th>\n",
       "      <th>state</th>\n",
       "      <th>measure</th>\n",
       "      <th>category</th>\n",
       "      <th>date</th>\n",
       "    </tr>\n",
       "  </thead>\n",
       "  <tbody>\n",
       "    <tr>\n",
       "      <th>7</th>\n",
       "      <td>IA</td>\n",
       "      <td>A temporary burn ban is now in effect within t...</td>\n",
       "      <td>Not sure</td>\n",
       "      <td>4/8/2020</td>\n",
       "    </tr>\n",
       "    <tr>\n",
       "      <th>9</th>\n",
       "      <td>NC</td>\n",
       "      <td>Mayor letter regarding Covid 19 precautions; i...</td>\n",
       "      <td>Not sure</td>\n",
       "      <td>3/18/2020</td>\n",
       "    </tr>\n",
       "    <tr>\n",
       "      <th>15</th>\n",
       "      <td>ND</td>\n",
       "      <td>Drive-through testing pilot program announced ...</td>\n",
       "      <td>Not sure</td>\n",
       "      <td>4/3/2020</td>\n",
       "    </tr>\n",
       "    <tr>\n",
       "      <th>16</th>\n",
       "      <td>CT</td>\n",
       "      <td>Town's contact info for help for most vulnerab...</td>\n",
       "      <td>Not sure</td>\n",
       "      <td>3/19/2020</td>\n",
       "    </tr>\n",
       "    <tr>\n",
       "      <th>17</th>\n",
       "      <td>CT</td>\n",
       "      <td>Emergency/seniors' food delivery contact info</td>\n",
       "      <td>Not sure</td>\n",
       "      <td>3/19/2020</td>\n",
       "    </tr>\n",
       "    <tr>\n",
       "      <th>...</th>\n",
       "      <td>...</td>\n",
       "      <td>...</td>\n",
       "      <td>...</td>\n",
       "      <td>...</td>\n",
       "    </tr>\n",
       "    <tr>\n",
       "      <th>739</th>\n",
       "      <td>FL</td>\n",
       "      <td>Emergency Order 20-07, every person in the cou...</td>\n",
       "      <td>Not sure</td>\n",
       "      <td>4/10/2020</td>\n",
       "    </tr>\n",
       "    <tr>\n",
       "      <th>748</th>\n",
       "      <td>CA</td>\n",
       "      <td>San Francisco superviors will vote on whether ...</td>\n",
       "      <td>Not sure</td>\n",
       "      <td>5/5/2020</td>\n",
       "    </tr>\n",
       "    <tr>\n",
       "      <th>750</th>\n",
       "      <td>MA</td>\n",
       "      <td>Testing 1000 asymptomatic residents in Boston'...</td>\n",
       "      <td>Not sure</td>\n",
       "      <td>4/27/2020</td>\n",
       "    </tr>\n",
       "    <tr>\n",
       "      <th>751</th>\n",
       "      <td>CA</td>\n",
       "      <td>San Francisco to make Covid testing available ...</td>\n",
       "      <td>Not sure</td>\n",
       "      <td>4/22/2020</td>\n",
       "    </tr>\n",
       "    <tr>\n",
       "      <th>756</th>\n",
       "      <td>NY</td>\n",
       "      <td>NY to partner with John Hopkins U and Bloomber...</td>\n",
       "      <td>Not sure</td>\n",
       "      <td>4/30/2020</td>\n",
       "    </tr>\n",
       "  </tbody>\n",
       "</table>\n",
       "<p>238 rows × 4 columns</p>\n",
       "</div>"
      ],
      "text/plain": [
       "    state                                            measure  category  \\\n",
       "7      IA  A temporary burn ban is now in effect within t...  Not sure   \n",
       "9      NC  Mayor letter regarding Covid 19 precautions; i...  Not sure   \n",
       "15     ND  Drive-through testing pilot program announced ...  Not sure   \n",
       "16     CT  Town's contact info for help for most vulnerab...  Not sure   \n",
       "17     CT      Emergency/seniors' food delivery contact info  Not sure   \n",
       "..    ...                                                ...       ...   \n",
       "739    FL  Emergency Order 20-07, every person in the cou...  Not sure   \n",
       "748    CA  San Francisco superviors will vote on whether ...  Not sure   \n",
       "750    MA  Testing 1000 asymptomatic residents in Boston'...  Not sure   \n",
       "751    CA  San Francisco to make Covid testing available ...  Not sure   \n",
       "756    NY  NY to partner with John Hopkins U and Bloomber...  Not sure   \n",
       "\n",
       "          date  \n",
       "7     4/8/2020  \n",
       "9    3/18/2020  \n",
       "15    4/3/2020  \n",
       "16   3/19/2020  \n",
       "17   3/19/2020  \n",
       "..         ...  \n",
       "739  4/10/2020  \n",
       "748   5/5/2020  \n",
       "750  4/27/2020  \n",
       "751  4/22/2020  \n",
       "756  4/30/2020  \n",
       "\n",
       "[238 rows x 4 columns]"
      ]
     },
     "execution_count": 90,
     "metadata": {},
     "output_type": "execute_result"
    }
   ],
   "source": [
    "a = restriction_df[restriction_df['category']=='Not sure']\n",
    "a"
   ]
  },
  {
   "cell_type": "code",
   "execution_count": 112,
   "metadata": {},
   "outputs": [
    {
     "data": {
      "text/plain": [
       "{('', '', 0),\n",
       " ('alsbliciacofctedpuectedpeleffificialiciicoleclicoffpubtedubl',\n",
       "  'Elected/public officials',\n",
       "  90),\n",
       " ('andantaracedclodcldfoedcesaforinelosndfnesntiorcosuquaranrceressansurtinuarure',\n",
       "  'Quarantines and forced closures',\n",
       "  349),\n",
       " ('ateatuegielegisisllatlegresslastatattelturure', 'State legislatures', 30),\n",
       " ('chohooolsoolsch', 'Schools', 37),\n",
       " ('ctiecteleionleconstio', 'Elections', 19),\n",
       " ('nototssurtsuure', 'Not sure', 239)}"
      ]
     },
     "execution_count": 112,
     "metadata": {},
     "output_type": "execute_result"
    }
   ],
   "source": [
    "import string, unicodedata\n",
    "def ngram_fingerprint(value, n = 3): # n-gram cluster\n",
    "    def ngram_split(input_value, n):\n",
    "        split_output = set()\n",
    "        for i in range(len(input_value)-n+1):\n",
    "            split_output.add(input_value[i:i+n])\n",
    "        return sorted(split_output)\n",
    "    input_string = str.lower(value)\n",
    "    clean_string = ''.join(e for e in input_string if e.isalnum())\n",
    "    ngram_result = ngram_split(clean_string, n)\n",
    "    ngram_key = \"\".join(item for item in ngram_result)\n",
    "    key = unicodedata.normalize(\"NFC\",ngram_key)\n",
    "    return (key, str(value))\n",
    "\n",
    "out = []\n",
    "for i in restriction_df['category'].tolist():\n",
    "    out.append(ngram_fingerprint(str(i)))\n",
    "category = set()\n",
    "item = ''\n",
    "unique = ''\n",
    "count = 0\n",
    "for category_item in sorted(out):\n",
    "    if category_item[0] != unique:\n",
    "        category.add((unique, item, count))\n",
    "        unique = category_item[0]\n",
    "        item = category_item[1]\n",
    "        count = 1\n",
    "    elif category_item[1] != item:\n",
    "        category.add((unique, item, count))\n",
    "        count = 1\n",
    "        item = category_item[1]\n",
    "    else:\n",
    "        count += 1\n",
    "category.add((unique, item, count))\n",
    "category"
   ]
  },
  {
   "cell_type": "code",
   "execution_count": 158,
   "metadata": {},
   "outputs": [
    {
     "data": {
      "text/html": [
       "<div>\n",
       "<style scoped>\n",
       "    .dataframe tbody tr th:only-of-type {\n",
       "        vertical-align: middle;\n",
       "    }\n",
       "\n",
       "    .dataframe tbody tr th {\n",
       "        vertical-align: top;\n",
       "    }\n",
       "\n",
       "    .dataframe thead th {\n",
       "        text-align: right;\n",
       "    }\n",
       "</style>\n",
       "<table border=\"1\" class=\"dataframe\">\n",
       "  <thead>\n",
       "    <tr style=\"text-align: right;\">\n",
       "      <th></th>\n",
       "      <th>state</th>\n",
       "      <th>measure</th>\n",
       "      <th>category</th>\n",
       "      <th>date</th>\n",
       "    </tr>\n",
       "  </thead>\n",
       "  <tbody>\n",
       "    <tr>\n",
       "      <th>0</th>\n",
       "      <td>PA</td>\n",
       "      <td>Stay at home orders imposed in the following c...</td>\n",
       "      <td>Quarantines and forced closures</td>\n",
       "      <td>3/27/2020</td>\n",
       "    </tr>\n",
       "    <tr>\n",
       "      <th>1</th>\n",
       "      <td>SD</td>\n",
       "      <td>COVID-19 Emergency Ordinance No. 1 that restri...</td>\n",
       "      <td>Quarantines and forced closures</td>\n",
       "      <td>2/4/2020</td>\n",
       "    </tr>\n",
       "    <tr>\n",
       "      <th>2</th>\n",
       "      <td>SD</td>\n",
       "      <td>COVID-19 Emergency Ordinance No. 2: closure of...</td>\n",
       "      <td>Quarantines and forced closures</td>\n",
       "      <td>4/7/2020</td>\n",
       "    </tr>\n",
       "    <tr>\n",
       "      <th>3</th>\n",
       "      <td>SD</td>\n",
       "      <td>COVID-19 Emergency Ordinance No. 3: COVID-19 E...</td>\n",
       "      <td>Quarantines and forced closures</td>\n",
       "      <td>4/13/2020</td>\n",
       "    </tr>\n",
       "    <tr>\n",
       "      <th>4</th>\n",
       "      <td>NC</td>\n",
       "      <td>At this time, all advisory board and committee...</td>\n",
       "      <td>Elected/public officials</td>\n",
       "      <td>4/15/2020</td>\n",
       "    </tr>\n",
       "    <tr>\n",
       "      <th>...</th>\n",
       "      <td>...</td>\n",
       "      <td>...</td>\n",
       "      <td>...</td>\n",
       "      <td>...</td>\n",
       "    </tr>\n",
       "    <tr>\n",
       "      <th>775</th>\n",
       "      <td>SD</td>\n",
       "      <td>Reservation-wide curfew of 10 p.m. –6 a.m. and...</td>\n",
       "      <td>Quarantines and forced closures</td>\n",
       "      <td>3/27/2020</td>\n",
       "    </tr>\n",
       "    <tr>\n",
       "      <th>776</th>\n",
       "      <td>TX</td>\n",
       "      <td>Gov. Abbott announced barbershops, hair salons...</td>\n",
       "      <td>Quarantines and forced closures</td>\n",
       "      <td>5/5/2020</td>\n",
       "    </tr>\n",
       "    <tr>\n",
       "      <th>777</th>\n",
       "      <td>TX</td>\n",
       "      <td>Gov. Abbott announced gyms may reopen starting...</td>\n",
       "      <td>Quarantines and forced closures</td>\n",
       "      <td>5/5/2020</td>\n",
       "    </tr>\n",
       "    <tr>\n",
       "      <th>778</th>\n",
       "      <td>OK</td>\n",
       "      <td>Gov. Stitt announces plan to reopen businesses...</td>\n",
       "      <td>Quarantines and forced closures</td>\n",
       "      <td>4/22/2020</td>\n",
       "    </tr>\n",
       "    <tr>\n",
       "      <th>779</th>\n",
       "      <td>NC</td>\n",
       "      <td>County + City of Durham, NC extending stay at ...</td>\n",
       "      <td>Quarantines and forced closures</td>\n",
       "      <td>4/24/2020</td>\n",
       "    </tr>\n",
       "  </tbody>\n",
       "</table>\n",
       "<p>764 rows × 4 columns</p>\n",
       "</div>"
      ],
      "text/plain": [
       "    state                                            measure  \\\n",
       "0      PA  Stay at home orders imposed in the following c...   \n",
       "1      SD  COVID-19 Emergency Ordinance No. 1 that restri...   \n",
       "2      SD  COVID-19 Emergency Ordinance No. 2: closure of...   \n",
       "3      SD  COVID-19 Emergency Ordinance No. 3: COVID-19 E...   \n",
       "4      NC  At this time, all advisory board and committee...   \n",
       "..    ...                                                ...   \n",
       "775    SD  Reservation-wide curfew of 10 p.m. –6 a.m. and...   \n",
       "776    TX  Gov. Abbott announced barbershops, hair salons...   \n",
       "777    TX  Gov. Abbott announced gyms may reopen starting...   \n",
       "778    OK  Gov. Stitt announces plan to reopen businesses...   \n",
       "779    NC  County + City of Durham, NC extending stay at ...   \n",
       "\n",
       "                            category       date  \n",
       "0    Quarantines and forced closures  3/27/2020  \n",
       "1    Quarantines and forced closures   2/4/2020  \n",
       "2    Quarantines and forced closures   4/7/2020  \n",
       "3    Quarantines and forced closures  4/13/2020  \n",
       "4           Elected/public officials  4/15/2020  \n",
       "..                               ...        ...  \n",
       "775  Quarantines and forced closures  3/27/2020  \n",
       "776  Quarantines and forced closures   5/5/2020  \n",
       "777  Quarantines and forced closures   5/5/2020  \n",
       "778  Quarantines and forced closures  4/22/2020  \n",
       "779  Quarantines and forced closures  4/24/2020  \n",
       "\n",
       "[764 rows x 4 columns]"
      ]
     },
     "execution_count": 158,
     "metadata": {},
     "output_type": "execute_result"
    }
   ],
   "source": [
    "restriction_df = restriction_df[~restriction_df['category'].isin(['phoenix'])]\n",
    "restriction_df = restriction_df[~restriction_df['category'].isna()]\n",
    "restriction_df['category'].replace(['Elected/ public officials','Elected/ public officials','Ballot measures'],'Elections', inplace=True)\n",
    "restriction_df['category'].replace(['Courts','Not Sure'],['State legislatures','Not sure'], inplace=True)\n",
    "\n",
    "restriction_df['date'].replace(['Various dates week of 3/15','202-03-30','https://www.hillsboro-oregon.gov/Home/Components/News/News/10587/3550','4/13/2020 to 5/11/2020','3/30/0202','4/15.2020','416/2020','3/17/ 2020'],['3/15/2020','3/30/2020','4/16/2020','4/13/2020','3/30/2020','4/15/2020','4/16/2020','3/17/2020'], inplace=True)\n",
    "restriction_df"
   ]
  },
  {
   "cell_type": "code",
   "execution_count": 161,
   "metadata": {},
   "outputs": [],
   "source": [
    "restriction_df = restriction_df[~restriction_df['measure'].isna()]\n",
    "restriction_df = restriction_df[~restriction_df['date'].isin(['ongoing', 'Updated daily'])]\n",
    "restriction_df = restriction_df[~restriction_df['state'].isna()]\n",
    "restriction_df = restriction_df[~restriction_df['date'].isna()]"
   ]
  },
  {
   "cell_type": "code",
   "execution_count": 163,
   "metadata": {},
   "outputs": [
    {
     "data": {
      "text/html": [
       "<div>\n",
       "<style scoped>\n",
       "    .dataframe tbody tr th:only-of-type {\n",
       "        vertical-align: middle;\n",
       "    }\n",
       "\n",
       "    .dataframe tbody tr th {\n",
       "        vertical-align: top;\n",
       "    }\n",
       "\n",
       "    .dataframe thead th {\n",
       "        text-align: right;\n",
       "    }\n",
       "</style>\n",
       "<table border=\"1\" class=\"dataframe\">\n",
       "  <thead>\n",
       "    <tr style=\"text-align: right;\">\n",
       "      <th></th>\n",
       "      <th>state</th>\n",
       "      <th>measure</th>\n",
       "      <th>category</th>\n",
       "      <th>date</th>\n",
       "    </tr>\n",
       "  </thead>\n",
       "  <tbody>\n",
       "    <tr>\n",
       "      <th>1</th>\n",
       "      <td>SD</td>\n",
       "      <td>COVID-19 Emergency Ordinance No. 1 that restri...</td>\n",
       "      <td>Quarantines and forced closures</td>\n",
       "      <td>2020-02-04</td>\n",
       "    </tr>\n",
       "    <tr>\n",
       "      <th>481</th>\n",
       "      <td>GA</td>\n",
       "      <td>create governor's coronavirus task force</td>\n",
       "      <td>Not sure</td>\n",
       "      <td>2020-02-28</td>\n",
       "    </tr>\n",
       "    <tr>\n",
       "      <th>731</th>\n",
       "      <td>WA</td>\n",
       "      <td>State of emergency declared</td>\n",
       "      <td>Not sure</td>\n",
       "      <td>2020-02-29</td>\n",
       "    </tr>\n",
       "    <tr>\n",
       "      <th>308</th>\n",
       "      <td>AL</td>\n",
       "      <td>Curfew instituted in Mobile, AL from 10 pm- 5 ...</td>\n",
       "      <td>Quarantines and forced closures</td>\n",
       "      <td>2020-03-03</td>\n",
       "    </tr>\n",
       "    <tr>\n",
       "      <th>728</th>\n",
       "      <td>CA</td>\n",
       "      <td>State of emergency declared</td>\n",
       "      <td>Not sure</td>\n",
       "      <td>2020-03-04</td>\n",
       "    </tr>\n",
       "    <tr>\n",
       "      <th>...</th>\n",
       "      <td>...</td>\n",
       "      <td>...</td>\n",
       "      <td>...</td>\n",
       "      <td>...</td>\n",
       "    </tr>\n",
       "    <tr>\n",
       "      <th>742</th>\n",
       "      <td>NJ</td>\n",
       "      <td>Most of the county's parks and trails are reop...</td>\n",
       "      <td>Quarantines and forced closures</td>\n",
       "      <td>2020-05-02</td>\n",
       "    </tr>\n",
       "    <tr>\n",
       "      <th>774</th>\n",
       "      <td>NC</td>\n",
       "      <td>State General Assembly finalized a Coronavirus...</td>\n",
       "      <td>Elected/public officials</td>\n",
       "      <td>2020-05-02</td>\n",
       "    </tr>\n",
       "    <tr>\n",
       "      <th>776</th>\n",
       "      <td>TX</td>\n",
       "      <td>Gov. Abbott announced barbershops, hair salons...</td>\n",
       "      <td>Quarantines and forced closures</td>\n",
       "      <td>2020-05-05</td>\n",
       "    </tr>\n",
       "    <tr>\n",
       "      <th>777</th>\n",
       "      <td>TX</td>\n",
       "      <td>Gov. Abbott announced gyms may reopen starting...</td>\n",
       "      <td>Quarantines and forced closures</td>\n",
       "      <td>2020-05-05</td>\n",
       "    </tr>\n",
       "    <tr>\n",
       "      <th>748</th>\n",
       "      <td>CA</td>\n",
       "      <td>San Francisco superviors will vote on whether ...</td>\n",
       "      <td>Not sure</td>\n",
       "      <td>2020-05-05</td>\n",
       "    </tr>\n",
       "  </tbody>\n",
       "</table>\n",
       "<p>734 rows × 4 columns</p>\n",
       "</div>"
      ],
      "text/plain": [
       "    state                                            measure  \\\n",
       "1      SD  COVID-19 Emergency Ordinance No. 1 that restri...   \n",
       "481    GA           create governor's coronavirus task force   \n",
       "731    WA                        State of emergency declared   \n",
       "308    AL  Curfew instituted in Mobile, AL from 10 pm- 5 ...   \n",
       "728    CA                        State of emergency declared   \n",
       "..    ...                                                ...   \n",
       "742    NJ  Most of the county's parks and trails are reop...   \n",
       "774    NC  State General Assembly finalized a Coronavirus...   \n",
       "776    TX  Gov. Abbott announced barbershops, hair salons...   \n",
       "777    TX  Gov. Abbott announced gyms may reopen starting...   \n",
       "748    CA  San Francisco superviors will vote on whether ...   \n",
       "\n",
       "                            category       date  \n",
       "1    Quarantines and forced closures 2020-02-04  \n",
       "481                         Not sure 2020-02-28  \n",
       "731                         Not sure 2020-02-29  \n",
       "308  Quarantines and forced closures 2020-03-03  \n",
       "728                         Not sure 2020-03-04  \n",
       "..                               ...        ...  \n",
       "742  Quarantines and forced closures 2020-05-02  \n",
       "774         Elected/public officials 2020-05-02  \n",
       "776  Quarantines and forced closures 2020-05-05  \n",
       "777  Quarantines and forced closures 2020-05-05  \n",
       "748                         Not sure 2020-05-05  \n",
       "\n",
       "[734 rows x 4 columns]"
      ]
     },
     "execution_count": 163,
     "metadata": {},
     "output_type": "execute_result"
    }
   ],
   "source": [
    "restriction_df['date']=pd.to_datetime(restriction_df['date'], format='%Y-%m-%d')\n",
    "ordered_df = restriction_df.sort_values(by='date')\n",
    "ordered_df"
   ]
  },
  {
   "cell_type": "code",
   "execution_count": 177,
   "metadata": {},
   "outputs": [
    {
     "data": {
      "text/html": [
       "<div>\n",
       "<style scoped>\n",
       "    .dataframe tbody tr th:only-of-type {\n",
       "        vertical-align: middle;\n",
       "    }\n",
       "\n",
       "    .dataframe tbody tr th {\n",
       "        vertical-align: top;\n",
       "    }\n",
       "\n",
       "    .dataframe thead th {\n",
       "        text-align: right;\n",
       "    }\n",
       "</style>\n",
       "<table border=\"1\" class=\"dataframe\">\n",
       "  <thead>\n",
       "    <tr style=\"text-align: right;\">\n",
       "      <th></th>\n",
       "      <th>state</th>\n",
       "      <th>measure</th>\n",
       "      <th>date</th>\n",
       "    </tr>\n",
       "  </thead>\n",
       "  <tbody>\n",
       "    <tr>\n",
       "      <th>0</th>\n",
       "      <td>SD</td>\n",
       "      <td>COVID-19 Emergency Ordinance No. 1 that restri...</td>\n",
       "      <td>2020-02-04</td>\n",
       "    </tr>\n",
       "    <tr>\n",
       "      <th>3</th>\n",
       "      <td>AL</td>\n",
       "      <td>Curfew instituted in Mobile, AL from 10 pm- 5 ...</td>\n",
       "      <td>2020-03-03</td>\n",
       "    </tr>\n",
       "    <tr>\n",
       "      <th>5</th>\n",
       "      <td>MA</td>\n",
       "      <td>Boston issued curfew advisory 9 pm- 6 am begin...</td>\n",
       "      <td>2020-03-05</td>\n",
       "    </tr>\n",
       "    <tr>\n",
       "      <th>14</th>\n",
       "      <td>NE</td>\n",
       "      <td>1st Directed Health Measure - Applied only to ...</td>\n",
       "      <td>2020-03-08</td>\n",
       "    </tr>\n",
       "    <tr>\n",
       "      <th>22</th>\n",
       "      <td>NY</td>\n",
       "      <td>Containment Area</td>\n",
       "      <td>2020-03-10</td>\n",
       "    </tr>\n",
       "    <tr>\n",
       "      <th>...</th>\n",
       "      <td>...</td>\n",
       "      <td>...</td>\n",
       "      <td>...</td>\n",
       "    </tr>\n",
       "    <tr>\n",
       "      <th>727</th>\n",
       "      <td>NJ</td>\n",
       "      <td>Parks to reopen on limited basis with social d...</td>\n",
       "      <td>2020-05-02</td>\n",
       "    </tr>\n",
       "    <tr>\n",
       "      <th>728</th>\n",
       "      <td>NJ</td>\n",
       "      <td>Parks to open for passive recreational use and...</td>\n",
       "      <td>2020-05-02</td>\n",
       "    </tr>\n",
       "    <tr>\n",
       "      <th>729</th>\n",
       "      <td>NJ</td>\n",
       "      <td>Most of the county's parks and trails are reop...</td>\n",
       "      <td>2020-05-02</td>\n",
       "    </tr>\n",
       "    <tr>\n",
       "      <th>731</th>\n",
       "      <td>TX</td>\n",
       "      <td>Gov. Abbott announced barbershops, hair salons...</td>\n",
       "      <td>2020-05-05</td>\n",
       "    </tr>\n",
       "    <tr>\n",
       "      <th>732</th>\n",
       "      <td>TX</td>\n",
       "      <td>Gov. Abbott announced gyms may reopen starting...</td>\n",
       "      <td>2020-05-05</td>\n",
       "    </tr>\n",
       "  </tbody>\n",
       "</table>\n",
       "<p>334 rows × 3 columns</p>\n",
       "</div>"
      ],
      "text/plain": [
       "    state                                            measure       date\n",
       "0      SD  COVID-19 Emergency Ordinance No. 1 that restri... 2020-02-04\n",
       "3      AL  Curfew instituted in Mobile, AL from 10 pm- 5 ... 2020-03-03\n",
       "5      MA  Boston issued curfew advisory 9 pm- 6 am begin... 2020-03-05\n",
       "14     NE  1st Directed Health Measure - Applied only to ... 2020-03-08\n",
       "22     NY                                   Containment Area 2020-03-10\n",
       "..    ...                                                ...        ...\n",
       "727    NJ  Parks to reopen on limited basis with social d... 2020-05-02\n",
       "728    NJ  Parks to open for passive recreational use and... 2020-05-02\n",
       "729    NJ  Most of the county's parks and trails are reop... 2020-05-02\n",
       "731    TX  Gov. Abbott announced barbershops, hair salons... 2020-05-05\n",
       "732    TX  Gov. Abbott announced gyms may reopen starting... 2020-05-05\n",
       "\n",
       "[334 rows x 3 columns]"
      ]
     },
     "execution_count": 177,
     "metadata": {},
     "output_type": "execute_result"
    }
   ],
   "source": [
    "stayhome_df = ordered_df[ordered_df['category'].isin(['Quarantines and forced closures'])]\n",
    "stayhome_df.drop(['category'],inplace=True,axis = 1)\n",
    "stayhome_df"
   ]
  },
  {
   "cell_type": "code",
   "execution_count": 255,
   "metadata": {},
   "outputs": [
    {
     "data": {
      "text/html": [
       "<div>\n",
       "<style scoped>\n",
       "    .dataframe tbody tr th:only-of-type {\n",
       "        vertical-align: middle;\n",
       "    }\n",
       "\n",
       "    .dataframe tbody tr th {\n",
       "        vertical-align: top;\n",
       "    }\n",
       "\n",
       "    .dataframe thead th {\n",
       "        text-align: right;\n",
       "    }\n",
       "</style>\n",
       "<table border=\"1\" class=\"dataframe\">\n",
       "  <thead>\n",
       "    <tr style=\"text-align: right;\">\n",
       "      <th></th>\n",
       "      <th>startDate</th>\n",
       "      <th>endDate</th>\n",
       "    </tr>\n",
       "    <tr>\n",
       "      <th>state</th>\n",
       "      <th></th>\n",
       "      <th></th>\n",
       "    </tr>\n",
       "  </thead>\n",
       "  <tbody>\n",
       "    <tr>\n",
       "      <th>Alabama</th>\n",
       "      <td>April 4</td>\n",
       "      <td>April 30</td>\n",
       "    </tr>\n",
       "    <tr>\n",
       "      <th>Alaska</th>\n",
       "      <td>March 28</td>\n",
       "      <td>April 27</td>\n",
       "    </tr>\n",
       "    <tr>\n",
       "      <th>Arizona</th>\n",
       "      <td>March 31</td>\n",
       "      <td>May 15</td>\n",
       "    </tr>\n",
       "    <tr>\n",
       "      <th>Arkansas</th>\n",
       "      <td>None</td>\n",
       "      <td>None</td>\n",
       "    </tr>\n",
       "    <tr>\n",
       "      <th>California</th>\n",
       "      <td>March 19</td>\n",
       "      <td>TBD</td>\n",
       "    </tr>\n",
       "    <tr>\n",
       "      <th>Colorado</th>\n",
       "      <td>March 26</td>\n",
       "      <td>April 26</td>\n",
       "    </tr>\n",
       "    <tr>\n",
       "      <th>Connecticut</th>\n",
       "      <td>March 23</td>\n",
       "      <td>May 20</td>\n",
       "    </tr>\n",
       "    <tr>\n",
       "      <th>Delaware</th>\n",
       "      <td>March 24</td>\n",
       "      <td>May 15</td>\n",
       "    </tr>\n",
       "    <tr>\n",
       "      <th>Florida</th>\n",
       "      <td>April 2</td>\n",
       "      <td>May 4</td>\n",
       "    </tr>\n",
       "    <tr>\n",
       "      <th>Georgia</th>\n",
       "      <td>April 3</td>\n",
       "      <td>April 30</td>\n",
       "    </tr>\n",
       "    <tr>\n",
       "      <th>Hawaii</th>\n",
       "      <td>March 25</td>\n",
       "      <td>May 31</td>\n",
       "    </tr>\n",
       "    <tr>\n",
       "      <th>Idaho</th>\n",
       "      <td>March 25</td>\n",
       "      <td>April 30</td>\n",
       "    </tr>\n",
       "    <tr>\n",
       "      <th>Illinois</th>\n",
       "      <td>March 21</td>\n",
       "      <td>May 30</td>\n",
       "    </tr>\n",
       "    <tr>\n",
       "      <th>Indiana</th>\n",
       "      <td>March 24</td>\n",
       "      <td>May 1</td>\n",
       "    </tr>\n",
       "    <tr>\n",
       "      <th>Iowa</th>\n",
       "      <td>None</td>\n",
       "      <td>None</td>\n",
       "    </tr>\n",
       "    <tr>\n",
       "      <th>Kansas</th>\n",
       "      <td>March 30</td>\n",
       "      <td>May 3</td>\n",
       "    </tr>\n",
       "    <tr>\n",
       "      <th>Kentucky</th>\n",
       "      <td>March 26</td>\n",
       "      <td>TBD</td>\n",
       "    </tr>\n",
       "    <tr>\n",
       "      <th>Louisiana</th>\n",
       "      <td>March 23</td>\n",
       "      <td>May 15</td>\n",
       "    </tr>\n",
       "    <tr>\n",
       "      <th>Maine</th>\n",
       "      <td>April 2</td>\n",
       "      <td>May 31</td>\n",
       "    </tr>\n",
       "    <tr>\n",
       "      <th>Maryland</th>\n",
       "      <td>March 30</td>\n",
       "      <td>TBD</td>\n",
       "    </tr>\n",
       "    <tr>\n",
       "      <th>Massachusetts</th>\n",
       "      <td>March 24</td>\n",
       "      <td>May 18</td>\n",
       "    </tr>\n",
       "    <tr>\n",
       "      <th>Michigan</th>\n",
       "      <td>March 24</td>\n",
       "      <td>May 28</td>\n",
       "    </tr>\n",
       "    <tr>\n",
       "      <th>Minnesota</th>\n",
       "      <td>March 27</td>\n",
       "      <td>May 19</td>\n",
       "    </tr>\n",
       "    <tr>\n",
       "      <th>Mississippi</th>\n",
       "      <td>April 3</td>\n",
       "      <td>April 27</td>\n",
       "    </tr>\n",
       "    <tr>\n",
       "      <th>Missouri</th>\n",
       "      <td>April 6</td>\n",
       "      <td>May 3</td>\n",
       "    </tr>\n",
       "    <tr>\n",
       "      <th>Montana</th>\n",
       "      <td>March 28</td>\n",
       "      <td>April 26</td>\n",
       "    </tr>\n",
       "    <tr>\n",
       "      <th>Nebraska</th>\n",
       "      <td>None</td>\n",
       "      <td>None</td>\n",
       "    </tr>\n",
       "    <tr>\n",
       "      <th>Nevada</th>\n",
       "      <td>April 1</td>\n",
       "      <td>May 15</td>\n",
       "    </tr>\n",
       "    <tr>\n",
       "      <th>New Hampshire</th>\n",
       "      <td>March 27</td>\n",
       "      <td>May 31</td>\n",
       "    </tr>\n",
       "    <tr>\n",
       "      <th>New Jersey</th>\n",
       "      <td>March 21</td>\n",
       "      <td>TBD</td>\n",
       "    </tr>\n",
       "    <tr>\n",
       "      <th>New Mexico</th>\n",
       "      <td>March 24</td>\n",
       "      <td>May 15</td>\n",
       "    </tr>\n",
       "    <tr>\n",
       "      <th>New York</th>\n",
       "      <td>March 20</td>\n",
       "      <td>May 15</td>\n",
       "    </tr>\n",
       "    <tr>\n",
       "      <th>North Carolina</th>\n",
       "      <td>March 30</td>\n",
       "      <td>May 22</td>\n",
       "    </tr>\n",
       "    <tr>\n",
       "      <th>North Dakota</th>\n",
       "      <td>None</td>\n",
       "      <td>None</td>\n",
       "    </tr>\n",
       "    <tr>\n",
       "      <th>Ohio</th>\n",
       "      <td>March 23</td>\n",
       "      <td>May 29</td>\n",
       "    </tr>\n",
       "    <tr>\n",
       "      <th>Oklahoma</th>\n",
       "      <td>April 1</td>\n",
       "      <td>May 6</td>\n",
       "    </tr>\n",
       "    <tr>\n",
       "      <th>Oregon</th>\n",
       "      <td>March 23</td>\n",
       "      <td>TBD</td>\n",
       "    </tr>\n",
       "    <tr>\n",
       "      <th>Pennsylvania</th>\n",
       "      <td>April 1</td>\n",
       "      <td>June 4</td>\n",
       "    </tr>\n",
       "    <tr>\n",
       "      <th>Rhode Island</th>\n",
       "      <td>March 28</td>\n",
       "      <td>May 8</td>\n",
       "    </tr>\n",
       "    <tr>\n",
       "      <th>South Carolina</th>\n",
       "      <td>April 7</td>\n",
       "      <td>May 4</td>\n",
       "    </tr>\n",
       "    <tr>\n",
       "      <th>South Dakota</th>\n",
       "      <td>None</td>\n",
       "      <td>None</td>\n",
       "    </tr>\n",
       "    <tr>\n",
       "      <th>Tennessee</th>\n",
       "      <td>March 31</td>\n",
       "      <td>April 30</td>\n",
       "    </tr>\n",
       "    <tr>\n",
       "      <th>Texas</th>\n",
       "      <td>April 2</td>\n",
       "      <td>April 30</td>\n",
       "    </tr>\n",
       "    <tr>\n",
       "      <th>Utah</th>\n",
       "      <td>None</td>\n",
       "      <td>None</td>\n",
       "    </tr>\n",
       "    <tr>\n",
       "      <th>Vermont</th>\n",
       "      <td>March 24</td>\n",
       "      <td>May 15</td>\n",
       "    </tr>\n",
       "    <tr>\n",
       "      <th>Virginia</th>\n",
       "      <td>March 30</td>\n",
       "      <td>June 10</td>\n",
       "    </tr>\n",
       "    <tr>\n",
       "      <th>Washington</th>\n",
       "      <td>March 24</td>\n",
       "      <td>May 31</td>\n",
       "    </tr>\n",
       "    <tr>\n",
       "      <th>West Virginia</th>\n",
       "      <td>March 24</td>\n",
       "      <td>TBD</td>\n",
       "    </tr>\n",
       "    <tr>\n",
       "      <th>Wisconsin</th>\n",
       "      <td>March 25</td>\n",
       "      <td>May 26</td>\n",
       "    </tr>\n",
       "    <tr>\n",
       "      <th>Wyoming</th>\n",
       "      <td>None</td>\n",
       "      <td>None</td>\n",
       "    </tr>\n",
       "  </tbody>\n",
       "</table>\n",
       "</div>"
      ],
      "text/plain": [
       "               startDate   endDate\n",
       "state                             \n",
       "Alabama          April 4  April 30\n",
       "Alaska          March 28  April 27\n",
       "Arizona         March 31    May 15\n",
       "Arkansas            None      None\n",
       "California      March 19       TBD\n",
       "Colorado        March 26  April 26\n",
       "Connecticut     March 23    May 20\n",
       "Delaware        March 24    May 15\n",
       "Florida          April 2     May 4\n",
       "Georgia          April 3  April 30\n",
       "Hawaii          March 25    May 31\n",
       "Idaho           March 25  April 30\n",
       "Illinois        March 21    May 30\n",
       "Indiana         March 24     May 1\n",
       "Iowa                None      None\n",
       "Kansas          March 30     May 3\n",
       "Kentucky        March 26       TBD\n",
       "Louisiana       March 23    May 15\n",
       "Maine            April 2    May 31\n",
       "Maryland        March 30       TBD\n",
       "Massachusetts   March 24    May 18\n",
       "Michigan        March 24    May 28\n",
       "Minnesota       March 27    May 19\n",
       "Mississippi      April 3  April 27\n",
       "Missouri         April 6     May 3\n",
       "Montana         March 28  April 26\n",
       "Nebraska            None      None\n",
       "Nevada           April 1    May 15\n",
       "New Hampshire   March 27    May 31\n",
       "New Jersey      March 21       TBD\n",
       "New Mexico      March 24    May 15\n",
       "New York        March 20    May 15\n",
       "North Carolina  March 30    May 22\n",
       "North Dakota        None      None\n",
       "Ohio            March 23    May 29\n",
       "Oklahoma         April 1     May 6\n",
       "Oregon          March 23       TBD\n",
       "Pennsylvania     April 1    June 4\n",
       "Rhode Island    March 28     May 8\n",
       "South Carolina   April 7     May 4\n",
       "South Dakota        None      None\n",
       "Tennessee       March 31  April 30\n",
       "Texas            April 2  April 30\n",
       "Utah                None      None\n",
       "Vermont         March 24    May 15\n",
       "Virginia        March 30   June 10\n",
       "Washington      March 24    May 31\n",
       "West Virginia   March 24       TBD\n",
       "Wisconsin       March 25    May 26\n",
       "Wyoming             None      None"
      ]
     },
     "execution_count": 255,
     "metadata": {},
     "output_type": "execute_result"
    }
   ],
   "source": [
    "policy_df= pd.read_csv('../Raw_data/policy.csv')\n",
    "policy_df.set_index('state',inplace=True)\n",
    "policy_df"
   ]
  },
  {
   "cell_type": "code",
   "execution_count": 256,
   "metadata": {},
   "outputs": [
    {
     "data": {
      "text/plain": [
       "Index(['Arkansas', 'Iowa', 'Nebraska', 'North Dakota', 'South Dakota', 'Utah',\n",
       "       'Wyoming'],\n",
       "      dtype='object', name='state')"
      ]
     },
     "execution_count": 256,
     "metadata": {},
     "output_type": "execute_result"
    }
   ],
   "source": [
    "no_policy = policy_df[(policy_df['startDate']=='None') & (policy_df['endDate']=='None')]\n",
    "no_policy.index"
   ]
  },
  {
   "cell_type": "code",
   "execution_count": 325,
   "metadata": {},
   "outputs": [
    {
     "data": {
      "text/html": [
       "<div>\n",
       "<style scoped>\n",
       "    .dataframe tbody tr th:only-of-type {\n",
       "        vertical-align: middle;\n",
       "    }\n",
       "\n",
       "    .dataframe tbody tr th {\n",
       "        vertical-align: top;\n",
       "    }\n",
       "\n",
       "    .dataframe thead th {\n",
       "        text-align: right;\n",
       "    }\n",
       "</style>\n",
       "<table border=\"1\" class=\"dataframe\">\n",
       "  <thead>\n",
       "    <tr style=\"text-align: right;\">\n",
       "      <th></th>\n",
       "      <th>startDate</th>\n",
       "      <th>endDate</th>\n",
       "    </tr>\n",
       "    <tr>\n",
       "      <th>state</th>\n",
       "      <th></th>\n",
       "      <th></th>\n",
       "    </tr>\n",
       "  </thead>\n",
       "  <tbody>\n",
       "    <tr>\n",
       "      <th>Alabama</th>\n",
       "      <td>April 4</td>\n",
       "      <td>April 30</td>\n",
       "    </tr>\n",
       "    <tr>\n",
       "      <th>Alaska</th>\n",
       "      <td>March 28</td>\n",
       "      <td>April 27</td>\n",
       "    </tr>\n",
       "    <tr>\n",
       "      <th>Arizona</th>\n",
       "      <td>March 31</td>\n",
       "      <td>May 15</td>\n",
       "    </tr>\n",
       "    <tr>\n",
       "      <th>California</th>\n",
       "      <td>March 19</td>\n",
       "      <td>TBD</td>\n",
       "    </tr>\n",
       "    <tr>\n",
       "      <th>Colorado</th>\n",
       "      <td>March 26</td>\n",
       "      <td>April 26</td>\n",
       "    </tr>\n",
       "    <tr>\n",
       "      <th>Connecticut</th>\n",
       "      <td>March 23</td>\n",
       "      <td>May 20</td>\n",
       "    </tr>\n",
       "    <tr>\n",
       "      <th>Delaware</th>\n",
       "      <td>March 24</td>\n",
       "      <td>May 15</td>\n",
       "    </tr>\n",
       "    <tr>\n",
       "      <th>Florida</th>\n",
       "      <td>April 2</td>\n",
       "      <td>May 4</td>\n",
       "    </tr>\n",
       "    <tr>\n",
       "      <th>Georgia</th>\n",
       "      <td>April 3</td>\n",
       "      <td>April 30</td>\n",
       "    </tr>\n",
       "    <tr>\n",
       "      <th>Hawaii</th>\n",
       "      <td>March 25</td>\n",
       "      <td>May 31</td>\n",
       "    </tr>\n",
       "    <tr>\n",
       "      <th>Idaho</th>\n",
       "      <td>March 25</td>\n",
       "      <td>April 30</td>\n",
       "    </tr>\n",
       "    <tr>\n",
       "      <th>Illinois</th>\n",
       "      <td>March 21</td>\n",
       "      <td>May 30</td>\n",
       "    </tr>\n",
       "    <tr>\n",
       "      <th>Indiana</th>\n",
       "      <td>March 24</td>\n",
       "      <td>May 1</td>\n",
       "    </tr>\n",
       "    <tr>\n",
       "      <th>Kansas</th>\n",
       "      <td>March 30</td>\n",
       "      <td>May 3</td>\n",
       "    </tr>\n",
       "    <tr>\n",
       "      <th>Kentucky</th>\n",
       "      <td>March 26</td>\n",
       "      <td>TBD</td>\n",
       "    </tr>\n",
       "    <tr>\n",
       "      <th>Louisiana</th>\n",
       "      <td>March 23</td>\n",
       "      <td>May 15</td>\n",
       "    </tr>\n",
       "    <tr>\n",
       "      <th>Maine</th>\n",
       "      <td>April 2</td>\n",
       "      <td>May 31</td>\n",
       "    </tr>\n",
       "    <tr>\n",
       "      <th>Maryland</th>\n",
       "      <td>March 30</td>\n",
       "      <td>TBD</td>\n",
       "    </tr>\n",
       "    <tr>\n",
       "      <th>Massachusetts</th>\n",
       "      <td>March 24</td>\n",
       "      <td>May 18</td>\n",
       "    </tr>\n",
       "    <tr>\n",
       "      <th>Michigan</th>\n",
       "      <td>March 24</td>\n",
       "      <td>May 28</td>\n",
       "    </tr>\n",
       "    <tr>\n",
       "      <th>Minnesota</th>\n",
       "      <td>March 27</td>\n",
       "      <td>May 19</td>\n",
       "    </tr>\n",
       "    <tr>\n",
       "      <th>Mississippi</th>\n",
       "      <td>April 3</td>\n",
       "      <td>April 27</td>\n",
       "    </tr>\n",
       "    <tr>\n",
       "      <th>Missouri</th>\n",
       "      <td>April 6</td>\n",
       "      <td>May 3</td>\n",
       "    </tr>\n",
       "    <tr>\n",
       "      <th>Montana</th>\n",
       "      <td>March 28</td>\n",
       "      <td>April 26</td>\n",
       "    </tr>\n",
       "    <tr>\n",
       "      <th>Nevada</th>\n",
       "      <td>April 1</td>\n",
       "      <td>May 15</td>\n",
       "    </tr>\n",
       "    <tr>\n",
       "      <th>New Hampshire</th>\n",
       "      <td>March 27</td>\n",
       "      <td>May 31</td>\n",
       "    </tr>\n",
       "    <tr>\n",
       "      <th>New Jersey</th>\n",
       "      <td>March 21</td>\n",
       "      <td>TBD</td>\n",
       "    </tr>\n",
       "    <tr>\n",
       "      <th>New Mexico</th>\n",
       "      <td>March 24</td>\n",
       "      <td>May 15</td>\n",
       "    </tr>\n",
       "    <tr>\n",
       "      <th>New York</th>\n",
       "      <td>March 20</td>\n",
       "      <td>May 15</td>\n",
       "    </tr>\n",
       "    <tr>\n",
       "      <th>North Carolina</th>\n",
       "      <td>March 30</td>\n",
       "      <td>May 22</td>\n",
       "    </tr>\n",
       "    <tr>\n",
       "      <th>Ohio</th>\n",
       "      <td>March 23</td>\n",
       "      <td>May 29</td>\n",
       "    </tr>\n",
       "    <tr>\n",
       "      <th>Oklahoma</th>\n",
       "      <td>April 1</td>\n",
       "      <td>May 6</td>\n",
       "    </tr>\n",
       "    <tr>\n",
       "      <th>Oregon</th>\n",
       "      <td>March 23</td>\n",
       "      <td>TBD</td>\n",
       "    </tr>\n",
       "    <tr>\n",
       "      <th>Pennsylvania</th>\n",
       "      <td>April 1</td>\n",
       "      <td>June 4</td>\n",
       "    </tr>\n",
       "    <tr>\n",
       "      <th>Rhode Island</th>\n",
       "      <td>March 28</td>\n",
       "      <td>May 8</td>\n",
       "    </tr>\n",
       "    <tr>\n",
       "      <th>South Carolina</th>\n",
       "      <td>April 7</td>\n",
       "      <td>May 4</td>\n",
       "    </tr>\n",
       "    <tr>\n",
       "      <th>Tennessee</th>\n",
       "      <td>March 31</td>\n",
       "      <td>April 30</td>\n",
       "    </tr>\n",
       "    <tr>\n",
       "      <th>Texas</th>\n",
       "      <td>April 2</td>\n",
       "      <td>April 30</td>\n",
       "    </tr>\n",
       "    <tr>\n",
       "      <th>Vermont</th>\n",
       "      <td>March 24</td>\n",
       "      <td>May 15</td>\n",
       "    </tr>\n",
       "    <tr>\n",
       "      <th>Virginia</th>\n",
       "      <td>March 30</td>\n",
       "      <td>June 10</td>\n",
       "    </tr>\n",
       "    <tr>\n",
       "      <th>Washington</th>\n",
       "      <td>March 24</td>\n",
       "      <td>May 31</td>\n",
       "    </tr>\n",
       "    <tr>\n",
       "      <th>West Virginia</th>\n",
       "      <td>March 24</td>\n",
       "      <td>TBD</td>\n",
       "    </tr>\n",
       "    <tr>\n",
       "      <th>Wisconsin</th>\n",
       "      <td>March 25</td>\n",
       "      <td>May 26</td>\n",
       "    </tr>\n",
       "  </tbody>\n",
       "</table>\n",
       "</div>"
      ],
      "text/plain": [
       "               startDate   endDate\n",
       "state                             \n",
       "Alabama          April 4  April 30\n",
       "Alaska          March 28  April 27\n",
       "Arizona         March 31    May 15\n",
       "California      March 19       TBD\n",
       "Colorado        March 26  April 26\n",
       "Connecticut     March 23    May 20\n",
       "Delaware        March 24    May 15\n",
       "Florida          April 2     May 4\n",
       "Georgia          April 3  April 30\n",
       "Hawaii          March 25    May 31\n",
       "Idaho           March 25  April 30\n",
       "Illinois        March 21    May 30\n",
       "Indiana         March 24     May 1\n",
       "Kansas          March 30     May 3\n",
       "Kentucky        March 26       TBD\n",
       "Louisiana       March 23    May 15\n",
       "Maine            April 2    May 31\n",
       "Maryland        March 30       TBD\n",
       "Massachusetts   March 24    May 18\n",
       "Michigan        March 24    May 28\n",
       "Minnesota       March 27    May 19\n",
       "Mississippi      April 3  April 27\n",
       "Missouri         April 6     May 3\n",
       "Montana         March 28  April 26\n",
       "Nevada           April 1    May 15\n",
       "New Hampshire   March 27    May 31\n",
       "New Jersey      March 21       TBD\n",
       "New Mexico      March 24    May 15\n",
       "New York        March 20    May 15\n",
       "North Carolina  March 30    May 22\n",
       "Ohio            March 23    May 29\n",
       "Oklahoma         April 1     May 6\n",
       "Oregon          March 23       TBD\n",
       "Pennsylvania     April 1    June 4\n",
       "Rhode Island    March 28     May 8\n",
       "South Carolina   April 7     May 4\n",
       "Tennessee       March 31  April 30\n",
       "Texas            April 2  April 30\n",
       "Vermont         March 24    May 15\n",
       "Virginia        March 30   June 10\n",
       "Washington      March 24    May 31\n",
       "West Virginia   March 24       TBD\n",
       "Wisconsin       March 25    May 26"
      ]
     },
     "execution_count": 325,
     "metadata": {},
     "output_type": "execute_result"
    }
   ],
   "source": [
    "start_df= policy_df[~(policy_df['startDate']=='None')].copy()\n",
    "start_df"
   ]
  },
  {
   "cell_type": "code",
   "execution_count": 326,
   "metadata": {},
   "outputs": [
    {
     "data": {
      "text/html": [
       "<div>\n",
       "<style scoped>\n",
       "    .dataframe tbody tr th:only-of-type {\n",
       "        vertical-align: middle;\n",
       "    }\n",
       "\n",
       "    .dataframe tbody tr th {\n",
       "        vertical-align: top;\n",
       "    }\n",
       "\n",
       "    .dataframe thead th {\n",
       "        text-align: right;\n",
       "    }\n",
       "</style>\n",
       "<table border=\"1\" class=\"dataframe\">\n",
       "  <thead>\n",
       "    <tr style=\"text-align: right;\">\n",
       "      <th></th>\n",
       "      <th>startDate</th>\n",
       "      <th>endDate</th>\n",
       "      <th>start_date</th>\n",
       "    </tr>\n",
       "    <tr>\n",
       "      <th>state</th>\n",
       "      <th></th>\n",
       "      <th></th>\n",
       "      <th></th>\n",
       "    </tr>\n",
       "  </thead>\n",
       "  <tbody>\n",
       "    <tr>\n",
       "      <th>Alabama</th>\n",
       "      <td>April 4</td>\n",
       "      <td>April 30</td>\n",
       "      <td>04-04</td>\n",
       "    </tr>\n",
       "    <tr>\n",
       "      <th>Alaska</th>\n",
       "      <td>March 28</td>\n",
       "      <td>April 27</td>\n",
       "      <td>03-28</td>\n",
       "    </tr>\n",
       "    <tr>\n",
       "      <th>Arizona</th>\n",
       "      <td>March 31</td>\n",
       "      <td>May 15</td>\n",
       "      <td>03-31</td>\n",
       "    </tr>\n",
       "    <tr>\n",
       "      <th>California</th>\n",
       "      <td>March 19</td>\n",
       "      <td>TBD</td>\n",
       "      <td>03-19</td>\n",
       "    </tr>\n",
       "    <tr>\n",
       "      <th>Colorado</th>\n",
       "      <td>March 26</td>\n",
       "      <td>April 26</td>\n",
       "      <td>03-26</td>\n",
       "    </tr>\n",
       "    <tr>\n",
       "      <th>Connecticut</th>\n",
       "      <td>March 23</td>\n",
       "      <td>May 20</td>\n",
       "      <td>03-23</td>\n",
       "    </tr>\n",
       "    <tr>\n",
       "      <th>Delaware</th>\n",
       "      <td>March 24</td>\n",
       "      <td>May 15</td>\n",
       "      <td>03-24</td>\n",
       "    </tr>\n",
       "    <tr>\n",
       "      <th>Florida</th>\n",
       "      <td>April 2</td>\n",
       "      <td>May 4</td>\n",
       "      <td>04-02</td>\n",
       "    </tr>\n",
       "    <tr>\n",
       "      <th>Georgia</th>\n",
       "      <td>April 3</td>\n",
       "      <td>April 30</td>\n",
       "      <td>04-03</td>\n",
       "    </tr>\n",
       "    <tr>\n",
       "      <th>Hawaii</th>\n",
       "      <td>March 25</td>\n",
       "      <td>May 31</td>\n",
       "      <td>03-25</td>\n",
       "    </tr>\n",
       "  </tbody>\n",
       "</table>\n",
       "</div>"
      ],
      "text/plain": [
       "            startDate   endDate start_date\n",
       "state                                     \n",
       "Alabama       April 4  April 30      04-04\n",
       "Alaska       March 28  April 27      03-28\n",
       "Arizona      March 31    May 15      03-31\n",
       "California   March 19       TBD      03-19\n",
       "Colorado     March 26  April 26      03-26\n",
       "Connecticut  March 23    May 20      03-23\n",
       "Delaware     March 24    May 15      03-24\n",
       "Florida       April 2     May 4      04-02\n",
       "Georgia       April 3  April 30      04-03\n",
       "Hawaii       March 25    May 31      03-25"
      ]
     },
     "execution_count": 326,
     "metadata": {},
     "output_type": "execute_result"
    }
   ],
   "source": [
    "start_df['start_date'] = pd.to_datetime(start_df['startDate'], format='%B %d')\n",
    "start_df['start_date'] = start_df['start_date'].apply(lambda x: x.strftime('%m-%d'))\n",
    "start_df.head(10)"
   ]
  },
  {
   "cell_type": "code",
   "execution_count": 333,
   "metadata": {},
   "outputs": [],
   "source": [
    "no_end_df = start_df[start_df['endDate'] == 'TBD'].drop(['startDate','start_date'],axis=1)\n",
    "no_end_df.columns=['end_date']"
   ]
  },
  {
   "cell_type": "code",
   "execution_count": 314,
   "metadata": {},
   "outputs": [],
   "source": [
    "with_end_df = start_df[~(start_df['endDate'] == 'TBD')].copy()\n",
    "with_end_df['end_date'] = pd.to_datetime(with_end_df['endDate'], format='%B %d')\n",
    "with_end_df['end_date'] = with_end_df['end_date'].apply(lambda x: x.strftime('%m-%d'))"
   ]
  },
  {
   "cell_type": "code",
   "execution_count": 315,
   "metadata": {},
   "outputs": [
    {
     "data": {
      "text/html": [
       "<div>\n",
       "<style scoped>\n",
       "    .dataframe tbody tr th:only-of-type {\n",
       "        vertical-align: middle;\n",
       "    }\n",
       "\n",
       "    .dataframe tbody tr th {\n",
       "        vertical-align: top;\n",
       "    }\n",
       "\n",
       "    .dataframe thead th {\n",
       "        text-align: right;\n",
       "    }\n",
       "</style>\n",
       "<table border=\"1\" class=\"dataframe\">\n",
       "  <thead>\n",
       "    <tr style=\"text-align: right;\">\n",
       "      <th></th>\n",
       "      <th>startDate</th>\n",
       "      <th>endDate</th>\n",
       "      <th>start_date</th>\n",
       "      <th>end_date</th>\n",
       "    </tr>\n",
       "    <tr>\n",
       "      <th>state</th>\n",
       "      <th></th>\n",
       "      <th></th>\n",
       "      <th></th>\n",
       "      <th></th>\n",
       "    </tr>\n",
       "  </thead>\n",
       "  <tbody>\n",
       "    <tr>\n",
       "      <th>Alabama</th>\n",
       "      <td>April 4</td>\n",
       "      <td>April 30</td>\n",
       "      <td>04-04</td>\n",
       "      <td>04-30</td>\n",
       "    </tr>\n",
       "    <tr>\n",
       "      <th>Alaska</th>\n",
       "      <td>March 28</td>\n",
       "      <td>April 27</td>\n",
       "      <td>03-28</td>\n",
       "      <td>04-27</td>\n",
       "    </tr>\n",
       "    <tr>\n",
       "      <th>Arizona</th>\n",
       "      <td>March 31</td>\n",
       "      <td>May 15</td>\n",
       "      <td>03-31</td>\n",
       "      <td>05-15</td>\n",
       "    </tr>\n",
       "    <tr>\n",
       "      <th>Colorado</th>\n",
       "      <td>March 26</td>\n",
       "      <td>April 26</td>\n",
       "      <td>03-26</td>\n",
       "      <td>04-26</td>\n",
       "    </tr>\n",
       "    <tr>\n",
       "      <th>Connecticut</th>\n",
       "      <td>March 23</td>\n",
       "      <td>May 20</td>\n",
       "      <td>03-23</td>\n",
       "      <td>05-20</td>\n",
       "    </tr>\n",
       "    <tr>\n",
       "      <th>Delaware</th>\n",
       "      <td>March 24</td>\n",
       "      <td>May 15</td>\n",
       "      <td>03-24</td>\n",
       "      <td>05-15</td>\n",
       "    </tr>\n",
       "    <tr>\n",
       "      <th>Florida</th>\n",
       "      <td>April 2</td>\n",
       "      <td>May 4</td>\n",
       "      <td>04-02</td>\n",
       "      <td>05-04</td>\n",
       "    </tr>\n",
       "    <tr>\n",
       "      <th>Georgia</th>\n",
       "      <td>April 3</td>\n",
       "      <td>April 30</td>\n",
       "      <td>04-03</td>\n",
       "      <td>04-30</td>\n",
       "    </tr>\n",
       "    <tr>\n",
       "      <th>Hawaii</th>\n",
       "      <td>March 25</td>\n",
       "      <td>May 31</td>\n",
       "      <td>03-25</td>\n",
       "      <td>05-31</td>\n",
       "    </tr>\n",
       "    <tr>\n",
       "      <th>Idaho</th>\n",
       "      <td>March 25</td>\n",
       "      <td>April 30</td>\n",
       "      <td>03-25</td>\n",
       "      <td>04-30</td>\n",
       "    </tr>\n",
       "  </tbody>\n",
       "</table>\n",
       "</div>"
      ],
      "text/plain": [
       "            startDate   endDate start_date end_date\n",
       "state                                              \n",
       "Alabama       April 4  April 30      04-04    04-30\n",
       "Alaska       March 28  April 27      03-28    04-27\n",
       "Arizona      March 31    May 15      03-31    05-15\n",
       "Colorado     March 26  April 26      03-26    04-26\n",
       "Connecticut  March 23    May 20      03-23    05-20\n",
       "Delaware     March 24    May 15      03-24    05-15\n",
       "Florida       April 2     May 4      04-02    05-04\n",
       "Georgia       April 3  April 30      04-03    04-30\n",
       "Hawaii       March 25    May 31      03-25    05-31\n",
       "Idaho        March 25  April 30      03-25    04-30"
      ]
     },
     "execution_count": 315,
     "metadata": {},
     "output_type": "execute_result"
    }
   ],
   "source": [
    "with_end_df.head(10)"
   ]
  },
  {
   "cell_type": "code",
   "execution_count": 318,
   "metadata": {},
   "outputs": [
    {
     "data": {
      "text/html": [
       "<div>\n",
       "<style scoped>\n",
       "    .dataframe tbody tr th:only-of-type {\n",
       "        vertical-align: middle;\n",
       "    }\n",
       "\n",
       "    .dataframe tbody tr th {\n",
       "        vertical-align: top;\n",
       "    }\n",
       "\n",
       "    .dataframe thead th {\n",
       "        text-align: right;\n",
       "    }\n",
       "</style>\n",
       "<table border=\"1\" class=\"dataframe\">\n",
       "  <thead>\n",
       "    <tr style=\"text-align: right;\">\n",
       "      <th></th>\n",
       "      <th>state</th>\n",
       "      <th>start_date</th>\n",
       "    </tr>\n",
       "  </thead>\n",
       "  <tbody>\n",
       "    <tr>\n",
       "      <th>3</th>\n",
       "      <td>California</td>\n",
       "      <td>03-19</td>\n",
       "    </tr>\n",
       "    <tr>\n",
       "      <th>28</th>\n",
       "      <td>New York</td>\n",
       "      <td>03-20</td>\n",
       "    </tr>\n",
       "    <tr>\n",
       "      <th>26</th>\n",
       "      <td>New Jersey</td>\n",
       "      <td>03-21</td>\n",
       "    </tr>\n",
       "    <tr>\n",
       "      <th>11</th>\n",
       "      <td>Illinois</td>\n",
       "      <td>03-21</td>\n",
       "    </tr>\n",
       "    <tr>\n",
       "      <th>32</th>\n",
       "      <td>Oregon</td>\n",
       "      <td>03-23</td>\n",
       "    </tr>\n",
       "  </tbody>\n",
       "</table>\n",
       "</div>"
      ],
      "text/plain": [
       "         state start_date\n",
       "3   California      03-19\n",
       "28    New York      03-20\n",
       "26  New Jersey      03-21\n",
       "11    Illinois      03-21\n",
       "32      Oregon      03-23"
      ]
     },
     "execution_count": 318,
     "metadata": {},
     "output_type": "execute_result"
    }
   ],
   "source": [
    "start_map = start_df.drop(['startDate','endDate'] ,axis=1)\n",
    "start_map.reset_index(inplace = True)\n",
    "start_map = start_map.sort_values(['start_date'])\n",
    "start_map.head(5)"
   ]
  },
  {
   "cell_type": "code",
   "execution_count": 319,
   "metadata": {},
   "outputs": [],
   "source": [
    "state_codes = {\n",
    "    'District of Columbia' : 'dc','Mississippi': 'MS', 'Oklahoma': 'OK', \n",
    "    'Delaware': 'DE', 'Minnesota': 'MN', 'Illinois': 'IL', 'Arkansas': 'AR', \n",
    "    'New Mexico': 'NM', 'Indiana': 'IN', 'Maryland': 'MD', 'Louisiana': 'LA', \n",
    "    'Idaho': 'ID', 'Wyoming': 'WY', 'Tennessee': 'TN', 'Arizona': 'AZ', \n",
    "    'Iowa': 'IA', 'Michigan': 'MI', 'Kansas': 'KS', 'Utah': 'UT', \n",
    "    'Virginia': 'VA', 'Oregon': 'OR', 'Connecticut': 'CT', 'Montana': 'MT', \n",
    "    'California': 'CA', 'Massachusetts': 'MA', 'West Virginia': 'WV', \n",
    "    'South Carolina': 'SC', 'New Hampshire': 'NH', 'Wisconsin': 'WI',\n",
    "    'Vermont': 'VT', 'Georgia': 'GA', 'North Dakota': 'ND', \n",
    "    'Pennsylvania': 'PA', 'Florida': 'FL', 'Alaska': 'AK', 'Kentucky': 'KY', \n",
    "    'Hawaii': 'HI', 'Nebraska': 'NE', 'Missouri': 'MO', 'Ohio': 'OH', \n",
    "    'Alabama': 'AL', 'Rhode Island': 'RI', 'South Dakota': 'SD', \n",
    "    'Colorado': 'CO', 'New Jersey': 'NJ', 'Washington': 'WA', \n",
    "    'North Carolina': 'NC', 'New York': 'NY', 'Texas': 'TX', \n",
    "    'Nevada': 'NV', 'Maine': 'ME'}\n",
    "\n",
    "start_map['state_code'] = start_map['state'].apply(lambda x : state_codes[x])"
   ]
  },
  {
   "cell_type": "code",
   "execution_count": 320,
   "metadata": {},
   "outputs": [
    {
     "data": {
      "application/vnd.plotly.v1+json": {
       "config": {
        "plotlyServerURL": "https://plot.ly"
       },
       "data": [
        {
         "colorscale": [
          [
           0,
           "#ffffff"
          ],
          [
           1,
           "#ffffff"
          ]
         ],
         "geo": "geo",
         "hovertemplate": "<b>%{hovertext}</b><br><br>start_date=03-19<br>state_code=%{location}<extra></extra>",
         "hovertext": [
          "California"
         ],
         "locationmode": "USA-states",
         "locations": [
          "CA"
         ],
         "name": "03-19",
         "showlegend": true,
         "showscale": false,
         "type": "choropleth",
         "z": [
          1
         ]
        },
        {
         "colorscale": [
          [
           0,
           "#eef2f6"
          ],
          [
           1,
           "#eef2f6"
          ]
         ],
         "geo": "geo",
         "hovertemplate": "<b>%{hovertext}</b><br><br>start_date=03-20<br>state_code=%{location}<extra></extra>",
         "hovertext": [
          "New York"
         ],
         "locationmode": "USA-states",
         "locations": [
          "NY"
         ],
         "name": "03-20",
         "showlegend": true,
         "showscale": false,
         "type": "choropleth",
         "z": [
          1
         ]
        },
        {
         "colorscale": [
          [
           0,
           "#dde4ee"
          ],
          [
           1,
           "#dde4ee"
          ]
         ],
         "geo": "geo",
         "hovertemplate": "<b>%{hovertext}</b><br><br>start_date=03-21<br>state_code=%{location}<extra></extra>",
         "hovertext": [
          "New Jersey",
          "Illinois"
         ],
         "locationmode": "USA-states",
         "locations": [
          "NJ",
          "IL"
         ],
         "name": "03-21",
         "showlegend": true,
         "showscale": false,
         "type": "choropleth",
         "z": [
          1,
          1
         ]
        },
        {
         "colorscale": [
          [
           0,
           "#cdd7e5"
          ],
          [
           1,
           "#cdd7e5"
          ]
         ],
         "geo": "geo",
         "hovertemplate": "<b>%{hovertext}</b><br><br>start_date=03-23<br>state_code=%{location}<extra></extra>",
         "hovertext": [
          "Oregon",
          "Ohio",
          "Connecticut",
          "Louisiana"
         ],
         "locationmode": "USA-states",
         "locations": [
          "OR",
          "OH",
          "CT",
          "LA"
         ],
         "name": "03-23",
         "showlegend": true,
         "showscale": false,
         "type": "choropleth",
         "z": [
          1,
          1,
          1,
          1
         ]
        },
        {
         "colorscale": [
          [
           0,
           "#bccadc"
          ],
          [
           1,
           "#bccadc"
          ]
         ],
         "geo": "geo",
         "hovertemplate": "<b>%{hovertext}</b><br><br>start_date=03-24<br>state_code=%{location}<extra></extra>",
         "hovertext": [
          "Massachusetts",
          "Vermont",
          "Delaware",
          "Washington",
          "New Mexico",
          "Indiana",
          "West Virginia",
          "Michigan"
         ],
         "locationmode": "USA-states",
         "locations": [
          "MA",
          "VT",
          "DE",
          "WA",
          "NM",
          "IN",
          "WV",
          "MI"
         ],
         "name": "03-24",
         "showlegend": true,
         "showscale": false,
         "type": "choropleth",
         "z": [
          1,
          1,
          1,
          1,
          1,
          1,
          1,
          1
         ]
        },
        {
         "colorscale": [
          [
           0,
           "#abbdd4"
          ],
          [
           1,
           "#abbdd4"
          ]
         ],
         "geo": "geo",
         "hovertemplate": "<b>%{hovertext}</b><br><br>start_date=03-25<br>state_code=%{location}<extra></extra>",
         "hovertext": [
          "Wisconsin",
          "Hawaii",
          "Idaho"
         ],
         "locationmode": "USA-states",
         "locations": [
          "WI",
          "HI",
          "ID"
         ],
         "name": "03-25",
         "showlegend": true,
         "showscale": false,
         "type": "choropleth",
         "z": [
          1,
          1,
          1
         ]
        },
        {
         "colorscale": [
          [
           0,
           "#9aafcb"
          ],
          [
           1,
           "#9aafcb"
          ]
         ],
         "geo": "geo",
         "hovertemplate": "<b>%{hovertext}</b><br><br>start_date=03-26<br>state_code=%{location}<extra></extra>",
         "hovertext": [
          "Kentucky",
          "Colorado"
         ],
         "locationmode": "USA-states",
         "locations": [
          "KY",
          "CO"
         ],
         "name": "03-26",
         "showlegend": true,
         "showscale": false,
         "type": "choropleth",
         "z": [
          1,
          1
         ]
        },
        {
         "colorscale": [
          [
           0,
           "#89a2c2"
          ],
          [
           1,
           "#89a2c2"
          ]
         ],
         "geo": "geo",
         "hovertemplate": "<b>%{hovertext}</b><br><br>start_date=03-27<br>state_code=%{location}<extra></extra>",
         "hovertext": [
          "Minnesota",
          "New Hampshire"
         ],
         "locationmode": "USA-states",
         "locations": [
          "MN",
          "NH"
         ],
         "name": "03-27",
         "showlegend": true,
         "showscale": false,
         "type": "choropleth",
         "z": [
          1,
          1
         ]
        },
        {
         "colorscale": [
          [
           0,
           "#7895ba"
          ],
          [
           1,
           "#7895ba"
          ]
         ],
         "geo": "geo",
         "hovertemplate": "<b>%{hovertext}</b><br><br>start_date=03-28<br>state_code=%{location}<extra></extra>",
         "hovertext": [
          "Alaska",
          "Rhode Island",
          "Montana"
         ],
         "locationmode": "USA-states",
         "locations": [
          "AK",
          "RI",
          "MT"
         ],
         "name": "03-28",
         "showlegend": true,
         "showscale": false,
         "type": "choropleth",
         "z": [
          1,
          1,
          1
         ]
        },
        {
         "colorscale": [
          [
           0,
           "#6887b1"
          ],
          [
           1,
           "#6887b1"
          ]
         ],
         "geo": "geo",
         "hovertemplate": "<b>%{hovertext}</b><br><br>start_date=03-30<br>state_code=%{location}<extra></extra>",
         "hovertext": [
          "North Carolina",
          "Maryland",
          "Virginia",
          "Kansas"
         ],
         "locationmode": "USA-states",
         "locations": [
          "NC",
          "MD",
          "VA",
          "KS"
         ],
         "name": "03-30",
         "showlegend": true,
         "showscale": false,
         "type": "choropleth",
         "z": [
          1,
          1,
          1,
          1
         ]
        },
        {
         "colorscale": [
          [
           0,
           "#577aa8"
          ],
          [
           1,
           "#577aa8"
          ]
         ],
         "geo": "geo",
         "hovertemplate": "<b>%{hovertext}</b><br><br>start_date=03-31<br>state_code=%{location}<extra></extra>",
         "hovertext": [
          "Arizona",
          "Tennessee"
         ],
         "locationmode": "USA-states",
         "locations": [
          "AZ",
          "TN"
         ],
         "name": "03-31",
         "showlegend": true,
         "showscale": false,
         "type": "choropleth",
         "z": [
          1,
          1
         ]
        },
        {
         "colorscale": [
          [
           0,
           "#4e6e97"
          ],
          [
           1,
           "#4e6e97"
          ]
         ],
         "geo": "geo",
         "hovertemplate": "<b>%{hovertext}</b><br><br>start_date=04-01<br>state_code=%{location}<extra></extra>",
         "hovertext": [
          "Nevada",
          "Oklahoma",
          "Pennsylvania"
         ],
         "locationmode": "USA-states",
         "locations": [
          "NV",
          "OK",
          "PA"
         ],
         "name": "04-01",
         "showlegend": true,
         "showscale": false,
         "type": "choropleth",
         "z": [
          1,
          1,
          1
         ]
        },
        {
         "colorscale": [
          [
           0,
           "#4c6a92"
          ],
          [
           1,
           "#4c6a92"
          ]
         ],
         "geo": "geo",
         "hovertemplate": "<b>%{hovertext}</b><br><br>start_date=04-02<br>state_code=%{location}<extra></extra>",
         "hovertext": [
          "Florida",
          "Maine",
          "Texas"
         ],
         "locationmode": "USA-states",
         "locations": [
          "FL",
          "ME",
          "TX"
         ],
         "name": "04-02",
         "showlegend": true,
         "showscale": false,
         "type": "choropleth",
         "z": [
          1,
          1,
          1
         ]
        },
        {
         "colorscale": [
          [
           0,
           "#456287"
          ],
          [
           1,
           "#456287"
          ]
         ],
         "geo": "geo",
         "hovertemplate": "<b>%{hovertext}</b><br><br>start_date=04-03<br>state_code=%{location}<extra></extra>",
         "hovertext": [
          "Mississippi",
          "Georgia"
         ],
         "locationmode": "USA-states",
         "locations": [
          "MS",
          "GA"
         ],
         "name": "04-03",
         "showlegend": true,
         "showscale": false,
         "type": "choropleth",
         "z": [
          1,
          1
         ]
        },
        {
         "colorscale": [
          [
           0,
           "#3d5576"
          ],
          [
           1,
           "#3d5576"
          ]
         ],
         "geo": "geo",
         "hovertemplate": "<b>%{hovertext}</b><br><br>start_date=04-04<br>state_code=%{location}<extra></extra>",
         "hovertext": [
          "Alabama"
         ],
         "locationmode": "USA-states",
         "locations": [
          "AL"
         ],
         "name": "04-04",
         "showlegend": true,
         "showscale": false,
         "type": "choropleth",
         "z": [
          1
         ]
        },
        {
         "colorscale": [
          [
           0,
           "#344965"
          ],
          [
           1,
           "#344965"
          ]
         ],
         "geo": "geo",
         "hovertemplate": "<b>%{hovertext}</b><br><br>start_date=04-06<br>state_code=%{location}<extra></extra>",
         "hovertext": [
          "Missouri"
         ],
         "locationmode": "USA-states",
         "locations": [
          "MO"
         ],
         "name": "04-06",
         "showlegend": true,
         "showscale": false,
         "type": "choropleth",
         "z": [
          1
         ]
        },
        {
         "colorscale": [
          [
           0,
           "#2b3d54"
          ],
          [
           1,
           "#2b3d54"
          ]
         ],
         "geo": "geo",
         "hovertemplate": "<b>%{hovertext}</b><br><br>start_date=04-07<br>state_code=%{location}<extra></extra>",
         "hovertext": [
          "South Carolina"
         ],
         "locationmode": "USA-states",
         "locations": [
          "SC"
         ],
         "name": "04-07",
         "showlegend": true,
         "showscale": false,
         "type": "choropleth",
         "z": [
          1
         ]
        }
       ],
       "layout": {
        "geo": {
         "center": {},
         "domain": {
          "x": [
           0,
           1
          ],
          "y": [
           0,
           1
          ]
         },
         "resolution": 110,
         "scope": "usa"
        },
        "legend": {
         "title": {
          "text": "start_date"
         },
         "tracegroupgap": 0
        },
        "template": {
         "data": {
          "bar": [
           {
            "error_x": {
             "color": "#2a3f5f"
            },
            "error_y": {
             "color": "#2a3f5f"
            },
            "marker": {
             "line": {
              "color": "#E5ECF6",
              "width": 0.5
             }
            },
            "type": "bar"
           }
          ],
          "barpolar": [
           {
            "marker": {
             "line": {
              "color": "#E5ECF6",
              "width": 0.5
             }
            },
            "type": "barpolar"
           }
          ],
          "carpet": [
           {
            "aaxis": {
             "endlinecolor": "#2a3f5f",
             "gridcolor": "white",
             "linecolor": "white",
             "minorgridcolor": "white",
             "startlinecolor": "#2a3f5f"
            },
            "baxis": {
             "endlinecolor": "#2a3f5f",
             "gridcolor": "white",
             "linecolor": "white",
             "minorgridcolor": "white",
             "startlinecolor": "#2a3f5f"
            },
            "type": "carpet"
           }
          ],
          "choropleth": [
           {
            "colorbar": {
             "outlinewidth": 0,
             "ticks": ""
            },
            "type": "choropleth"
           }
          ],
          "contour": [
           {
            "colorbar": {
             "outlinewidth": 0,
             "ticks": ""
            },
            "colorscale": [
             [
              0,
              "#0d0887"
             ],
             [
              0.1111111111111111,
              "#46039f"
             ],
             [
              0.2222222222222222,
              "#7201a8"
             ],
             [
              0.3333333333333333,
              "#9c179e"
             ],
             [
              0.4444444444444444,
              "#bd3786"
             ],
             [
              0.5555555555555556,
              "#d8576b"
             ],
             [
              0.6666666666666666,
              "#ed7953"
             ],
             [
              0.7777777777777778,
              "#fb9f3a"
             ],
             [
              0.8888888888888888,
              "#fdca26"
             ],
             [
              1,
              "#f0f921"
             ]
            ],
            "type": "contour"
           }
          ],
          "contourcarpet": [
           {
            "colorbar": {
             "outlinewidth": 0,
             "ticks": ""
            },
            "type": "contourcarpet"
           }
          ],
          "heatmap": [
           {
            "colorbar": {
             "outlinewidth": 0,
             "ticks": ""
            },
            "colorscale": [
             [
              0,
              "#0d0887"
             ],
             [
              0.1111111111111111,
              "#46039f"
             ],
             [
              0.2222222222222222,
              "#7201a8"
             ],
             [
              0.3333333333333333,
              "#9c179e"
             ],
             [
              0.4444444444444444,
              "#bd3786"
             ],
             [
              0.5555555555555556,
              "#d8576b"
             ],
             [
              0.6666666666666666,
              "#ed7953"
             ],
             [
              0.7777777777777778,
              "#fb9f3a"
             ],
             [
              0.8888888888888888,
              "#fdca26"
             ],
             [
              1,
              "#f0f921"
             ]
            ],
            "type": "heatmap"
           }
          ],
          "heatmapgl": [
           {
            "colorbar": {
             "outlinewidth": 0,
             "ticks": ""
            },
            "colorscale": [
             [
              0,
              "#0d0887"
             ],
             [
              0.1111111111111111,
              "#46039f"
             ],
             [
              0.2222222222222222,
              "#7201a8"
             ],
             [
              0.3333333333333333,
              "#9c179e"
             ],
             [
              0.4444444444444444,
              "#bd3786"
             ],
             [
              0.5555555555555556,
              "#d8576b"
             ],
             [
              0.6666666666666666,
              "#ed7953"
             ],
             [
              0.7777777777777778,
              "#fb9f3a"
             ],
             [
              0.8888888888888888,
              "#fdca26"
             ],
             [
              1,
              "#f0f921"
             ]
            ],
            "type": "heatmapgl"
           }
          ],
          "histogram": [
           {
            "marker": {
             "colorbar": {
              "outlinewidth": 0,
              "ticks": ""
             }
            },
            "type": "histogram"
           }
          ],
          "histogram2d": [
           {
            "colorbar": {
             "outlinewidth": 0,
             "ticks": ""
            },
            "colorscale": [
             [
              0,
              "#0d0887"
             ],
             [
              0.1111111111111111,
              "#46039f"
             ],
             [
              0.2222222222222222,
              "#7201a8"
             ],
             [
              0.3333333333333333,
              "#9c179e"
             ],
             [
              0.4444444444444444,
              "#bd3786"
             ],
             [
              0.5555555555555556,
              "#d8576b"
             ],
             [
              0.6666666666666666,
              "#ed7953"
             ],
             [
              0.7777777777777778,
              "#fb9f3a"
             ],
             [
              0.8888888888888888,
              "#fdca26"
             ],
             [
              1,
              "#f0f921"
             ]
            ],
            "type": "histogram2d"
           }
          ],
          "histogram2dcontour": [
           {
            "colorbar": {
             "outlinewidth": 0,
             "ticks": ""
            },
            "colorscale": [
             [
              0,
              "#0d0887"
             ],
             [
              0.1111111111111111,
              "#46039f"
             ],
             [
              0.2222222222222222,
              "#7201a8"
             ],
             [
              0.3333333333333333,
              "#9c179e"
             ],
             [
              0.4444444444444444,
              "#bd3786"
             ],
             [
              0.5555555555555556,
              "#d8576b"
             ],
             [
              0.6666666666666666,
              "#ed7953"
             ],
             [
              0.7777777777777778,
              "#fb9f3a"
             ],
             [
              0.8888888888888888,
              "#fdca26"
             ],
             [
              1,
              "#f0f921"
             ]
            ],
            "type": "histogram2dcontour"
           }
          ],
          "mesh3d": [
           {
            "colorbar": {
             "outlinewidth": 0,
             "ticks": ""
            },
            "type": "mesh3d"
           }
          ],
          "parcoords": [
           {
            "line": {
             "colorbar": {
              "outlinewidth": 0,
              "ticks": ""
             }
            },
            "type": "parcoords"
           }
          ],
          "pie": [
           {
            "automargin": true,
            "type": "pie"
           }
          ],
          "scatter": [
           {
            "marker": {
             "colorbar": {
              "outlinewidth": 0,
              "ticks": ""
             }
            },
            "type": "scatter"
           }
          ],
          "scatter3d": [
           {
            "line": {
             "colorbar": {
              "outlinewidth": 0,
              "ticks": ""
             }
            },
            "marker": {
             "colorbar": {
              "outlinewidth": 0,
              "ticks": ""
             }
            },
            "type": "scatter3d"
           }
          ],
          "scattercarpet": [
           {
            "marker": {
             "colorbar": {
              "outlinewidth": 0,
              "ticks": ""
             }
            },
            "type": "scattercarpet"
           }
          ],
          "scattergeo": [
           {
            "marker": {
             "colorbar": {
              "outlinewidth": 0,
              "ticks": ""
             }
            },
            "type": "scattergeo"
           }
          ],
          "scattergl": [
           {
            "marker": {
             "colorbar": {
              "outlinewidth": 0,
              "ticks": ""
             }
            },
            "type": "scattergl"
           }
          ],
          "scattermapbox": [
           {
            "marker": {
             "colorbar": {
              "outlinewidth": 0,
              "ticks": ""
             }
            },
            "type": "scattermapbox"
           }
          ],
          "scatterpolar": [
           {
            "marker": {
             "colorbar": {
              "outlinewidth": 0,
              "ticks": ""
             }
            },
            "type": "scatterpolar"
           }
          ],
          "scatterpolargl": [
           {
            "marker": {
             "colorbar": {
              "outlinewidth": 0,
              "ticks": ""
             }
            },
            "type": "scatterpolargl"
           }
          ],
          "scatterternary": [
           {
            "marker": {
             "colorbar": {
              "outlinewidth": 0,
              "ticks": ""
             }
            },
            "type": "scatterternary"
           }
          ],
          "surface": [
           {
            "colorbar": {
             "outlinewidth": 0,
             "ticks": ""
            },
            "colorscale": [
             [
              0,
              "#0d0887"
             ],
             [
              0.1111111111111111,
              "#46039f"
             ],
             [
              0.2222222222222222,
              "#7201a8"
             ],
             [
              0.3333333333333333,
              "#9c179e"
             ],
             [
              0.4444444444444444,
              "#bd3786"
             ],
             [
              0.5555555555555556,
              "#d8576b"
             ],
             [
              0.6666666666666666,
              "#ed7953"
             ],
             [
              0.7777777777777778,
              "#fb9f3a"
             ],
             [
              0.8888888888888888,
              "#fdca26"
             ],
             [
              1,
              "#f0f921"
             ]
            ],
            "type": "surface"
           }
          ],
          "table": [
           {
            "cells": {
             "fill": {
              "color": "#EBF0F8"
             },
             "line": {
              "color": "white"
             }
            },
            "header": {
             "fill": {
              "color": "#C8D4E3"
             },
             "line": {
              "color": "white"
             }
            },
            "type": "table"
           }
          ]
         },
         "layout": {
          "annotationdefaults": {
           "arrowcolor": "#2a3f5f",
           "arrowhead": 0,
           "arrowwidth": 1
          },
          "coloraxis": {
           "colorbar": {
            "outlinewidth": 0,
            "ticks": ""
           }
          },
          "colorscale": {
           "diverging": [
            [
             0,
             "#8e0152"
            ],
            [
             0.1,
             "#c51b7d"
            ],
            [
             0.2,
             "#de77ae"
            ],
            [
             0.3,
             "#f1b6da"
            ],
            [
             0.4,
             "#fde0ef"
            ],
            [
             0.5,
             "#f7f7f7"
            ],
            [
             0.6,
             "#e6f5d0"
            ],
            [
             0.7,
             "#b8e186"
            ],
            [
             0.8,
             "#7fbc41"
            ],
            [
             0.9,
             "#4d9221"
            ],
            [
             1,
             "#276419"
            ]
           ],
           "sequential": [
            [
             0,
             "#0d0887"
            ],
            [
             0.1111111111111111,
             "#46039f"
            ],
            [
             0.2222222222222222,
             "#7201a8"
            ],
            [
             0.3333333333333333,
             "#9c179e"
            ],
            [
             0.4444444444444444,
             "#bd3786"
            ],
            [
             0.5555555555555556,
             "#d8576b"
            ],
            [
             0.6666666666666666,
             "#ed7953"
            ],
            [
             0.7777777777777778,
             "#fb9f3a"
            ],
            [
             0.8888888888888888,
             "#fdca26"
            ],
            [
             1,
             "#f0f921"
            ]
           ],
           "sequentialminus": [
            [
             0,
             "#0d0887"
            ],
            [
             0.1111111111111111,
             "#46039f"
            ],
            [
             0.2222222222222222,
             "#7201a8"
            ],
            [
             0.3333333333333333,
             "#9c179e"
            ],
            [
             0.4444444444444444,
             "#bd3786"
            ],
            [
             0.5555555555555556,
             "#d8576b"
            ],
            [
             0.6666666666666666,
             "#ed7953"
            ],
            [
             0.7777777777777778,
             "#fb9f3a"
            ],
            [
             0.8888888888888888,
             "#fdca26"
            ],
            [
             1,
             "#f0f921"
            ]
           ]
          },
          "colorway": [
           "#636efa",
           "#EF553B",
           "#00cc96",
           "#ab63fa",
           "#FFA15A",
           "#19d3f3",
           "#FF6692",
           "#B6E880",
           "#FF97FF",
           "#FECB52"
          ],
          "font": {
           "color": "#2a3f5f"
          },
          "geo": {
           "bgcolor": "white",
           "lakecolor": "white",
           "landcolor": "#E5ECF6",
           "showlakes": true,
           "showland": true,
           "subunitcolor": "white"
          },
          "hoverlabel": {
           "align": "left"
          },
          "hovermode": "closest",
          "mapbox": {
           "style": "light"
          },
          "paper_bgcolor": "white",
          "plot_bgcolor": "#E5ECF6",
          "polar": {
           "angularaxis": {
            "gridcolor": "white",
            "linecolor": "white",
            "ticks": ""
           },
           "bgcolor": "#E5ECF6",
           "radialaxis": {
            "gridcolor": "white",
            "linecolor": "white",
            "ticks": ""
           }
          },
          "scene": {
           "xaxis": {
            "backgroundcolor": "#E5ECF6",
            "gridcolor": "white",
            "gridwidth": 2,
            "linecolor": "white",
            "showbackground": true,
            "ticks": "",
            "zerolinecolor": "white"
           },
           "yaxis": {
            "backgroundcolor": "#E5ECF6",
            "gridcolor": "white",
            "gridwidth": 2,
            "linecolor": "white",
            "showbackground": true,
            "ticks": "",
            "zerolinecolor": "white"
           },
           "zaxis": {
            "backgroundcolor": "#E5ECF6",
            "gridcolor": "white",
            "gridwidth": 2,
            "linecolor": "white",
            "showbackground": true,
            "ticks": "",
            "zerolinecolor": "white"
           }
          },
          "shapedefaults": {
           "line": {
            "color": "#2a3f5f"
           }
          },
          "ternary": {
           "aaxis": {
            "gridcolor": "white",
            "linecolor": "white",
            "ticks": ""
           },
           "baxis": {
            "gridcolor": "white",
            "linecolor": "white",
            "ticks": ""
           },
           "bgcolor": "#E5ECF6",
           "caxis": {
            "gridcolor": "white",
            "linecolor": "white",
            "ticks": ""
           }
          },
          "title": {
           "x": 0.05
          },
          "xaxis": {
           "automargin": true,
           "gridcolor": "white",
           "linecolor": "white",
           "ticks": "",
           "title": {
            "standoff": 15
           },
           "zerolinecolor": "white",
           "zerolinewidth": 2
          },
          "yaxis": {
           "automargin": true,
           "gridcolor": "white",
           "linecolor": "white",
           "ticks": "",
           "title": {
            "standoff": 15
           },
           "zerolinecolor": "white",
           "zerolinewidth": 2
          }
         }
        },
        "title": {
         "text": "Lockdown Policy Announcement"
        }
       }
      },
      "text/html": [
       "<div>\n",
       "        \n",
       "        \n",
       "            <div id=\"0733f1d2-584d-494c-be64-fc85e5e2bb99\" class=\"plotly-graph-div\" style=\"height:525px; width:100%;\"></div>\n",
       "            <script type=\"text/javascript\">\n",
       "                require([\"plotly\"], function(Plotly) {\n",
       "                    window.PLOTLYENV=window.PLOTLYENV || {};\n",
       "                    \n",
       "                if (document.getElementById(\"0733f1d2-584d-494c-be64-fc85e5e2bb99\")) {\n",
       "                    Plotly.newPlot(\n",
       "                        '0733f1d2-584d-494c-be64-fc85e5e2bb99',\n",
       "                        [{\"colorscale\": [[0.0, \"#ffffff\"], [1.0, \"#ffffff\"]], \"geo\": \"geo\", \"hovertemplate\": \"<b>%{hovertext}</b><br><br>start_date=03-19<br>state_code=%{location}<extra></extra>\", \"hovertext\": [\"California\"], \"locationmode\": \"USA-states\", \"locations\": [\"CA\"], \"name\": \"03-19\", \"showlegend\": true, \"showscale\": false, \"type\": \"choropleth\", \"z\": [1]}, {\"colorscale\": [[0.0, \"#eef2f6\"], [1.0, \"#eef2f6\"]], \"geo\": \"geo\", \"hovertemplate\": \"<b>%{hovertext}</b><br><br>start_date=03-20<br>state_code=%{location}<extra></extra>\", \"hovertext\": [\"New York\"], \"locationmode\": \"USA-states\", \"locations\": [\"NY\"], \"name\": \"03-20\", \"showlegend\": true, \"showscale\": false, \"type\": \"choropleth\", \"z\": [1]}, {\"colorscale\": [[0.0, \"#dde4ee\"], [1.0, \"#dde4ee\"]], \"geo\": \"geo\", \"hovertemplate\": \"<b>%{hovertext}</b><br><br>start_date=03-21<br>state_code=%{location}<extra></extra>\", \"hovertext\": [\"New Jersey\", \"Illinois\"], \"locationmode\": \"USA-states\", \"locations\": [\"NJ\", \"IL\"], \"name\": \"03-21\", \"showlegend\": true, \"showscale\": false, \"type\": \"choropleth\", \"z\": [1, 1]}, {\"colorscale\": [[0.0, \"#cdd7e5\"], [1.0, \"#cdd7e5\"]], \"geo\": \"geo\", \"hovertemplate\": \"<b>%{hovertext}</b><br><br>start_date=03-23<br>state_code=%{location}<extra></extra>\", \"hovertext\": [\"Oregon\", \"Ohio\", \"Connecticut\", \"Louisiana\"], \"locationmode\": \"USA-states\", \"locations\": [\"OR\", \"OH\", \"CT\", \"LA\"], \"name\": \"03-23\", \"showlegend\": true, \"showscale\": false, \"type\": \"choropleth\", \"z\": [1, 1, 1, 1]}, {\"colorscale\": [[0.0, \"#bccadc\"], [1.0, \"#bccadc\"]], \"geo\": \"geo\", \"hovertemplate\": \"<b>%{hovertext}</b><br><br>start_date=03-24<br>state_code=%{location}<extra></extra>\", \"hovertext\": [\"Massachusetts\", \"Vermont\", \"Delaware\", \"Washington\", \"New Mexico\", \"Indiana\", \"West Virginia\", \"Michigan\"], \"locationmode\": \"USA-states\", \"locations\": [\"MA\", \"VT\", \"DE\", \"WA\", \"NM\", \"IN\", \"WV\", \"MI\"], \"name\": \"03-24\", \"showlegend\": true, \"showscale\": false, \"type\": \"choropleth\", \"z\": [1, 1, 1, 1, 1, 1, 1, 1]}, {\"colorscale\": [[0.0, \"#abbdd4\"], [1.0, \"#abbdd4\"]], \"geo\": \"geo\", \"hovertemplate\": \"<b>%{hovertext}</b><br><br>start_date=03-25<br>state_code=%{location}<extra></extra>\", \"hovertext\": [\"Wisconsin\", \"Hawaii\", \"Idaho\"], \"locationmode\": \"USA-states\", \"locations\": [\"WI\", \"HI\", \"ID\"], \"name\": \"03-25\", \"showlegend\": true, \"showscale\": false, \"type\": \"choropleth\", \"z\": [1, 1, 1]}, {\"colorscale\": [[0.0, \"#9aafcb\"], [1.0, \"#9aafcb\"]], \"geo\": \"geo\", \"hovertemplate\": \"<b>%{hovertext}</b><br><br>start_date=03-26<br>state_code=%{location}<extra></extra>\", \"hovertext\": [\"Kentucky\", \"Colorado\"], \"locationmode\": \"USA-states\", \"locations\": [\"KY\", \"CO\"], \"name\": \"03-26\", \"showlegend\": true, \"showscale\": false, \"type\": \"choropleth\", \"z\": [1, 1]}, {\"colorscale\": [[0.0, \"#89a2c2\"], [1.0, \"#89a2c2\"]], \"geo\": \"geo\", \"hovertemplate\": \"<b>%{hovertext}</b><br><br>start_date=03-27<br>state_code=%{location}<extra></extra>\", \"hovertext\": [\"Minnesota\", \"New Hampshire\"], \"locationmode\": \"USA-states\", \"locations\": [\"MN\", \"NH\"], \"name\": \"03-27\", \"showlegend\": true, \"showscale\": false, \"type\": \"choropleth\", \"z\": [1, 1]}, {\"colorscale\": [[0.0, \"#7895ba\"], [1.0, \"#7895ba\"]], \"geo\": \"geo\", \"hovertemplate\": \"<b>%{hovertext}</b><br><br>start_date=03-28<br>state_code=%{location}<extra></extra>\", \"hovertext\": [\"Alaska\", \"Rhode Island\", \"Montana\"], \"locationmode\": \"USA-states\", \"locations\": [\"AK\", \"RI\", \"MT\"], \"name\": \"03-28\", \"showlegend\": true, \"showscale\": false, \"type\": \"choropleth\", \"z\": [1, 1, 1]}, {\"colorscale\": [[0.0, \"#6887b1\"], [1.0, \"#6887b1\"]], \"geo\": \"geo\", \"hovertemplate\": \"<b>%{hovertext}</b><br><br>start_date=03-30<br>state_code=%{location}<extra></extra>\", \"hovertext\": [\"North Carolina\", \"Maryland\", \"Virginia\", \"Kansas\"], \"locationmode\": \"USA-states\", \"locations\": [\"NC\", \"MD\", \"VA\", \"KS\"], \"name\": \"03-30\", \"showlegend\": true, \"showscale\": false, \"type\": \"choropleth\", \"z\": [1, 1, 1, 1]}, {\"colorscale\": [[0.0, \"#577aa8\"], [1.0, \"#577aa8\"]], \"geo\": \"geo\", \"hovertemplate\": \"<b>%{hovertext}</b><br><br>start_date=03-31<br>state_code=%{location}<extra></extra>\", \"hovertext\": [\"Arizona\", \"Tennessee\"], \"locationmode\": \"USA-states\", \"locations\": [\"AZ\", \"TN\"], \"name\": \"03-31\", \"showlegend\": true, \"showscale\": false, \"type\": \"choropleth\", \"z\": [1, 1]}, {\"colorscale\": [[0.0, \"#4e6e97\"], [1.0, \"#4e6e97\"]], \"geo\": \"geo\", \"hovertemplate\": \"<b>%{hovertext}</b><br><br>start_date=04-01<br>state_code=%{location}<extra></extra>\", \"hovertext\": [\"Nevada\", \"Oklahoma\", \"Pennsylvania\"], \"locationmode\": \"USA-states\", \"locations\": [\"NV\", \"OK\", \"PA\"], \"name\": \"04-01\", \"showlegend\": true, \"showscale\": false, \"type\": \"choropleth\", \"z\": [1, 1, 1]}, {\"colorscale\": [[0.0, \"#4c6a92\"], [1.0, \"#4c6a92\"]], \"geo\": \"geo\", \"hovertemplate\": \"<b>%{hovertext}</b><br><br>start_date=04-02<br>state_code=%{location}<extra></extra>\", \"hovertext\": [\"Florida\", \"Maine\", \"Texas\"], \"locationmode\": \"USA-states\", \"locations\": [\"FL\", \"ME\", \"TX\"], \"name\": \"04-02\", \"showlegend\": true, \"showscale\": false, \"type\": \"choropleth\", \"z\": [1, 1, 1]}, {\"colorscale\": [[0.0, \"#456287\"], [1.0, \"#456287\"]], \"geo\": \"geo\", \"hovertemplate\": \"<b>%{hovertext}</b><br><br>start_date=04-03<br>state_code=%{location}<extra></extra>\", \"hovertext\": [\"Mississippi\", \"Georgia\"], \"locationmode\": \"USA-states\", \"locations\": [\"MS\", \"GA\"], \"name\": \"04-03\", \"showlegend\": true, \"showscale\": false, \"type\": \"choropleth\", \"z\": [1, 1]}, {\"colorscale\": [[0.0, \"#3d5576\"], [1.0, \"#3d5576\"]], \"geo\": \"geo\", \"hovertemplate\": \"<b>%{hovertext}</b><br><br>start_date=04-04<br>state_code=%{location}<extra></extra>\", \"hovertext\": [\"Alabama\"], \"locationmode\": \"USA-states\", \"locations\": [\"AL\"], \"name\": \"04-04\", \"showlegend\": true, \"showscale\": false, \"type\": \"choropleth\", \"z\": [1]}, {\"colorscale\": [[0.0, \"#344965\"], [1.0, \"#344965\"]], \"geo\": \"geo\", \"hovertemplate\": \"<b>%{hovertext}</b><br><br>start_date=04-06<br>state_code=%{location}<extra></extra>\", \"hovertext\": [\"Missouri\"], \"locationmode\": \"USA-states\", \"locations\": [\"MO\"], \"name\": \"04-06\", \"showlegend\": true, \"showscale\": false, \"type\": \"choropleth\", \"z\": [1]}, {\"colorscale\": [[0.0, \"#2b3d54\"], [1.0, \"#2b3d54\"]], \"geo\": \"geo\", \"hovertemplate\": \"<b>%{hovertext}</b><br><br>start_date=04-07<br>state_code=%{location}<extra></extra>\", \"hovertext\": [\"South Carolina\"], \"locationmode\": \"USA-states\", \"locations\": [\"SC\"], \"name\": \"04-07\", \"showlegend\": true, \"showscale\": false, \"type\": \"choropleth\", \"z\": [1]}],\n",
       "                        {\"geo\": {\"center\": {}, \"domain\": {\"x\": [0.0, 1.0], \"y\": [0.0, 1.0]}, \"resolution\": 110, \"scope\": \"usa\"}, \"legend\": {\"title\": {\"text\": \"start_date\"}, \"tracegroupgap\": 0}, \"template\": {\"data\": {\"bar\": [{\"error_x\": {\"color\": \"#2a3f5f\"}, \"error_y\": {\"color\": \"#2a3f5f\"}, \"marker\": {\"line\": {\"color\": \"#E5ECF6\", \"width\": 0.5}}, \"type\": \"bar\"}], \"barpolar\": [{\"marker\": {\"line\": {\"color\": \"#E5ECF6\", \"width\": 0.5}}, \"type\": \"barpolar\"}], \"carpet\": [{\"aaxis\": {\"endlinecolor\": \"#2a3f5f\", \"gridcolor\": \"white\", \"linecolor\": \"white\", \"minorgridcolor\": \"white\", \"startlinecolor\": \"#2a3f5f\"}, \"baxis\": {\"endlinecolor\": \"#2a3f5f\", \"gridcolor\": \"white\", \"linecolor\": \"white\", \"minorgridcolor\": \"white\", \"startlinecolor\": \"#2a3f5f\"}, \"type\": \"carpet\"}], \"choropleth\": [{\"colorbar\": {\"outlinewidth\": 0, \"ticks\": \"\"}, \"type\": \"choropleth\"}], \"contour\": [{\"colorbar\": {\"outlinewidth\": 0, \"ticks\": \"\"}, \"colorscale\": [[0.0, \"#0d0887\"], [0.1111111111111111, \"#46039f\"], [0.2222222222222222, \"#7201a8\"], [0.3333333333333333, \"#9c179e\"], [0.4444444444444444, \"#bd3786\"], [0.5555555555555556, \"#d8576b\"], [0.6666666666666666, \"#ed7953\"], [0.7777777777777778, \"#fb9f3a\"], [0.8888888888888888, \"#fdca26\"], [1.0, \"#f0f921\"]], \"type\": \"contour\"}], \"contourcarpet\": [{\"colorbar\": {\"outlinewidth\": 0, \"ticks\": \"\"}, \"type\": \"contourcarpet\"}], \"heatmap\": [{\"colorbar\": {\"outlinewidth\": 0, \"ticks\": \"\"}, \"colorscale\": [[0.0, \"#0d0887\"], [0.1111111111111111, \"#46039f\"], [0.2222222222222222, \"#7201a8\"], [0.3333333333333333, \"#9c179e\"], [0.4444444444444444, \"#bd3786\"], [0.5555555555555556, \"#d8576b\"], [0.6666666666666666, \"#ed7953\"], [0.7777777777777778, \"#fb9f3a\"], [0.8888888888888888, \"#fdca26\"], [1.0, \"#f0f921\"]], \"type\": \"heatmap\"}], \"heatmapgl\": [{\"colorbar\": {\"outlinewidth\": 0, \"ticks\": \"\"}, \"colorscale\": [[0.0, \"#0d0887\"], [0.1111111111111111, \"#46039f\"], [0.2222222222222222, \"#7201a8\"], [0.3333333333333333, \"#9c179e\"], [0.4444444444444444, \"#bd3786\"], [0.5555555555555556, \"#d8576b\"], [0.6666666666666666, \"#ed7953\"], [0.7777777777777778, \"#fb9f3a\"], [0.8888888888888888, \"#fdca26\"], [1.0, \"#f0f921\"]], \"type\": \"heatmapgl\"}], \"histogram\": [{\"marker\": {\"colorbar\": {\"outlinewidth\": 0, \"ticks\": \"\"}}, \"type\": \"histogram\"}], \"histogram2d\": [{\"colorbar\": {\"outlinewidth\": 0, \"ticks\": \"\"}, \"colorscale\": [[0.0, \"#0d0887\"], [0.1111111111111111, \"#46039f\"], [0.2222222222222222, \"#7201a8\"], [0.3333333333333333, \"#9c179e\"], [0.4444444444444444, \"#bd3786\"], [0.5555555555555556, \"#d8576b\"], [0.6666666666666666, \"#ed7953\"], [0.7777777777777778, \"#fb9f3a\"], [0.8888888888888888, \"#fdca26\"], [1.0, \"#f0f921\"]], \"type\": \"histogram2d\"}], \"histogram2dcontour\": [{\"colorbar\": {\"outlinewidth\": 0, \"ticks\": \"\"}, \"colorscale\": [[0.0, \"#0d0887\"], [0.1111111111111111, \"#46039f\"], [0.2222222222222222, \"#7201a8\"], [0.3333333333333333, \"#9c179e\"], [0.4444444444444444, \"#bd3786\"], [0.5555555555555556, \"#d8576b\"], [0.6666666666666666, \"#ed7953\"], [0.7777777777777778, \"#fb9f3a\"], [0.8888888888888888, \"#fdca26\"], [1.0, \"#f0f921\"]], \"type\": \"histogram2dcontour\"}], \"mesh3d\": [{\"colorbar\": {\"outlinewidth\": 0, \"ticks\": \"\"}, \"type\": \"mesh3d\"}], \"parcoords\": [{\"line\": {\"colorbar\": {\"outlinewidth\": 0, \"ticks\": \"\"}}, \"type\": \"parcoords\"}], \"pie\": [{\"automargin\": true, \"type\": \"pie\"}], \"scatter\": [{\"marker\": {\"colorbar\": {\"outlinewidth\": 0, \"ticks\": \"\"}}, \"type\": \"scatter\"}], \"scatter3d\": [{\"line\": {\"colorbar\": {\"outlinewidth\": 0, \"ticks\": \"\"}}, \"marker\": {\"colorbar\": {\"outlinewidth\": 0, \"ticks\": \"\"}}, \"type\": \"scatter3d\"}], \"scattercarpet\": [{\"marker\": {\"colorbar\": {\"outlinewidth\": 0, \"ticks\": \"\"}}, \"type\": \"scattercarpet\"}], \"scattergeo\": [{\"marker\": {\"colorbar\": {\"outlinewidth\": 0, \"ticks\": \"\"}}, \"type\": \"scattergeo\"}], \"scattergl\": [{\"marker\": {\"colorbar\": {\"outlinewidth\": 0, \"ticks\": \"\"}}, \"type\": \"scattergl\"}], \"scattermapbox\": [{\"marker\": {\"colorbar\": {\"outlinewidth\": 0, \"ticks\": \"\"}}, \"type\": \"scattermapbox\"}], \"scatterpolar\": [{\"marker\": {\"colorbar\": {\"outlinewidth\": 0, \"ticks\": \"\"}}, \"type\": \"scatterpolar\"}], \"scatterpolargl\": [{\"marker\": {\"colorbar\": {\"outlinewidth\": 0, \"ticks\": \"\"}}, \"type\": \"scatterpolargl\"}], \"scatterternary\": [{\"marker\": {\"colorbar\": {\"outlinewidth\": 0, \"ticks\": \"\"}}, \"type\": \"scatterternary\"}], \"surface\": [{\"colorbar\": {\"outlinewidth\": 0, \"ticks\": \"\"}, \"colorscale\": [[0.0, \"#0d0887\"], [0.1111111111111111, \"#46039f\"], [0.2222222222222222, \"#7201a8\"], [0.3333333333333333, \"#9c179e\"], [0.4444444444444444, \"#bd3786\"], [0.5555555555555556, \"#d8576b\"], [0.6666666666666666, \"#ed7953\"], [0.7777777777777778, \"#fb9f3a\"], [0.8888888888888888, \"#fdca26\"], [1.0, \"#f0f921\"]], \"type\": \"surface\"}], \"table\": [{\"cells\": {\"fill\": {\"color\": \"#EBF0F8\"}, \"line\": {\"color\": \"white\"}}, \"header\": {\"fill\": {\"color\": \"#C8D4E3\"}, \"line\": {\"color\": \"white\"}}, \"type\": \"table\"}]}, \"layout\": {\"annotationdefaults\": {\"arrowcolor\": \"#2a3f5f\", \"arrowhead\": 0, \"arrowwidth\": 1}, \"coloraxis\": {\"colorbar\": {\"outlinewidth\": 0, \"ticks\": \"\"}}, \"colorscale\": {\"diverging\": [[0, \"#8e0152\"], [0.1, \"#c51b7d\"], [0.2, \"#de77ae\"], [0.3, \"#f1b6da\"], [0.4, \"#fde0ef\"], [0.5, \"#f7f7f7\"], [0.6, \"#e6f5d0\"], [0.7, \"#b8e186\"], [0.8, \"#7fbc41\"], [0.9, \"#4d9221\"], [1, \"#276419\"]], \"sequential\": [[0.0, \"#0d0887\"], [0.1111111111111111, \"#46039f\"], [0.2222222222222222, \"#7201a8\"], [0.3333333333333333, \"#9c179e\"], [0.4444444444444444, \"#bd3786\"], [0.5555555555555556, \"#d8576b\"], [0.6666666666666666, \"#ed7953\"], [0.7777777777777778, \"#fb9f3a\"], [0.8888888888888888, \"#fdca26\"], [1.0, \"#f0f921\"]], \"sequentialminus\": [[0.0, \"#0d0887\"], [0.1111111111111111, \"#46039f\"], [0.2222222222222222, \"#7201a8\"], [0.3333333333333333, \"#9c179e\"], [0.4444444444444444, \"#bd3786\"], [0.5555555555555556, \"#d8576b\"], [0.6666666666666666, \"#ed7953\"], [0.7777777777777778, \"#fb9f3a\"], [0.8888888888888888, \"#fdca26\"], [1.0, \"#f0f921\"]]}, \"colorway\": [\"#636efa\", \"#EF553B\", \"#00cc96\", \"#ab63fa\", \"#FFA15A\", \"#19d3f3\", \"#FF6692\", \"#B6E880\", \"#FF97FF\", \"#FECB52\"], \"font\": {\"color\": \"#2a3f5f\"}, \"geo\": {\"bgcolor\": \"white\", \"lakecolor\": \"white\", \"landcolor\": \"#E5ECF6\", \"showlakes\": true, \"showland\": true, \"subunitcolor\": \"white\"}, \"hoverlabel\": {\"align\": \"left\"}, \"hovermode\": \"closest\", \"mapbox\": {\"style\": \"light\"}, \"paper_bgcolor\": \"white\", \"plot_bgcolor\": \"#E5ECF6\", \"polar\": {\"angularaxis\": {\"gridcolor\": \"white\", \"linecolor\": \"white\", \"ticks\": \"\"}, \"bgcolor\": \"#E5ECF6\", \"radialaxis\": {\"gridcolor\": \"white\", \"linecolor\": \"white\", \"ticks\": \"\"}}, \"scene\": {\"xaxis\": {\"backgroundcolor\": \"#E5ECF6\", \"gridcolor\": \"white\", \"gridwidth\": 2, \"linecolor\": \"white\", \"showbackground\": true, \"ticks\": \"\", \"zerolinecolor\": \"white\"}, \"yaxis\": {\"backgroundcolor\": \"#E5ECF6\", \"gridcolor\": \"white\", \"gridwidth\": 2, \"linecolor\": \"white\", \"showbackground\": true, \"ticks\": \"\", \"zerolinecolor\": \"white\"}, \"zaxis\": {\"backgroundcolor\": \"#E5ECF6\", \"gridcolor\": \"white\", \"gridwidth\": 2, \"linecolor\": \"white\", \"showbackground\": true, \"ticks\": \"\", \"zerolinecolor\": \"white\"}}, \"shapedefaults\": {\"line\": {\"color\": \"#2a3f5f\"}}, \"ternary\": {\"aaxis\": {\"gridcolor\": \"white\", \"linecolor\": \"white\", \"ticks\": \"\"}, \"baxis\": {\"gridcolor\": \"white\", \"linecolor\": \"white\", \"ticks\": \"\"}, \"bgcolor\": \"#E5ECF6\", \"caxis\": {\"gridcolor\": \"white\", \"linecolor\": \"white\", \"ticks\": \"\"}}, \"title\": {\"x\": 0.05}, \"xaxis\": {\"automargin\": true, \"gridcolor\": \"white\", \"linecolor\": \"white\", \"ticks\": \"\", \"title\": {\"standoff\": 15}, \"zerolinecolor\": \"white\", \"zerolinewidth\": 2}, \"yaxis\": {\"automargin\": true, \"gridcolor\": \"white\", \"linecolor\": \"white\", \"ticks\": \"\", \"title\": {\"standoff\": 15}, \"zerolinecolor\": \"white\", \"zerolinewidth\": 2}}}, \"title\": {\"text\": \"Lockdown Policy Announcement\"}},\n",
       "                        {\"responsive\": true}\n",
       "                    ).then(function(){\n",
       "                            \n",
       "var gd = document.getElementById('0733f1d2-584d-494c-be64-fc85e5e2bb99');\n",
       "var x = new MutationObserver(function (mutations, observer) {{\n",
       "        var display = window.getComputedStyle(gd).display;\n",
       "        if (!display || display === 'none') {{\n",
       "            console.log([gd, 'removed!']);\n",
       "            Plotly.purge(gd);\n",
       "            observer.disconnect();\n",
       "        }}\n",
       "}});\n",
       "\n",
       "// Listen for the removal of the full notebook cells\n",
       "var notebookContainer = gd.closest('#notebook-container');\n",
       "if (notebookContainer) {{\n",
       "    x.observe(notebookContainer, {childList: true});\n",
       "}}\n",
       "\n",
       "// Listen for the clearing of the current output cell\n",
       "var outputEl = gd.closest('.output');\n",
       "if (outputEl) {{\n",
       "    x.observe(outputEl, {childList: true});\n",
       "}}\n",
       "\n",
       "                        })\n",
       "                };\n",
       "                });\n",
       "            </script>\n",
       "        </div>"
      ]
     },
     "metadata": {},
     "output_type": "display_data"
    }
   ],
   "source": [
    "fig = px.choropleth(start_map,  \n",
    "                    locations=\"state_code\", \n",
    "                    color=\"start_date\",  \n",
    "                    hover_name=\"state\", \n",
    "                    locationmode = 'USA-states',\n",
    "                    title='Lockdown Policy Announcement',\n",
    "                    color_discrete_sequence = ['#ffffff','#eef2f6','#dde4ee','#cdd7e5','#bccadc','#abbdd4',\n",
    "                                              '#9aafcb','#89a2c2','#7895ba','#6887b1','#577aa8','#4e6e97',\n",
    "                                              '#4c6a92','#456287','#3d5576','#344965','#2b3d54','#233143',\n",
    "                                              '#1a2532','#111822','#090c11','#000000']\n",
    "                    )\n",
    "fig.update_geos(\n",
    "    resolution=110, scope=\"usa\",\n",
    ")\n",
    "fig.show()"
   ]
  },
  {
   "cell_type": "code",
   "execution_count": 336,
   "metadata": {},
   "outputs": [
    {
     "data": {
      "text/html": [
       "<div>\n",
       "<style scoped>\n",
       "    .dataframe tbody tr th:only-of-type {\n",
       "        vertical-align: middle;\n",
       "    }\n",
       "\n",
       "    .dataframe tbody tr th {\n",
       "        vertical-align: top;\n",
       "    }\n",
       "\n",
       "    .dataframe thead th {\n",
       "        text-align: right;\n",
       "    }\n",
       "</style>\n",
       "<table border=\"1\" class=\"dataframe\">\n",
       "  <thead>\n",
       "    <tr style=\"text-align: right;\">\n",
       "      <th></th>\n",
       "      <th>state</th>\n",
       "      <th>end_date</th>\n",
       "    </tr>\n",
       "  </thead>\n",
       "  <tbody>\n",
       "    <tr>\n",
       "      <th>20</th>\n",
       "      <td>Montana</td>\n",
       "      <td>04-26</td>\n",
       "    </tr>\n",
       "    <tr>\n",
       "      <th>3</th>\n",
       "      <td>Colorado</td>\n",
       "      <td>04-26</td>\n",
       "    </tr>\n",
       "    <tr>\n",
       "      <th>18</th>\n",
       "      <td>Mississippi</td>\n",
       "      <td>04-27</td>\n",
       "    </tr>\n",
       "    <tr>\n",
       "      <th>1</th>\n",
       "      <td>Alaska</td>\n",
       "      <td>04-27</td>\n",
       "    </tr>\n",
       "    <tr>\n",
       "      <th>7</th>\n",
       "      <td>Georgia</td>\n",
       "      <td>04-30</td>\n",
       "    </tr>\n",
       "    <tr>\n",
       "      <th>0</th>\n",
       "      <td>Alabama</td>\n",
       "      <td>04-30</td>\n",
       "    </tr>\n",
       "    <tr>\n",
       "      <th>32</th>\n",
       "      <td>Texas</td>\n",
       "      <td>04-30</td>\n",
       "    </tr>\n",
       "    <tr>\n",
       "      <th>31</th>\n",
       "      <td>Tennessee</td>\n",
       "      <td>04-30</td>\n",
       "    </tr>\n",
       "    <tr>\n",
       "      <th>9</th>\n",
       "      <td>Idaho</td>\n",
       "      <td>04-30</td>\n",
       "    </tr>\n",
       "    <tr>\n",
       "      <th>11</th>\n",
       "      <td>Indiana</td>\n",
       "      <td>05-01</td>\n",
       "    </tr>\n",
       "  </tbody>\n",
       "</table>\n",
       "</div>"
      ],
      "text/plain": [
       "          state end_date\n",
       "20      Montana    04-26\n",
       "3      Colorado    04-26\n",
       "18  Mississippi    04-27\n",
       "1        Alaska    04-27\n",
       "7       Georgia    04-30\n",
       "0       Alabama    04-30\n",
       "32        Texas    04-30\n",
       "31    Tennessee    04-30\n",
       "9         Idaho    04-30\n",
       "11      Indiana    05-01"
      ]
     },
     "execution_count": 336,
     "metadata": {},
     "output_type": "execute_result"
    }
   ],
   "source": [
    "end_map = with_end_df.drop(['startDate','endDate','start_date'] ,axis=1)\n",
    "end_map = pd.concat([end_map,no_end_df], axis=0)\n",
    "end_map.reset_index(inplace = True)\n",
    "end_map = end_map.sort_values(['end_date'])\n",
    "end_map.head(10)"
   ]
  },
  {
   "cell_type": "code",
   "execution_count": 337,
   "metadata": {},
   "outputs": [],
   "source": [
    "end_map['state_code'] = end_map['state'].apply(lambda x : state_codes[x])"
   ]
  },
  {
   "cell_type": "code",
   "execution_count": 338,
   "metadata": {},
   "outputs": [
    {
     "data": {
      "application/vnd.plotly.v1+json": {
       "config": {
        "plotlyServerURL": "https://plot.ly"
       },
       "data": [
        {
         "colorscale": [
          [
           0,
           "#ffffff"
          ],
          [
           1,
           "#ffffff"
          ]
         ],
         "geo": "geo",
         "hovertemplate": "<b>%{hovertext}</b><br><br>end_date=04-26<br>state_code=%{location}<extra></extra>",
         "hovertext": [
          "Montana",
          "Colorado"
         ],
         "locationmode": "USA-states",
         "locations": [
          "MT",
          "CO"
         ],
         "name": "04-26",
         "showlegend": true,
         "showscale": false,
         "type": "choropleth",
         "z": [
          1,
          1
         ]
        },
        {
         "colorscale": [
          [
           0,
           "#ffe6e6"
          ],
          [
           1,
           "#ffe6e6"
          ]
         ],
         "geo": "geo",
         "hovertemplate": "<b>%{hovertext}</b><br><br>end_date=04-27<br>state_code=%{location}<extra></extra>",
         "hovertext": [
          "Mississippi",
          "Alaska"
         ],
         "locationmode": "USA-states",
         "locations": [
          "MS",
          "AK"
         ],
         "name": "04-27",
         "showlegend": true,
         "showscale": false,
         "type": "choropleth",
         "z": [
          1,
          1
         ]
        },
        {
         "colorscale": [
          [
           0,
           "#ffcccc"
          ],
          [
           1,
           "#ffcccc"
          ]
         ],
         "geo": "geo",
         "hovertemplate": "<b>%{hovertext}</b><br><br>end_date=04-30<br>state_code=%{location}<extra></extra>",
         "hovertext": [
          "Georgia",
          "Alabama",
          "Texas",
          "Tennessee",
          "Idaho"
         ],
         "locationmode": "USA-states",
         "locations": [
          "GA",
          "AL",
          "TX",
          "TN",
          "ID"
         ],
         "name": "04-30",
         "showlegend": true,
         "showscale": false,
         "type": "choropleth",
         "z": [
          1,
          1,
          1,
          1,
          1
         ]
        },
        {
         "colorscale": [
          [
           0,
           "#ffb3b3"
          ],
          [
           1,
           "#ffb3b3"
          ]
         ],
         "geo": "geo",
         "hovertemplate": "<b>%{hovertext}</b><br><br>end_date=05-01<br>state_code=%{location}<extra></extra>",
         "hovertext": [
          "Indiana"
         ],
         "locationmode": "USA-states",
         "locations": [
          "IN"
         ],
         "name": "05-01",
         "showlegend": true,
         "showscale": false,
         "type": "choropleth",
         "z": [
          1
         ]
        },
        {
         "colorscale": [
          [
           0,
           "#ff9999"
          ],
          [
           1,
           "#ff9999"
          ]
         ],
         "geo": "geo",
         "hovertemplate": "<b>%{hovertext}</b><br><br>end_date=05-03<br>state_code=%{location}<extra></extra>",
         "hovertext": [
          "Missouri",
          "Kansas"
         ],
         "locationmode": "USA-states",
         "locations": [
          "MO",
          "KS"
         ],
         "name": "05-03",
         "showlegend": true,
         "showscale": false,
         "type": "choropleth",
         "z": [
          1,
          1
         ]
        },
        {
         "colorscale": [
          [
           0,
           "#ff8080"
          ],
          [
           1,
           "#ff8080"
          ]
         ],
         "geo": "geo",
         "hovertemplate": "<b>%{hovertext}</b><br><br>end_date=05-04<br>state_code=%{location}<extra></extra>",
         "hovertext": [
          "Florida",
          "South Carolina"
         ],
         "locationmode": "USA-states",
         "locations": [
          "FL",
          "SC"
         ],
         "name": "05-04",
         "showlegend": true,
         "showscale": false,
         "type": "choropleth",
         "z": [
          1,
          1
         ]
        },
        {
         "colorscale": [
          [
           0,
           "#ff6666"
          ],
          [
           1,
           "#ff6666"
          ]
         ],
         "geo": "geo",
         "hovertemplate": "<b>%{hovertext}</b><br><br>end_date=05-06<br>state_code=%{location}<extra></extra>",
         "hovertext": [
          "Oklahoma"
         ],
         "locationmode": "USA-states",
         "locations": [
          "OK"
         ],
         "name": "05-06",
         "showlegend": true,
         "showscale": false,
         "type": "choropleth",
         "z": [
          1
         ]
        },
        {
         "colorscale": [
          [
           0,
           "#ff4d4d"
          ],
          [
           1,
           "#ff4d4d"
          ]
         ],
         "geo": "geo",
         "hovertemplate": "<b>%{hovertext}</b><br><br>end_date=05-08<br>state_code=%{location}<extra></extra>",
         "hovertext": [
          "Rhode Island"
         ],
         "locationmode": "USA-states",
         "locations": [
          "RI"
         ],
         "name": "05-08",
         "showlegend": true,
         "showscale": false,
         "type": "choropleth",
         "z": [
          1
         ]
        },
        {
         "colorscale": [
          [
           0,
           "#ff3333"
          ],
          [
           1,
           "#ff3333"
          ]
         ],
         "geo": "geo",
         "hovertemplate": "<b>%{hovertext}</b><br><br>end_date=05-15<br>state_code=%{location}<extra></extra>",
         "hovertext": [
          "New York",
          "New Mexico",
          "Vermont",
          "Nevada",
          "Delaware",
          "Arizona",
          "Louisiana"
         ],
         "locationmode": "USA-states",
         "locations": [
          "NY",
          "NM",
          "VT",
          "NV",
          "DE",
          "AZ",
          "LA"
         ],
         "name": "05-15",
         "showlegend": true,
         "showscale": false,
         "type": "choropleth",
         "z": [
          1,
          1,
          1,
          1,
          1,
          1,
          1
         ]
        },
        {
         "colorscale": [
          [
           0,
           "#ff1a1a"
          ],
          [
           1,
           "#ff1a1a"
          ]
         ],
         "geo": "geo",
         "hovertemplate": "<b>%{hovertext}</b><br><br>end_date=05-18<br>state_code=%{location}<extra></extra>",
         "hovertext": [
          "Massachusetts"
         ],
         "locationmode": "USA-states",
         "locations": [
          "MA"
         ],
         "name": "05-18",
         "showlegend": true,
         "showscale": false,
         "type": "choropleth",
         "z": [
          1
         ]
        },
        {
         "colorscale": [
          [
           0,
           "#ff0000"
          ],
          [
           1,
           "#ff0000"
          ]
         ],
         "geo": "geo",
         "hovertemplate": "<b>%{hovertext}</b><br><br>end_date=05-19<br>state_code=%{location}<extra></extra>",
         "hovertext": [
          "Minnesota"
         ],
         "locationmode": "USA-states",
         "locations": [
          "MN"
         ],
         "name": "05-19",
         "showlegend": true,
         "showscale": false,
         "type": "choropleth",
         "z": [
          1
         ]
        },
        {
         "colorscale": [
          [
           0,
           "#e60000"
          ],
          [
           1,
           "#e60000"
          ]
         ],
         "geo": "geo",
         "hovertemplate": "<b>%{hovertext}</b><br><br>end_date=05-20<br>state_code=%{location}<extra></extra>",
         "hovertext": [
          "Connecticut"
         ],
         "locationmode": "USA-states",
         "locations": [
          "CT"
         ],
         "name": "05-20",
         "showlegend": true,
         "showscale": false,
         "type": "choropleth",
         "z": [
          1
         ]
        },
        {
         "colorscale": [
          [
           0,
           "#cc0000"
          ],
          [
           1,
           "#cc0000"
          ]
         ],
         "geo": "geo",
         "hovertemplate": "<b>%{hovertext}</b><br><br>end_date=05-22<br>state_code=%{location}<extra></extra>",
         "hovertext": [
          "North Carolina"
         ],
         "locationmode": "USA-states",
         "locations": [
          "NC"
         ],
         "name": "05-22",
         "showlegend": true,
         "showscale": false,
         "type": "choropleth",
         "z": [
          1
         ]
        },
        {
         "colorscale": [
          [
           0,
           "#b30000"
          ],
          [
           1,
           "#b30000"
          ]
         ],
         "geo": "geo",
         "hovertemplate": "<b>%{hovertext}</b><br><br>end_date=05-26<br>state_code=%{location}<extra></extra>",
         "hovertext": [
          "Wisconsin"
         ],
         "locationmode": "USA-states",
         "locations": [
          "WI"
         ],
         "name": "05-26",
         "showlegend": true,
         "showscale": false,
         "type": "choropleth",
         "z": [
          1
         ]
        },
        {
         "colorscale": [
          [
           0,
           "#990000"
          ],
          [
           1,
           "#990000"
          ]
         ],
         "geo": "geo",
         "hovertemplate": "<b>%{hovertext}</b><br><br>end_date=05-28<br>state_code=%{location}<extra></extra>",
         "hovertext": [
          "Michigan"
         ],
         "locationmode": "USA-states",
         "locations": [
          "MI"
         ],
         "name": "05-28",
         "showlegend": true,
         "showscale": false,
         "type": "choropleth",
         "z": [
          1
         ]
        },
        {
         "colorscale": [
          [
           0,
           "#800000"
          ],
          [
           1,
           "#800000"
          ]
         ],
         "geo": "geo",
         "hovertemplate": "<b>%{hovertext}</b><br><br>end_date=05-29<br>state_code=%{location}<extra></extra>",
         "hovertext": [
          "Ohio"
         ],
         "locationmode": "USA-states",
         "locations": [
          "OH"
         ],
         "name": "05-29",
         "showlegend": true,
         "showscale": false,
         "type": "choropleth",
         "z": [
          1
         ]
        },
        {
         "colorscale": [
          [
           0,
           "#660000"
          ],
          [
           1,
           "#660000"
          ]
         ],
         "geo": "geo",
         "hovertemplate": "<b>%{hovertext}</b><br><br>end_date=05-30<br>state_code=%{location}<extra></extra>",
         "hovertext": [
          "Illinois"
         ],
         "locationmode": "USA-states",
         "locations": [
          "IL"
         ],
         "name": "05-30",
         "showlegend": true,
         "showscale": false,
         "type": "choropleth",
         "z": [
          1
         ]
        },
        {
         "colorscale": [
          [
           0,
           "#4d0000"
          ],
          [
           1,
           "#4d0000"
          ]
         ],
         "geo": "geo",
         "hovertemplate": "<b>%{hovertext}</b><br><br>end_date=05-31<br>state_code=%{location}<extra></extra>",
         "hovertext": [
          "Hawaii",
          "Maine",
          "New Hampshire",
          "Washington"
         ],
         "locationmode": "USA-states",
         "locations": [
          "HI",
          "ME",
          "NH",
          "WA"
         ],
         "name": "05-31",
         "showlegend": true,
         "showscale": false,
         "type": "choropleth",
         "z": [
          1,
          1,
          1,
          1
         ]
        },
        {
         "colorscale": [
          [
           0,
           "#330000"
          ],
          [
           1,
           "#330000"
          ]
         ],
         "geo": "geo",
         "hovertemplate": "<b>%{hovertext}</b><br><br>end_date=06-04<br>state_code=%{location}<extra></extra>",
         "hovertext": [
          "Pennsylvania"
         ],
         "locationmode": "USA-states",
         "locations": [
          "PA"
         ],
         "name": "06-04",
         "showlegend": true,
         "showscale": false,
         "type": "choropleth",
         "z": [
          1
         ]
        },
        {
         "colorscale": [
          [
           0,
           "#1a0000"
          ],
          [
           1,
           "#1a0000"
          ]
         ],
         "geo": "geo",
         "hovertemplate": "<b>%{hovertext}</b><br><br>end_date=06-10<br>state_code=%{location}<extra></extra>",
         "hovertext": [
          "Virginia"
         ],
         "locationmode": "USA-states",
         "locations": [
          "VA"
         ],
         "name": "06-10",
         "showlegend": true,
         "showscale": false,
         "type": "choropleth",
         "z": [
          1
         ]
        },
        {
         "colorscale": [
          [
           0,
           "#000000"
          ],
          [
           1,
           "#000000"
          ]
         ],
         "geo": "geo",
         "hovertemplate": "<b>%{hovertext}</b><br><br>end_date=TBD<br>state_code=%{location}<extra></extra>",
         "hovertext": [
          "Oregon",
          "California",
          "Kentucky",
          "Maryland",
          "New Jersey",
          "West Virginia"
         ],
         "locationmode": "USA-states",
         "locations": [
          "OR",
          "CA",
          "KY",
          "MD",
          "NJ",
          "WV"
         ],
         "name": "TBD",
         "showlegend": true,
         "showscale": false,
         "type": "choropleth",
         "z": [
          1,
          1,
          1,
          1,
          1,
          1
         ]
        }
       ],
       "layout": {
        "geo": {
         "center": {},
         "domain": {
          "x": [
           0,
           1
          ],
          "y": [
           0,
           1
          ]
         },
         "resolution": 110,
         "scope": "usa"
        },
        "legend": {
         "title": {
          "text": "end_date"
         },
         "tracegroupgap": 0
        },
        "template": {
         "data": {
          "bar": [
           {
            "error_x": {
             "color": "#2a3f5f"
            },
            "error_y": {
             "color": "#2a3f5f"
            },
            "marker": {
             "line": {
              "color": "#E5ECF6",
              "width": 0.5
             }
            },
            "type": "bar"
           }
          ],
          "barpolar": [
           {
            "marker": {
             "line": {
              "color": "#E5ECF6",
              "width": 0.5
             }
            },
            "type": "barpolar"
           }
          ],
          "carpet": [
           {
            "aaxis": {
             "endlinecolor": "#2a3f5f",
             "gridcolor": "white",
             "linecolor": "white",
             "minorgridcolor": "white",
             "startlinecolor": "#2a3f5f"
            },
            "baxis": {
             "endlinecolor": "#2a3f5f",
             "gridcolor": "white",
             "linecolor": "white",
             "minorgridcolor": "white",
             "startlinecolor": "#2a3f5f"
            },
            "type": "carpet"
           }
          ],
          "choropleth": [
           {
            "colorbar": {
             "outlinewidth": 0,
             "ticks": ""
            },
            "type": "choropleth"
           }
          ],
          "contour": [
           {
            "colorbar": {
             "outlinewidth": 0,
             "ticks": ""
            },
            "colorscale": [
             [
              0,
              "#0d0887"
             ],
             [
              0.1111111111111111,
              "#46039f"
             ],
             [
              0.2222222222222222,
              "#7201a8"
             ],
             [
              0.3333333333333333,
              "#9c179e"
             ],
             [
              0.4444444444444444,
              "#bd3786"
             ],
             [
              0.5555555555555556,
              "#d8576b"
             ],
             [
              0.6666666666666666,
              "#ed7953"
             ],
             [
              0.7777777777777778,
              "#fb9f3a"
             ],
             [
              0.8888888888888888,
              "#fdca26"
             ],
             [
              1,
              "#f0f921"
             ]
            ],
            "type": "contour"
           }
          ],
          "contourcarpet": [
           {
            "colorbar": {
             "outlinewidth": 0,
             "ticks": ""
            },
            "type": "contourcarpet"
           }
          ],
          "heatmap": [
           {
            "colorbar": {
             "outlinewidth": 0,
             "ticks": ""
            },
            "colorscale": [
             [
              0,
              "#0d0887"
             ],
             [
              0.1111111111111111,
              "#46039f"
             ],
             [
              0.2222222222222222,
              "#7201a8"
             ],
             [
              0.3333333333333333,
              "#9c179e"
             ],
             [
              0.4444444444444444,
              "#bd3786"
             ],
             [
              0.5555555555555556,
              "#d8576b"
             ],
             [
              0.6666666666666666,
              "#ed7953"
             ],
             [
              0.7777777777777778,
              "#fb9f3a"
             ],
             [
              0.8888888888888888,
              "#fdca26"
             ],
             [
              1,
              "#f0f921"
             ]
            ],
            "type": "heatmap"
           }
          ],
          "heatmapgl": [
           {
            "colorbar": {
             "outlinewidth": 0,
             "ticks": ""
            },
            "colorscale": [
             [
              0,
              "#0d0887"
             ],
             [
              0.1111111111111111,
              "#46039f"
             ],
             [
              0.2222222222222222,
              "#7201a8"
             ],
             [
              0.3333333333333333,
              "#9c179e"
             ],
             [
              0.4444444444444444,
              "#bd3786"
             ],
             [
              0.5555555555555556,
              "#d8576b"
             ],
             [
              0.6666666666666666,
              "#ed7953"
             ],
             [
              0.7777777777777778,
              "#fb9f3a"
             ],
             [
              0.8888888888888888,
              "#fdca26"
             ],
             [
              1,
              "#f0f921"
             ]
            ],
            "type": "heatmapgl"
           }
          ],
          "histogram": [
           {
            "marker": {
             "colorbar": {
              "outlinewidth": 0,
              "ticks": ""
             }
            },
            "type": "histogram"
           }
          ],
          "histogram2d": [
           {
            "colorbar": {
             "outlinewidth": 0,
             "ticks": ""
            },
            "colorscale": [
             [
              0,
              "#0d0887"
             ],
             [
              0.1111111111111111,
              "#46039f"
             ],
             [
              0.2222222222222222,
              "#7201a8"
             ],
             [
              0.3333333333333333,
              "#9c179e"
             ],
             [
              0.4444444444444444,
              "#bd3786"
             ],
             [
              0.5555555555555556,
              "#d8576b"
             ],
             [
              0.6666666666666666,
              "#ed7953"
             ],
             [
              0.7777777777777778,
              "#fb9f3a"
             ],
             [
              0.8888888888888888,
              "#fdca26"
             ],
             [
              1,
              "#f0f921"
             ]
            ],
            "type": "histogram2d"
           }
          ],
          "histogram2dcontour": [
           {
            "colorbar": {
             "outlinewidth": 0,
             "ticks": ""
            },
            "colorscale": [
             [
              0,
              "#0d0887"
             ],
             [
              0.1111111111111111,
              "#46039f"
             ],
             [
              0.2222222222222222,
              "#7201a8"
             ],
             [
              0.3333333333333333,
              "#9c179e"
             ],
             [
              0.4444444444444444,
              "#bd3786"
             ],
             [
              0.5555555555555556,
              "#d8576b"
             ],
             [
              0.6666666666666666,
              "#ed7953"
             ],
             [
              0.7777777777777778,
              "#fb9f3a"
             ],
             [
              0.8888888888888888,
              "#fdca26"
             ],
             [
              1,
              "#f0f921"
             ]
            ],
            "type": "histogram2dcontour"
           }
          ],
          "mesh3d": [
           {
            "colorbar": {
             "outlinewidth": 0,
             "ticks": ""
            },
            "type": "mesh3d"
           }
          ],
          "parcoords": [
           {
            "line": {
             "colorbar": {
              "outlinewidth": 0,
              "ticks": ""
             }
            },
            "type": "parcoords"
           }
          ],
          "pie": [
           {
            "automargin": true,
            "type": "pie"
           }
          ],
          "scatter": [
           {
            "marker": {
             "colorbar": {
              "outlinewidth": 0,
              "ticks": ""
             }
            },
            "type": "scatter"
           }
          ],
          "scatter3d": [
           {
            "line": {
             "colorbar": {
              "outlinewidth": 0,
              "ticks": ""
             }
            },
            "marker": {
             "colorbar": {
              "outlinewidth": 0,
              "ticks": ""
             }
            },
            "type": "scatter3d"
           }
          ],
          "scattercarpet": [
           {
            "marker": {
             "colorbar": {
              "outlinewidth": 0,
              "ticks": ""
             }
            },
            "type": "scattercarpet"
           }
          ],
          "scattergeo": [
           {
            "marker": {
             "colorbar": {
              "outlinewidth": 0,
              "ticks": ""
             }
            },
            "type": "scattergeo"
           }
          ],
          "scattergl": [
           {
            "marker": {
             "colorbar": {
              "outlinewidth": 0,
              "ticks": ""
             }
            },
            "type": "scattergl"
           }
          ],
          "scattermapbox": [
           {
            "marker": {
             "colorbar": {
              "outlinewidth": 0,
              "ticks": ""
             }
            },
            "type": "scattermapbox"
           }
          ],
          "scatterpolar": [
           {
            "marker": {
             "colorbar": {
              "outlinewidth": 0,
              "ticks": ""
             }
            },
            "type": "scatterpolar"
           }
          ],
          "scatterpolargl": [
           {
            "marker": {
             "colorbar": {
              "outlinewidth": 0,
              "ticks": ""
             }
            },
            "type": "scatterpolargl"
           }
          ],
          "scatterternary": [
           {
            "marker": {
             "colorbar": {
              "outlinewidth": 0,
              "ticks": ""
             }
            },
            "type": "scatterternary"
           }
          ],
          "surface": [
           {
            "colorbar": {
             "outlinewidth": 0,
             "ticks": ""
            },
            "colorscale": [
             [
              0,
              "#0d0887"
             ],
             [
              0.1111111111111111,
              "#46039f"
             ],
             [
              0.2222222222222222,
              "#7201a8"
             ],
             [
              0.3333333333333333,
              "#9c179e"
             ],
             [
              0.4444444444444444,
              "#bd3786"
             ],
             [
              0.5555555555555556,
              "#d8576b"
             ],
             [
              0.6666666666666666,
              "#ed7953"
             ],
             [
              0.7777777777777778,
              "#fb9f3a"
             ],
             [
              0.8888888888888888,
              "#fdca26"
             ],
             [
              1,
              "#f0f921"
             ]
            ],
            "type": "surface"
           }
          ],
          "table": [
           {
            "cells": {
             "fill": {
              "color": "#EBF0F8"
             },
             "line": {
              "color": "white"
             }
            },
            "header": {
             "fill": {
              "color": "#C8D4E3"
             },
             "line": {
              "color": "white"
             }
            },
            "type": "table"
           }
          ]
         },
         "layout": {
          "annotationdefaults": {
           "arrowcolor": "#2a3f5f",
           "arrowhead": 0,
           "arrowwidth": 1
          },
          "coloraxis": {
           "colorbar": {
            "outlinewidth": 0,
            "ticks": ""
           }
          },
          "colorscale": {
           "diverging": [
            [
             0,
             "#8e0152"
            ],
            [
             0.1,
             "#c51b7d"
            ],
            [
             0.2,
             "#de77ae"
            ],
            [
             0.3,
             "#f1b6da"
            ],
            [
             0.4,
             "#fde0ef"
            ],
            [
             0.5,
             "#f7f7f7"
            ],
            [
             0.6,
             "#e6f5d0"
            ],
            [
             0.7,
             "#b8e186"
            ],
            [
             0.8,
             "#7fbc41"
            ],
            [
             0.9,
             "#4d9221"
            ],
            [
             1,
             "#276419"
            ]
           ],
           "sequential": [
            [
             0,
             "#0d0887"
            ],
            [
             0.1111111111111111,
             "#46039f"
            ],
            [
             0.2222222222222222,
             "#7201a8"
            ],
            [
             0.3333333333333333,
             "#9c179e"
            ],
            [
             0.4444444444444444,
             "#bd3786"
            ],
            [
             0.5555555555555556,
             "#d8576b"
            ],
            [
             0.6666666666666666,
             "#ed7953"
            ],
            [
             0.7777777777777778,
             "#fb9f3a"
            ],
            [
             0.8888888888888888,
             "#fdca26"
            ],
            [
             1,
             "#f0f921"
            ]
           ],
           "sequentialminus": [
            [
             0,
             "#0d0887"
            ],
            [
             0.1111111111111111,
             "#46039f"
            ],
            [
             0.2222222222222222,
             "#7201a8"
            ],
            [
             0.3333333333333333,
             "#9c179e"
            ],
            [
             0.4444444444444444,
             "#bd3786"
            ],
            [
             0.5555555555555556,
             "#d8576b"
            ],
            [
             0.6666666666666666,
             "#ed7953"
            ],
            [
             0.7777777777777778,
             "#fb9f3a"
            ],
            [
             0.8888888888888888,
             "#fdca26"
            ],
            [
             1,
             "#f0f921"
            ]
           ]
          },
          "colorway": [
           "#636efa",
           "#EF553B",
           "#00cc96",
           "#ab63fa",
           "#FFA15A",
           "#19d3f3",
           "#FF6692",
           "#B6E880",
           "#FF97FF",
           "#FECB52"
          ],
          "font": {
           "color": "#2a3f5f"
          },
          "geo": {
           "bgcolor": "white",
           "lakecolor": "white",
           "landcolor": "#E5ECF6",
           "showlakes": true,
           "showland": true,
           "subunitcolor": "white"
          },
          "hoverlabel": {
           "align": "left"
          },
          "hovermode": "closest",
          "mapbox": {
           "style": "light"
          },
          "paper_bgcolor": "white",
          "plot_bgcolor": "#E5ECF6",
          "polar": {
           "angularaxis": {
            "gridcolor": "white",
            "linecolor": "white",
            "ticks": ""
           },
           "bgcolor": "#E5ECF6",
           "radialaxis": {
            "gridcolor": "white",
            "linecolor": "white",
            "ticks": ""
           }
          },
          "scene": {
           "xaxis": {
            "backgroundcolor": "#E5ECF6",
            "gridcolor": "white",
            "gridwidth": 2,
            "linecolor": "white",
            "showbackground": true,
            "ticks": "",
            "zerolinecolor": "white"
           },
           "yaxis": {
            "backgroundcolor": "#E5ECF6",
            "gridcolor": "white",
            "gridwidth": 2,
            "linecolor": "white",
            "showbackground": true,
            "ticks": "",
            "zerolinecolor": "white"
           },
           "zaxis": {
            "backgroundcolor": "#E5ECF6",
            "gridcolor": "white",
            "gridwidth": 2,
            "linecolor": "white",
            "showbackground": true,
            "ticks": "",
            "zerolinecolor": "white"
           }
          },
          "shapedefaults": {
           "line": {
            "color": "#2a3f5f"
           }
          },
          "ternary": {
           "aaxis": {
            "gridcolor": "white",
            "linecolor": "white",
            "ticks": ""
           },
           "baxis": {
            "gridcolor": "white",
            "linecolor": "white",
            "ticks": ""
           },
           "bgcolor": "#E5ECF6",
           "caxis": {
            "gridcolor": "white",
            "linecolor": "white",
            "ticks": ""
           }
          },
          "title": {
           "x": 0.05
          },
          "xaxis": {
           "automargin": true,
           "gridcolor": "white",
           "linecolor": "white",
           "ticks": "",
           "title": {
            "standoff": 15
           },
           "zerolinecolor": "white",
           "zerolinewidth": 2
          },
          "yaxis": {
           "automargin": true,
           "gridcolor": "white",
           "linecolor": "white",
           "ticks": "",
           "title": {
            "standoff": 15
           },
           "zerolinecolor": "white",
           "zerolinewidth": 2
          }
         }
        },
        "title": {
         "text": "Lockdown End Date"
        }
       }
      },
      "text/html": [
       "<div>\n",
       "        \n",
       "        \n",
       "            <div id=\"6c779ca9-e87f-4ea0-9c0c-921462b793b1\" class=\"plotly-graph-div\" style=\"height:525px; width:100%;\"></div>\n",
       "            <script type=\"text/javascript\">\n",
       "                require([\"plotly\"], function(Plotly) {\n",
       "                    window.PLOTLYENV=window.PLOTLYENV || {};\n",
       "                    \n",
       "                if (document.getElementById(\"6c779ca9-e87f-4ea0-9c0c-921462b793b1\")) {\n",
       "                    Plotly.newPlot(\n",
       "                        '6c779ca9-e87f-4ea0-9c0c-921462b793b1',\n",
       "                        [{\"colorscale\": [[0.0, \"#ffffff\"], [1.0, \"#ffffff\"]], \"geo\": \"geo\", \"hovertemplate\": \"<b>%{hovertext}</b><br><br>end_date=04-26<br>state_code=%{location}<extra></extra>\", \"hovertext\": [\"Montana\", \"Colorado\"], \"locationmode\": \"USA-states\", \"locations\": [\"MT\", \"CO\"], \"name\": \"04-26\", \"showlegend\": true, \"showscale\": false, \"type\": \"choropleth\", \"z\": [1, 1]}, {\"colorscale\": [[0.0, \"#ffe6e6\"], [1.0, \"#ffe6e6\"]], \"geo\": \"geo\", \"hovertemplate\": \"<b>%{hovertext}</b><br><br>end_date=04-27<br>state_code=%{location}<extra></extra>\", \"hovertext\": [\"Mississippi\", \"Alaska\"], \"locationmode\": \"USA-states\", \"locations\": [\"MS\", \"AK\"], \"name\": \"04-27\", \"showlegend\": true, \"showscale\": false, \"type\": \"choropleth\", \"z\": [1, 1]}, {\"colorscale\": [[0.0, \"#ffcccc\"], [1.0, \"#ffcccc\"]], \"geo\": \"geo\", \"hovertemplate\": \"<b>%{hovertext}</b><br><br>end_date=04-30<br>state_code=%{location}<extra></extra>\", \"hovertext\": [\"Georgia\", \"Alabama\", \"Texas\", \"Tennessee\", \"Idaho\"], \"locationmode\": \"USA-states\", \"locations\": [\"GA\", \"AL\", \"TX\", \"TN\", \"ID\"], \"name\": \"04-30\", \"showlegend\": true, \"showscale\": false, \"type\": \"choropleth\", \"z\": [1, 1, 1, 1, 1]}, {\"colorscale\": [[0.0, \"#ffb3b3\"], [1.0, \"#ffb3b3\"]], \"geo\": \"geo\", \"hovertemplate\": \"<b>%{hovertext}</b><br><br>end_date=05-01<br>state_code=%{location}<extra></extra>\", \"hovertext\": [\"Indiana\"], \"locationmode\": \"USA-states\", \"locations\": [\"IN\"], \"name\": \"05-01\", \"showlegend\": true, \"showscale\": false, \"type\": \"choropleth\", \"z\": [1]}, {\"colorscale\": [[0.0, \"#ff9999\"], [1.0, \"#ff9999\"]], \"geo\": \"geo\", \"hovertemplate\": \"<b>%{hovertext}</b><br><br>end_date=05-03<br>state_code=%{location}<extra></extra>\", \"hovertext\": [\"Missouri\", \"Kansas\"], \"locationmode\": \"USA-states\", \"locations\": [\"MO\", \"KS\"], \"name\": \"05-03\", \"showlegend\": true, \"showscale\": false, \"type\": \"choropleth\", \"z\": [1, 1]}, {\"colorscale\": [[0.0, \"#ff8080\"], [1.0, \"#ff8080\"]], \"geo\": \"geo\", \"hovertemplate\": \"<b>%{hovertext}</b><br><br>end_date=05-04<br>state_code=%{location}<extra></extra>\", \"hovertext\": [\"Florida\", \"South Carolina\"], \"locationmode\": \"USA-states\", \"locations\": [\"FL\", \"SC\"], \"name\": \"05-04\", \"showlegend\": true, \"showscale\": false, \"type\": \"choropleth\", \"z\": [1, 1]}, {\"colorscale\": [[0.0, \"#ff6666\"], [1.0, \"#ff6666\"]], \"geo\": \"geo\", \"hovertemplate\": \"<b>%{hovertext}</b><br><br>end_date=05-06<br>state_code=%{location}<extra></extra>\", \"hovertext\": [\"Oklahoma\"], \"locationmode\": \"USA-states\", \"locations\": [\"OK\"], \"name\": \"05-06\", \"showlegend\": true, \"showscale\": false, \"type\": \"choropleth\", \"z\": [1]}, {\"colorscale\": [[0.0, \"#ff4d4d\"], [1.0, \"#ff4d4d\"]], \"geo\": \"geo\", \"hovertemplate\": \"<b>%{hovertext}</b><br><br>end_date=05-08<br>state_code=%{location}<extra></extra>\", \"hovertext\": [\"Rhode Island\"], \"locationmode\": \"USA-states\", \"locations\": [\"RI\"], \"name\": \"05-08\", \"showlegend\": true, \"showscale\": false, \"type\": \"choropleth\", \"z\": [1]}, {\"colorscale\": [[0.0, \"#ff3333\"], [1.0, \"#ff3333\"]], \"geo\": \"geo\", \"hovertemplate\": \"<b>%{hovertext}</b><br><br>end_date=05-15<br>state_code=%{location}<extra></extra>\", \"hovertext\": [\"New York\", \"New Mexico\", \"Vermont\", \"Nevada\", \"Delaware\", \"Arizona\", \"Louisiana\"], \"locationmode\": \"USA-states\", \"locations\": [\"NY\", \"NM\", \"VT\", \"NV\", \"DE\", \"AZ\", \"LA\"], \"name\": \"05-15\", \"showlegend\": true, \"showscale\": false, \"type\": \"choropleth\", \"z\": [1, 1, 1, 1, 1, 1, 1]}, {\"colorscale\": [[0.0, \"#ff1a1a\"], [1.0, \"#ff1a1a\"]], \"geo\": \"geo\", \"hovertemplate\": \"<b>%{hovertext}</b><br><br>end_date=05-18<br>state_code=%{location}<extra></extra>\", \"hovertext\": [\"Massachusetts\"], \"locationmode\": \"USA-states\", \"locations\": [\"MA\"], \"name\": \"05-18\", \"showlegend\": true, \"showscale\": false, \"type\": \"choropleth\", \"z\": [1]}, {\"colorscale\": [[0.0, \"#ff0000\"], [1.0, \"#ff0000\"]], \"geo\": \"geo\", \"hovertemplate\": \"<b>%{hovertext}</b><br><br>end_date=05-19<br>state_code=%{location}<extra></extra>\", \"hovertext\": [\"Minnesota\"], \"locationmode\": \"USA-states\", \"locations\": [\"MN\"], \"name\": \"05-19\", \"showlegend\": true, \"showscale\": false, \"type\": \"choropleth\", \"z\": [1]}, {\"colorscale\": [[0.0, \"#e60000\"], [1.0, \"#e60000\"]], \"geo\": \"geo\", \"hovertemplate\": \"<b>%{hovertext}</b><br><br>end_date=05-20<br>state_code=%{location}<extra></extra>\", \"hovertext\": [\"Connecticut\"], \"locationmode\": \"USA-states\", \"locations\": [\"CT\"], \"name\": \"05-20\", \"showlegend\": true, \"showscale\": false, \"type\": \"choropleth\", \"z\": [1]}, {\"colorscale\": [[0.0, \"#cc0000\"], [1.0, \"#cc0000\"]], \"geo\": \"geo\", \"hovertemplate\": \"<b>%{hovertext}</b><br><br>end_date=05-22<br>state_code=%{location}<extra></extra>\", \"hovertext\": [\"North Carolina\"], \"locationmode\": \"USA-states\", \"locations\": [\"NC\"], \"name\": \"05-22\", \"showlegend\": true, \"showscale\": false, \"type\": \"choropleth\", \"z\": [1]}, {\"colorscale\": [[0.0, \"#b30000\"], [1.0, \"#b30000\"]], \"geo\": \"geo\", \"hovertemplate\": \"<b>%{hovertext}</b><br><br>end_date=05-26<br>state_code=%{location}<extra></extra>\", \"hovertext\": [\"Wisconsin\"], \"locationmode\": \"USA-states\", \"locations\": [\"WI\"], \"name\": \"05-26\", \"showlegend\": true, \"showscale\": false, \"type\": \"choropleth\", \"z\": [1]}, {\"colorscale\": [[0.0, \"#990000\"], [1.0, \"#990000\"]], \"geo\": \"geo\", \"hovertemplate\": \"<b>%{hovertext}</b><br><br>end_date=05-28<br>state_code=%{location}<extra></extra>\", \"hovertext\": [\"Michigan\"], \"locationmode\": \"USA-states\", \"locations\": [\"MI\"], \"name\": \"05-28\", \"showlegend\": true, \"showscale\": false, \"type\": \"choropleth\", \"z\": [1]}, {\"colorscale\": [[0.0, \"#800000\"], [1.0, \"#800000\"]], \"geo\": \"geo\", \"hovertemplate\": \"<b>%{hovertext}</b><br><br>end_date=05-29<br>state_code=%{location}<extra></extra>\", \"hovertext\": [\"Ohio\"], \"locationmode\": \"USA-states\", \"locations\": [\"OH\"], \"name\": \"05-29\", \"showlegend\": true, \"showscale\": false, \"type\": \"choropleth\", \"z\": [1]}, {\"colorscale\": [[0.0, \"#660000\"], [1.0, \"#660000\"]], \"geo\": \"geo\", \"hovertemplate\": \"<b>%{hovertext}</b><br><br>end_date=05-30<br>state_code=%{location}<extra></extra>\", \"hovertext\": [\"Illinois\"], \"locationmode\": \"USA-states\", \"locations\": [\"IL\"], \"name\": \"05-30\", \"showlegend\": true, \"showscale\": false, \"type\": \"choropleth\", \"z\": [1]}, {\"colorscale\": [[0.0, \"#4d0000\"], [1.0, \"#4d0000\"]], \"geo\": \"geo\", \"hovertemplate\": \"<b>%{hovertext}</b><br><br>end_date=05-31<br>state_code=%{location}<extra></extra>\", \"hovertext\": [\"Hawaii\", \"Maine\", \"New Hampshire\", \"Washington\"], \"locationmode\": \"USA-states\", \"locations\": [\"HI\", \"ME\", \"NH\", \"WA\"], \"name\": \"05-31\", \"showlegend\": true, \"showscale\": false, \"type\": \"choropleth\", \"z\": [1, 1, 1, 1]}, {\"colorscale\": [[0.0, \"#330000\"], [1.0, \"#330000\"]], \"geo\": \"geo\", \"hovertemplate\": \"<b>%{hovertext}</b><br><br>end_date=06-04<br>state_code=%{location}<extra></extra>\", \"hovertext\": [\"Pennsylvania\"], \"locationmode\": \"USA-states\", \"locations\": [\"PA\"], \"name\": \"06-04\", \"showlegend\": true, \"showscale\": false, \"type\": \"choropleth\", \"z\": [1]}, {\"colorscale\": [[0.0, \"#1a0000\"], [1.0, \"#1a0000\"]], \"geo\": \"geo\", \"hovertemplate\": \"<b>%{hovertext}</b><br><br>end_date=06-10<br>state_code=%{location}<extra></extra>\", \"hovertext\": [\"Virginia\"], \"locationmode\": \"USA-states\", \"locations\": [\"VA\"], \"name\": \"06-10\", \"showlegend\": true, \"showscale\": false, \"type\": \"choropleth\", \"z\": [1]}, {\"colorscale\": [[0.0, \"#000000\"], [1.0, \"#000000\"]], \"geo\": \"geo\", \"hovertemplate\": \"<b>%{hovertext}</b><br><br>end_date=TBD<br>state_code=%{location}<extra></extra>\", \"hovertext\": [\"Oregon\", \"California\", \"Kentucky\", \"Maryland\", \"New Jersey\", \"West Virginia\"], \"locationmode\": \"USA-states\", \"locations\": [\"OR\", \"CA\", \"KY\", \"MD\", \"NJ\", \"WV\"], \"name\": \"TBD\", \"showlegend\": true, \"showscale\": false, \"type\": \"choropleth\", \"z\": [1, 1, 1, 1, 1, 1]}],\n",
       "                        {\"geo\": {\"center\": {}, \"domain\": {\"x\": [0.0, 1.0], \"y\": [0.0, 1.0]}, \"resolution\": 110, \"scope\": \"usa\"}, \"legend\": {\"title\": {\"text\": \"end_date\"}, \"tracegroupgap\": 0}, \"template\": {\"data\": {\"bar\": [{\"error_x\": {\"color\": \"#2a3f5f\"}, \"error_y\": {\"color\": \"#2a3f5f\"}, \"marker\": {\"line\": {\"color\": \"#E5ECF6\", \"width\": 0.5}}, \"type\": \"bar\"}], \"barpolar\": [{\"marker\": {\"line\": {\"color\": \"#E5ECF6\", \"width\": 0.5}}, \"type\": \"barpolar\"}], \"carpet\": [{\"aaxis\": {\"endlinecolor\": \"#2a3f5f\", \"gridcolor\": \"white\", \"linecolor\": \"white\", \"minorgridcolor\": \"white\", \"startlinecolor\": \"#2a3f5f\"}, \"baxis\": {\"endlinecolor\": \"#2a3f5f\", \"gridcolor\": \"white\", \"linecolor\": \"white\", \"minorgridcolor\": \"white\", \"startlinecolor\": \"#2a3f5f\"}, \"type\": \"carpet\"}], \"choropleth\": [{\"colorbar\": {\"outlinewidth\": 0, \"ticks\": \"\"}, \"type\": \"choropleth\"}], \"contour\": [{\"colorbar\": {\"outlinewidth\": 0, \"ticks\": \"\"}, \"colorscale\": [[0.0, \"#0d0887\"], [0.1111111111111111, \"#46039f\"], [0.2222222222222222, \"#7201a8\"], [0.3333333333333333, \"#9c179e\"], [0.4444444444444444, \"#bd3786\"], [0.5555555555555556, \"#d8576b\"], [0.6666666666666666, \"#ed7953\"], [0.7777777777777778, \"#fb9f3a\"], [0.8888888888888888, \"#fdca26\"], [1.0, \"#f0f921\"]], \"type\": \"contour\"}], \"contourcarpet\": [{\"colorbar\": {\"outlinewidth\": 0, \"ticks\": \"\"}, \"type\": \"contourcarpet\"}], \"heatmap\": [{\"colorbar\": {\"outlinewidth\": 0, \"ticks\": \"\"}, \"colorscale\": [[0.0, \"#0d0887\"], [0.1111111111111111, \"#46039f\"], [0.2222222222222222, \"#7201a8\"], [0.3333333333333333, \"#9c179e\"], [0.4444444444444444, \"#bd3786\"], [0.5555555555555556, \"#d8576b\"], [0.6666666666666666, \"#ed7953\"], [0.7777777777777778, \"#fb9f3a\"], [0.8888888888888888, \"#fdca26\"], [1.0, \"#f0f921\"]], \"type\": \"heatmap\"}], \"heatmapgl\": [{\"colorbar\": {\"outlinewidth\": 0, \"ticks\": \"\"}, \"colorscale\": [[0.0, \"#0d0887\"], [0.1111111111111111, \"#46039f\"], [0.2222222222222222, \"#7201a8\"], [0.3333333333333333, \"#9c179e\"], [0.4444444444444444, \"#bd3786\"], [0.5555555555555556, \"#d8576b\"], [0.6666666666666666, \"#ed7953\"], [0.7777777777777778, \"#fb9f3a\"], [0.8888888888888888, \"#fdca26\"], [1.0, \"#f0f921\"]], \"type\": \"heatmapgl\"}], \"histogram\": [{\"marker\": {\"colorbar\": {\"outlinewidth\": 0, \"ticks\": \"\"}}, \"type\": \"histogram\"}], \"histogram2d\": [{\"colorbar\": {\"outlinewidth\": 0, \"ticks\": \"\"}, \"colorscale\": [[0.0, \"#0d0887\"], [0.1111111111111111, \"#46039f\"], [0.2222222222222222, \"#7201a8\"], [0.3333333333333333, \"#9c179e\"], [0.4444444444444444, \"#bd3786\"], [0.5555555555555556, \"#d8576b\"], [0.6666666666666666, \"#ed7953\"], [0.7777777777777778, \"#fb9f3a\"], [0.8888888888888888, \"#fdca26\"], [1.0, \"#f0f921\"]], \"type\": \"histogram2d\"}], \"histogram2dcontour\": [{\"colorbar\": {\"outlinewidth\": 0, \"ticks\": \"\"}, \"colorscale\": [[0.0, \"#0d0887\"], [0.1111111111111111, \"#46039f\"], [0.2222222222222222, \"#7201a8\"], [0.3333333333333333, \"#9c179e\"], [0.4444444444444444, \"#bd3786\"], [0.5555555555555556, \"#d8576b\"], [0.6666666666666666, \"#ed7953\"], [0.7777777777777778, \"#fb9f3a\"], [0.8888888888888888, \"#fdca26\"], [1.0, \"#f0f921\"]], \"type\": \"histogram2dcontour\"}], \"mesh3d\": [{\"colorbar\": {\"outlinewidth\": 0, \"ticks\": \"\"}, \"type\": \"mesh3d\"}], \"parcoords\": [{\"line\": {\"colorbar\": {\"outlinewidth\": 0, \"ticks\": \"\"}}, \"type\": \"parcoords\"}], \"pie\": [{\"automargin\": true, \"type\": \"pie\"}], \"scatter\": [{\"marker\": {\"colorbar\": {\"outlinewidth\": 0, \"ticks\": \"\"}}, \"type\": \"scatter\"}], \"scatter3d\": [{\"line\": {\"colorbar\": {\"outlinewidth\": 0, \"ticks\": \"\"}}, \"marker\": {\"colorbar\": {\"outlinewidth\": 0, \"ticks\": \"\"}}, \"type\": \"scatter3d\"}], \"scattercarpet\": [{\"marker\": {\"colorbar\": {\"outlinewidth\": 0, \"ticks\": \"\"}}, \"type\": \"scattercarpet\"}], \"scattergeo\": [{\"marker\": {\"colorbar\": {\"outlinewidth\": 0, \"ticks\": \"\"}}, \"type\": \"scattergeo\"}], \"scattergl\": [{\"marker\": {\"colorbar\": {\"outlinewidth\": 0, \"ticks\": \"\"}}, \"type\": \"scattergl\"}], \"scattermapbox\": [{\"marker\": {\"colorbar\": {\"outlinewidth\": 0, \"ticks\": \"\"}}, \"type\": \"scattermapbox\"}], \"scatterpolar\": [{\"marker\": {\"colorbar\": {\"outlinewidth\": 0, \"ticks\": \"\"}}, \"type\": \"scatterpolar\"}], \"scatterpolargl\": [{\"marker\": {\"colorbar\": {\"outlinewidth\": 0, \"ticks\": \"\"}}, \"type\": \"scatterpolargl\"}], \"scatterternary\": [{\"marker\": {\"colorbar\": {\"outlinewidth\": 0, \"ticks\": \"\"}}, \"type\": \"scatterternary\"}], \"surface\": [{\"colorbar\": {\"outlinewidth\": 0, \"ticks\": \"\"}, \"colorscale\": [[0.0, \"#0d0887\"], [0.1111111111111111, \"#46039f\"], [0.2222222222222222, \"#7201a8\"], [0.3333333333333333, \"#9c179e\"], [0.4444444444444444, \"#bd3786\"], [0.5555555555555556, \"#d8576b\"], [0.6666666666666666, \"#ed7953\"], [0.7777777777777778, \"#fb9f3a\"], [0.8888888888888888, \"#fdca26\"], [1.0, \"#f0f921\"]], \"type\": \"surface\"}], \"table\": [{\"cells\": {\"fill\": {\"color\": \"#EBF0F8\"}, \"line\": {\"color\": \"white\"}}, \"header\": {\"fill\": {\"color\": \"#C8D4E3\"}, \"line\": {\"color\": \"white\"}}, \"type\": \"table\"}]}, \"layout\": {\"annotationdefaults\": {\"arrowcolor\": \"#2a3f5f\", \"arrowhead\": 0, \"arrowwidth\": 1}, \"coloraxis\": {\"colorbar\": {\"outlinewidth\": 0, \"ticks\": \"\"}}, \"colorscale\": {\"diverging\": [[0, \"#8e0152\"], [0.1, \"#c51b7d\"], [0.2, \"#de77ae\"], [0.3, \"#f1b6da\"], [0.4, \"#fde0ef\"], [0.5, \"#f7f7f7\"], [0.6, \"#e6f5d0\"], [0.7, \"#b8e186\"], [0.8, \"#7fbc41\"], [0.9, \"#4d9221\"], [1, \"#276419\"]], \"sequential\": [[0.0, \"#0d0887\"], [0.1111111111111111, \"#46039f\"], [0.2222222222222222, \"#7201a8\"], [0.3333333333333333, \"#9c179e\"], [0.4444444444444444, \"#bd3786\"], [0.5555555555555556, \"#d8576b\"], [0.6666666666666666, \"#ed7953\"], [0.7777777777777778, \"#fb9f3a\"], [0.8888888888888888, \"#fdca26\"], [1.0, \"#f0f921\"]], \"sequentialminus\": [[0.0, \"#0d0887\"], [0.1111111111111111, \"#46039f\"], [0.2222222222222222, \"#7201a8\"], [0.3333333333333333, \"#9c179e\"], [0.4444444444444444, \"#bd3786\"], [0.5555555555555556, \"#d8576b\"], [0.6666666666666666, \"#ed7953\"], [0.7777777777777778, \"#fb9f3a\"], [0.8888888888888888, \"#fdca26\"], [1.0, \"#f0f921\"]]}, \"colorway\": [\"#636efa\", \"#EF553B\", \"#00cc96\", \"#ab63fa\", \"#FFA15A\", \"#19d3f3\", \"#FF6692\", \"#B6E880\", \"#FF97FF\", \"#FECB52\"], \"font\": {\"color\": \"#2a3f5f\"}, \"geo\": {\"bgcolor\": \"white\", \"lakecolor\": \"white\", \"landcolor\": \"#E5ECF6\", \"showlakes\": true, \"showland\": true, \"subunitcolor\": \"white\"}, \"hoverlabel\": {\"align\": \"left\"}, \"hovermode\": \"closest\", \"mapbox\": {\"style\": \"light\"}, \"paper_bgcolor\": \"white\", \"plot_bgcolor\": \"#E5ECF6\", \"polar\": {\"angularaxis\": {\"gridcolor\": \"white\", \"linecolor\": \"white\", \"ticks\": \"\"}, \"bgcolor\": \"#E5ECF6\", \"radialaxis\": {\"gridcolor\": \"white\", \"linecolor\": \"white\", \"ticks\": \"\"}}, \"scene\": {\"xaxis\": {\"backgroundcolor\": \"#E5ECF6\", \"gridcolor\": \"white\", \"gridwidth\": 2, \"linecolor\": \"white\", \"showbackground\": true, \"ticks\": \"\", \"zerolinecolor\": \"white\"}, \"yaxis\": {\"backgroundcolor\": \"#E5ECF6\", \"gridcolor\": \"white\", \"gridwidth\": 2, \"linecolor\": \"white\", \"showbackground\": true, \"ticks\": \"\", \"zerolinecolor\": \"white\"}, \"zaxis\": {\"backgroundcolor\": \"#E5ECF6\", \"gridcolor\": \"white\", \"gridwidth\": 2, \"linecolor\": \"white\", \"showbackground\": true, \"ticks\": \"\", \"zerolinecolor\": \"white\"}}, \"shapedefaults\": {\"line\": {\"color\": \"#2a3f5f\"}}, \"ternary\": {\"aaxis\": {\"gridcolor\": \"white\", \"linecolor\": \"white\", \"ticks\": \"\"}, \"baxis\": {\"gridcolor\": \"white\", \"linecolor\": \"white\", \"ticks\": \"\"}, \"bgcolor\": \"#E5ECF6\", \"caxis\": {\"gridcolor\": \"white\", \"linecolor\": \"white\", \"ticks\": \"\"}}, \"title\": {\"x\": 0.05}, \"xaxis\": {\"automargin\": true, \"gridcolor\": \"white\", \"linecolor\": \"white\", \"ticks\": \"\", \"title\": {\"standoff\": 15}, \"zerolinecolor\": \"white\", \"zerolinewidth\": 2}, \"yaxis\": {\"automargin\": true, \"gridcolor\": \"white\", \"linecolor\": \"white\", \"ticks\": \"\", \"title\": {\"standoff\": 15}, \"zerolinecolor\": \"white\", \"zerolinewidth\": 2}}}, \"title\": {\"text\": \"Lockdown End Date\"}},\n",
       "                        {\"responsive\": true}\n",
       "                    ).then(function(){\n",
       "                            \n",
       "var gd = document.getElementById('6c779ca9-e87f-4ea0-9c0c-921462b793b1');\n",
       "var x = new MutationObserver(function (mutations, observer) {{\n",
       "        var display = window.getComputedStyle(gd).display;\n",
       "        if (!display || display === 'none') {{\n",
       "            console.log([gd, 'removed!']);\n",
       "            Plotly.purge(gd);\n",
       "            observer.disconnect();\n",
       "        }}\n",
       "}});\n",
       "\n",
       "// Listen for the removal of the full notebook cells\n",
       "var notebookContainer = gd.closest('#notebook-container');\n",
       "if (notebookContainer) {{\n",
       "    x.observe(notebookContainer, {childList: true});\n",
       "}}\n",
       "\n",
       "// Listen for the clearing of the current output cell\n",
       "var outputEl = gd.closest('.output');\n",
       "if (outputEl) {{\n",
       "    x.observe(outputEl, {childList: true});\n",
       "}}\n",
       "\n",
       "                        })\n",
       "                };\n",
       "                });\n",
       "            </script>\n",
       "        </div>"
      ]
     },
     "metadata": {},
     "output_type": "display_data"
    }
   ],
   "source": [
    "fig = px.choropleth(end_map,  \n",
    "                    locations=\"state_code\", \n",
    "                    color=\"end_date\",  \n",
    "                    hover_name=\"state\", \n",
    "                    locationmode = 'USA-states',\n",
    "                    title='Lockdown End Date',\n",
    "                    color_discrete_sequence = ['#ffffff','#ffe6e6','#ffcccc','#ffb3b3','#ff9999','#ff8080',\n",
    "                                              '#ff6666','#ff4d4d','#ff3333','#ff1a1a','#ff0000','#e60000',\n",
    "                                              '#cc0000','#b30000','#990000','#800000','#660000','#4d0000',\n",
    "                                              '#330000','#1a0000','#000000']\n",
    "                    )\n",
    "fig.update_geos(\n",
    "    resolution=110, scope=\"usa\",\n",
    ")\n",
    "fig.show()"
   ]
  },
  {
   "cell_type": "code",
   "execution_count": null,
   "metadata": {},
   "outputs": [],
   "source": []
  }
 ],
 "metadata": {
  "kernelspec": {
   "display_name": "Python 3",
   "language": "python",
   "name": "python3"
  },
  "language_info": {
   "codemirror_mode": {
    "name": "ipython",
    "version": 3
   },
   "file_extension": ".py",
   "mimetype": "text/x-python",
   "name": "python",
   "nbconvert_exporter": "python",
   "pygments_lexer": "ipython3",
   "version": "3.7.6"
  }
 },
 "nbformat": 4,
 "nbformat_minor": 4
}
