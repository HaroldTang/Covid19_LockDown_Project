{
 "cells": [
  {
   "cell_type": "code",
   "execution_count": 97,
   "metadata": {},
   "outputs": [],
   "source": [
    "import pandas as pd\n",
    "import numpy as np\n",
    "import matplotlib.pyplot as pyplot\n"
   ]
  },
  {
   "cell_type": "code",
   "execution_count": 98,
   "metadata": {},
   "outputs": [],
   "source": [
    "df = pd.read_csv('../data/tweets_biogram.csv')"
   ]
  },
  {
   "cell_type": "code",
   "execution_count": 99,
   "metadata": {},
   "outputs": [],
   "source": [
    "# df.sort_values(by=['gram'], inplace=True) #ascending=False"
   ]
  },
  {
   "cell_type": "code",
   "execution_count": 101,
   "metadata": {},
   "outputs": [],
   "source": [
    "df = df.replace(to_replace=['19 covid','coronavirus covid19','coronavirus covidー19','covid19 covid2019','covid19 covidー19','coronavirus covid2019','covid19 covid_19','covid19 covid_19'], value='coronavirus covid')"
   ]
  },
  {
   "cell_type": "code",
   "execution_count": 102,
   "metadata": {},
   "outputs": [],
   "source": [
    "df = df.replace(to_replace=['coronavirus pandemic','19 pandemic'], value='covid19 pandemic')"
   ]
  },
  {
   "cell_type": "code",
   "execution_count": 103,
   "metadata": {},
   "outputs": [],
   "source": [
    "df = df.replace(to_replace=['cases new','19 cases','cases coronavirus','cases confirmed'], value='cases covid19')"
   ]
  },
  {
   "cell_type": "code",
   "execution_count": 104,
   "metadata": {},
   "outputs": [],
   "source": [
    "df.fillna(0, inplace=True)"
   ]
  },
  {
   "cell_type": "code",
   "execution_count": 105,
   "metadata": {},
   "outputs": [],
   "source": [
    "data = df.groupby('gram').sum().reset_index()"
   ]
  },
  {
   "cell_type": "code",
   "execution_count": 107,
   "metadata": {},
   "outputs": [],
   "source": [
    "num = 20"
   ]
  },
  {
   "cell_type": "code",
   "execution_count": 108,
   "metadata": {},
   "outputs": [],
   "source": [
    "# for col in data.columns.values.tolist()[1:]:\n",
    "    # col_df = data.sort_values(by=col, ascending=False).head(num)[['gram', col]]\n",
    "    # col_df.to_csv(col + '.csv',sep=',', index=False)"
   ]
  },
  {
   "cell_type": "code",
   "execution_count": 109,
   "metadata": {},
   "outputs": [],
   "source": [
    "rst_list = []\n",
    "rst_cloud_list = []\n",
    "for col in data.columns.values.tolist()[1:]:\n",
    "    rst_df = data.sort_values(by=col, ascending=False).head(num)[['gram'][0]].values\n",
    "    rst_df = np.insert(rst_df, 0, col)\n",
    "    rst_list.append(rst_df)\n",
    "    rst_cloud_list.extend(rst_df)\n",
    "    \n"
   ]
  },
  {
   "cell_type": "code",
   "execution_count": 110,
   "metadata": {
    "scrolled": true
   },
   "outputs": [],
   "source": [
    "top20 = pd.DataFrame(np.array(rst_list).T)\n",
    "top20.to_csv('top20.csv', header=None)"
   ]
  },
  {
   "cell_type": "code",
   "execution_count": 139,
   "metadata": {},
   "outputs": [],
   "source": [
    "dic = {}\n",
    "for item in rst_cloud_list:\n",
    "    if item not in dic.keys():\n",
    "        dic[item] = 0\n",
    "    dic[item] += 1\n",
    "dic = sorted(dic.items(), key=lambda d: d[1], reverse=True)\n",
    "pd.DataFrame(np.array(dic)).to_csv('cloud2.csv', header=None, index=False)\n"
   ]
  },
  {
   "cell_type": "code",
   "execution_count": null,
   "metadata": {},
   "outputs": [],
   "source": [
    "rst_li = []\n",
    "for item in dic:\n",
    "    rst_li.append(item[0])\n",
    "rst_li\n"
   ]
  },
  {
   "cell_type": "code",
   "execution_count": null,
   "metadata": {},
   "outputs": [],
   "source": [
    "# pd.DataFrame(np.array(rst_cloud_list)).to_csv('cloud.csv', header=None, index=False)"
   ]
  },
  {
   "cell_type": "code",
   "execution_count": null,
   "metadata": {},
   "outputs": [],
   "source": []
  }
 ],
 "metadata": {
  "kernelspec": {
   "display_name": "Python 3",
   "language": "python",
   "name": "python3"
  },
  "language_info": {
   "codemirror_mode": {
    "name": "ipython",
    "version": 3
   },
   "file_extension": ".py",
   "mimetype": "text/x-python",
   "name": "python",
   "nbconvert_exporter": "python",
   "pygments_lexer": "ipython3",
   "version": "3.7.6"
  }
 },
 "nbformat": 4,
 "nbformat_minor": 4
}
