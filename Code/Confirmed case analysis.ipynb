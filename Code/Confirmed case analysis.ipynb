{
 "cells": [
  {
   "cell_type": "code",
   "execution_count": null,
   "metadata": {},
   "outputs": [],
   "source": [
    "conda install -c plotly plotly=4.7.0"
   ]
  },
  {
   "cell_type": "code",
   "execution_count": null,
   "metadata": {},
   "outputs": [],
   "source": [
    "import pandas as pd\n",
    "import numpy as np\n",
    "import glob,os\n",
    "from datetime import datetime\n",
    "import plotly.graph_objects as go\n",
    "import plotly.express as px\n",
    "from plotly.subplots import make_subplots"
   ]
  },
  {
   "cell_type": "code",
   "execution_count": null,
   "metadata": {},
   "outputs": [],
   "source": [
    "confirmed_county= pd.read_csv('../Raw_data/df_Counties2020.csv',dtype={\"fips\": str})\n",
    "confirmed_county.head(10)"
   ]
  },
  {
   "cell_type": "code",
   "execution_count": null,
   "metadata": {},
   "outputs": [],
   "source": [
    "confirmed_county.drop(['Unnamed: 0', 'Countyname', 'ST_Name', 'ST_ID',], axis = 1, inplace=True)\n",
    "confirmed_county"
   ]
  },
  {
   "cell_type": "code",
   "execution_count": null,
   "metadata": {},
   "outputs": [],
   "source": [
    "confirmed_df = confirmed_county[confirmed_county['dt'] >= '2020-03-01'].copy()\n",
    "cases_df =  confirmed_df[confirmed_df['dt'] <= '2020-04-20'].copy()\n",
    "cases_df.columns = ['fips', 'date', 'confirmed', 'death']\n",
    "cases_df"
   ]
  },
  {
   "cell_type": "code",
   "execution_count": null,
   "metadata": {},
   "outputs": [],
   "source": [
    "cases_df= cases_df[cases_df['fips'] != 99999]\n",
    "cases_df = cases_df[cases_df['fips']>100]\n",
    "cases_df"
   ]
  },
  {
   "cell_type": "code",
   "execution_count": null,
   "metadata": {},
   "outputs": [],
   "source": [
    "cases_df['fips'] = cases_df['fips'].astype('str').str.pad(5, fillchar='0')\n",
    "cases_df"
   ]
  },
  {
   "cell_type": "code",
   "execution_count": null,
   "metadata": {},
   "outputs": [],
   "source": [
    "from urllib.request import urlopen\n",
    "import json\n",
    "with urlopen('https://raw.githubusercontent.com/plotly/datasets/master/geojson-counties-fips.json') as response:\n",
    "    counties = json.load(response)"
   ]
  },
  {
   "cell_type": "code",
   "execution_count": null,
   "metadata": {},
   "outputs": [],
   "source": [
    "# cases of counties on 03-02\n",
    "cases_03_02= cases_df[cases_df['date'] == '2020-03-02'].copy()\n",
    "fig = px.choropleth_mapbox(cases_03_02, geojson=counties, locations='fips', color='confirmed',\n",
    "                           color_continuous_scale=\"Inferno\",\n",
    "                           range_color = (0,50),\n",
    "                           mapbox_style=\"open-street-map\",\n",
    "                           zoom=3, center = {\"lat\": 37.0902, \"lon\": -95.7129},\n",
    "                           opacity=0.6,\n",
    "                          )\n",
    "fig.update_layout(margin={\"r\":0,\"t\":0,\"l\":0,\"b\":0})\n",
    "fig.show()"
   ]
  },
  {
   "cell_type": "code",
   "execution_count": null,
   "metadata": {},
   "outputs": [],
   "source": [
    "fig = px.choropleth_mapbox(cases_03_02, geojson=counties, locations='fips', color='death',\n",
    "                           color_continuous_scale=\"Blues\",\n",
    "                           range_color = (0,50),\n",
    "                           mapbox_style=\"open-street-map\",\n",
    "                           zoom=3, center = {\"lat\": 37.0902, \"lon\": -95.7129},\n",
    "                           opacity=0.6,\n",
    "                          )\n",
    "fig.update_layout(margin={\"r\":0,\"t\":0,\"l\":0,\"b\":0})\n",
    "fig.show()"
   ]
  },
  {
   "cell_type": "code",
   "execution_count": null,
   "metadata": {},
   "outputs": [],
   "source": [
    "# cases of counties on 03-16\n",
    "cases_03_16= cases_df[cases_df['date'] == '2020-03-16'].copy()\n",
    "fig = px.choropleth_mapbox(cases_03_16, geojson=counties, locations='fips', color='confirmed',\n",
    "                           color_continuous_scale=\"Inferno\",\n",
    "                           range_color = (0,50),\n",
    "                           mapbox_style=\"open-street-map\",\n",
    "                           zoom=3, center = {\"lat\": 37.0902, \"lon\": -95.7129},\n",
    "                           opacity=0.6,\n",
    "                          )\n",
    "fig.update_layout(margin={\"r\":0,\"t\":0,\"l\":0,\"b\":0})\n",
    "fig.show()"
   ]
  },
  {
   "cell_type": "code",
   "execution_count": null,
   "metadata": {},
   "outputs": [],
   "source": [
    "fig = px.choropleth_mapbox(cases_03_16, geojson=counties, locations='fips', color='death',\n",
    "                           color_continuous_scale=\"Blues\",\n",
    "                           range_color = (0,50),\n",
    "                           mapbox_style=\"open-street-map\",\n",
    "                           zoom=3, center = {\"lat\": 37.0902, \"lon\": -95.7129},\n",
    "                           opacity=0.6,\n",
    "                          )\n",
    "fig.update_layout(margin={\"r\":0,\"t\":0,\"l\":0,\"b\":0})\n",
    "fig.show()"
   ]
  },
  {
   "cell_type": "code",
   "execution_count": null,
   "metadata": {},
   "outputs": [],
   "source": [
    "# cases of counties on 03-30\n",
    "cases_03_30= cases_df[cases_df['date'] == '2020-03-30'].copy()\n",
    "fig = px.choropleth_mapbox(cases_03_30, geojson=counties, locations='fips', color='confirmed',\n",
    "                           color_continuous_scale=\"Inferno\",\n",
    "                           range_color = (0,50),\n",
    "                           mapbox_style=\"open-street-map\",\n",
    "                           zoom=3, center = {\"lat\": 37.0902, \"lon\": -95.7129},\n",
    "                           opacity=0.6,\n",
    "                          )\n",
    "fig.update_layout(margin={\"r\":0,\"t\":0,\"l\":0,\"b\":0})\n",
    "fig.show()"
   ]
  },
  {
   "cell_type": "code",
   "execution_count": null,
   "metadata": {},
   "outputs": [],
   "source": [
    "fig = px.choropleth_mapbox(cases_03_30, geojson=counties, locations='fips', color='death',\n",
    "                           color_continuous_scale=\"Blues\",\n",
    "                           range_color = (0,50),\n",
    "                           mapbox_style=\"open-street-map\",\n",
    "                           zoom=3, center = {\"lat\": 37.0902, \"lon\": -95.7129},\n",
    "                           opacity=0.6,\n",
    "                          )\n",
    "fig.update_layout(margin={\"r\":0,\"t\":0,\"l\":0,\"b\":0})\n",
    "fig.show()"
   ]
  },
  {
   "cell_type": "code",
   "execution_count": null,
   "metadata": {},
   "outputs": [],
   "source": [
    "# cases of counties on 04-12\n",
    "cases_04_12= cases_df[cases_df['date'] == '2020-04-12'].copy()\n",
    "fig = px.choropleth_mapbox(cases_04_12, geojson=counties, locations='fips', color='confirmed',\n",
    "                           color_continuous_scale=\"Inferno\",\n",
    "                           range_color = (0,50),\n",
    "                           mapbox_style=\"open-street-map\",\n",
    "                           zoom=3, center = {\"lat\": 37.0902, \"lon\": -95.7129},\n",
    "                           opacity=0.6,\n",
    "                          )\n",
    "fig.update_layout(margin={\"r\":0,\"t\":0,\"l\":0,\"b\":0})\n",
    "fig.show()"
   ]
  },
  {
   "cell_type": "code",
   "execution_count": null,
   "metadata": {},
   "outputs": [],
   "source": [
    "fig = px.choropleth_mapbox(cases_04_12, geojson=counties, locations='fips', color='death',\n",
    "                           color_continuous_scale=\"Blues\",\n",
    "                           range_color = (0,50),\n",
    "                           mapbox_style=\"open-street-map\",\n",
    "                           zoom=3, center = {\"lat\": 37.0902, \"lon\": -95.7129},\n",
    "                           opacity=0.6\n",
    "                          )\n",
    "fig.update_layout(margin={\"r\":0,\"t\":0,\"l\":0,\"b\":0})\n",
    "fig.show()"
   ]
  },
  {
   "cell_type": "code",
   "execution_count": null,
   "metadata": {},
   "outputs": [],
   "source": [
    "confirmed_county_state= pd.read_csv('../Raw_data/df_Counties2020.csv')\n",
    "confirmed_county_state= confirmed_county_state[confirmed_county_state['FIPS'] != 99999]\n",
    "confirmed_county_state = confirmed_county_state[confirmed_county_state['FIPS']>100]\n",
    "confirmed_county_state.drop(['Unnamed: 0', 'Countyname', 'FIPS','ST_ID'], axis = 1, inplace=True)\n",
    "confirmed_county_state"
   ]
  },
  {
   "cell_type": "code",
   "execution_count": null,
   "metadata": {},
   "outputs": [],
   "source": [
    "state_codes = {\n",
    "    'District of Columbia' : 'dc','Mississippi': 'MS', 'Oklahoma': 'OK', \n",
    "    'Delaware': 'DE', 'Minnesota': 'MN', 'Illinois': 'IL', 'Arkansas': 'AR', \n",
    "    'New Mexico': 'NM', 'Indiana': 'IN', 'Maryland': 'MD', 'Louisiana': 'LA', \n",
    "    'Idaho': 'ID', 'Wyoming': 'WY', 'Tennessee': 'TN', 'Arizona': 'AZ', \n",
    "    'Iowa': 'IA', 'Michigan': 'MI', 'Kansas': 'KS', 'Utah': 'UT', \n",
    "    'Virginia': 'VA', 'Oregon': 'OR', 'Connecticut': 'CT', 'Montana': 'MT', \n",
    "    'California': 'CA', 'Massachusetts': 'MA', 'West Virginia': 'WV', \n",
    "    'South Carolina': 'SC', 'New Hampshire': 'NH', 'Wisconsin': 'WI',\n",
    "    'Vermont': 'VT', 'Georgia': 'GA', 'North Dakota': 'ND', \n",
    "    'Pennsylvania': 'PA', 'Florida': 'FL', 'Alaska': 'AK', 'Kentucky': 'KY', \n",
    "    'Hawaii': 'HI', 'Nebraska': 'NE', 'Missouri': 'MO', 'Ohio': 'OH', \n",
    "    'Alabama': 'AL', 'Rhode Island': 'RI', 'South Dakota': 'SD', \n",
    "    'Colorado': 'CO', 'New Jersey': 'NJ', 'Washington': 'WA', \n",
    "    'North Carolina': 'NC', 'New York': 'NY', 'Texas': 'TX', \n",
    "    'Nevada': 'NV', 'Maine': 'ME'}\n",
    "#  & (policy_df['endDate']=='None')\n",
    "cases_state = confirmed_county_state[(confirmed_county_state['ST_Name']!='Diamond Princess')].copy()\n",
    "cases_state['state'] = cases_state['ST_Name'].apply(lambda x : state_codes[x])\n",
    "cases_state.drop('ST_Name', axis=1, inplace = True)\n",
    "cases_state.columns = ['date','confirmed','deaths','state']\n",
    "cases_state"
   ]
  },
  {
   "cell_type": "code",
   "execution_count": null,
   "metadata": {},
   "outputs": [],
   "source": [
    "cases_sum_state = cases_state.groupby(['date','state']).sum()\n",
    "cases = cases_sum_state.swaplevel()\n",
    "cases"
   ]
  },
  {
   "cell_type": "code",
   "execution_count": null,
   "metadata": {},
   "outputs": [],
   "source": [
    "# compute the confirmed and death cases for merge\n",
    "def computeStateCases(state):\n",
    "    cases_state = cases.loc[(state)].copy()\n",
    "    cases_state.reset_index(inplace=True)\n",
    "    cases_state['date'] = pd.to_datetime(cases_state['date'], format='%Y-%m-%d')\n",
    "    case = cases_state[(cases_state[\"date\"]>='2020-03-01') & (cases_state[\"date\"]<='2020-04-23') ]\n",
    "    return case\n",
    "\n",
    "# compute the state mobility for merge\n",
    "def computeStateMobility(state):\n",
    "    mobility_copy = state_mobility[state_mobility['admin1'] == state].copy()\n",
    "    mobility = mobility_copy.melt(id_vars=['admin1'],var_name='date',value_name = 'mobility %')\n",
    "    mobility.drop('admin1', axis = 1,inplace=True)\n",
    "    mobility['date'] = pd.to_datetime(mobility['date'], format='%m-%d')\n",
    "    mobility['date'] = mobility['date'].apply(lambda x: x.replace(year=2020))\n",
    "    return mobility\n",
    "\n",
    "# find state stay-at-home order start date\n",
    "def findOrder(state):\n",
    "    policy_df= pd.read_csv('../Raw_data/policy.csv')\n",
    "    policy_df.set_index('state',inplace=True)\n",
    "    try:\n",
    "        start_date = policy_df.loc[(state)]['startDate']\n",
    "        start_date_format = pd.to_datetime(start_date, format='%B %d')\n",
    "        start_date_out = start_date_format.replace(year=2020).strftime('%Y-%m-%d')\n",
    "        return start_date_out\n",
    "    except:\n",
    "        return None\n",
    "# find state stay-at-home order end date    \n",
    "def findEnd(state):\n",
    "    policy_df= pd.read_csv('../Raw_data/policy.csv')\n",
    "    policy_df.set_index('state',inplace=True)\n",
    "    try:\n",
    "        end_date = policy_df.loc[(state)]['endDate']\n",
    "        end_date_format = pd.to_datetime(end_date, format='%B %d')\n",
    "        end_date_out = end_date_format.replace(year=2020).strftime('%Y-%m-%d')\n",
    "        return end_date_out\n",
    "    except :\n",
    "        return None\n",
    "# draw new figure with given dataset\n",
    "def createNewFigure(dataset):\n",
    "    fig = make_subplots(specs=[[{\"secondary_y\": True}]])\n",
    "    fig.add_trace(\n",
    "        go.Scatter(x=dataset['date'], y=dataset['mobility %'], name=\"mobility\",mode='lines+markers'),\n",
    "        secondary_y=False,\n",
    "    )\n",
    "    fig.add_trace(\n",
    "        go.Bar(x=dataset['date'], y=dataset['confirmed'], name=\"confirmed\", opacity=0.9,),\n",
    "        secondary_y=True\n",
    "    )\n",
    "    fig.add_trace(\n",
    "        go.Bar(x=dataset['date'], y=dataset['deaths'], name=\"deaths\"),\n",
    "        secondary_y=True\n",
    "    )\n",
    "    return fig\n",
    "\n",
    "# merge and plot\n",
    "def mergePlot(case, mobility, state):\n",
    "    merge = case.merge(mobility, on='date', how = 'outer')\n",
    "    plot = merge.fillna(0)\n",
    "    start_date = findOrder(state)\n",
    "    end_date = findEnd(state)\n",
    "    fig = createNewFigure(plot)\n",
    "    if start_date is None and end_date is None:\n",
    "        fig.add_annotation( # add a text callout with arrow\n",
    "            text=\"No stay-at-home order!\", x=0.5, y=0.8, showarrow=False, xref='paper', yref='paper'\n",
    "        )\n",
    "    elif start_date is not None and (end_date is None or end_date > '2020-04-30'):\n",
    "        fig.add_shape(\n",
    "                dict(\n",
    "                    type=\"line\",\n",
    "                    yref=\"paper\",\n",
    "                    x0=start_date,\n",
    "                    y0=0,\n",
    "                    x1=start_date,\n",
    "                    y1=1,\n",
    "                    line=dict(\n",
    "                        color=\"Red\",\n",
    "                        width=3\n",
    "                    ),\n",
    "                )\n",
    "        ) \n",
    "        fig.add_annotation( # add a text callout with arrow\n",
    "            text=\"Start\", x=start_date, y=90, arrowhead=2, showarrow=True,xshift=-7\n",
    "        )\n",
    "        fig.add_shape(\n",
    "            dict(\n",
    "                    type=\"rect\",\n",
    "                    xref=\"x\",\n",
    "                    yref=\"paper\",\n",
    "                    x0=start_date,\n",
    "                    y0=0,\n",
    "                    x1=\"2020-04-26\",\n",
    "                    y1=1,\n",
    "                    fillcolor=\"LightSalmon\",\n",
    "                    opacity=0.1,\n",
    "                    layer=\"below\",\n",
    "                    line_width=0,\n",
    "                    name='Stay-at-home Order doesn\\'t end '\n",
    "                )\n",
    "        )\n",
    "    else:\n",
    "        fig.add_shape(\n",
    "                dict(\n",
    "                    type=\"line\",\n",
    "                    yref=\"paper\",\n",
    "                    x0=start_date,\n",
    "                    y0=0,\n",
    "                    x1=start_date,\n",
    "                    y1=1,\n",
    "                    line=dict(\n",
    "                        color=\"Red\",\n",
    "                        width=3\n",
    "                    ),\n",
    "                )\n",
    "        )\n",
    "        fig.add_annotation( # add a text callout with arrow\n",
    "            text=\"Start\", x=start_date, y=90, arrowhead=1, showarrow=True,xshift=-7\n",
    "        )\n",
    "        fig.add_shape(\n",
    "            dict(\n",
    "                    type=\"rect\",\n",
    "                    xref=\"x\",\n",
    "                    yref=\"paper\",\n",
    "                    x0=start_date,\n",
    "                    y0=0,\n",
    "                    x1=end_date,\n",
    "                    y1=1,\n",
    "                    fillcolor=\"LightSalmon\",\n",
    "                    opacity=0.2,\n",
    "                    layer=\"below\",\n",
    "                    line_width=0,\n",
    "                    name='Stay-at-home Order ends'\n",
    "                )\n",
    "        )\n",
    "        fig.add_annotation( # add a text callout with arrow\n",
    "            text=\"End\", x=end_date, y=50, arrowhead=1, showarrow=True\n",
    "        )\n",
    "    fig.update_xaxes(title_text=\"date\")\n",
    "    fig.update_yaxes(title_text=\"mobility change %\", secondary_y=False)\n",
    "    fig.update_yaxes(title_text=\"confirmed cases\", secondary_y=True)\n",
    "    fig.update_layout(\n",
    "        title = 'Mobiltiy and Cases in %s state' % state,\n",
    "        xaxis_tickformat = '%m-%d (%a)'\n",
    "    )\n",
    "    fig.show()"
   ]
  },
  {
   "cell_type": "code",
   "execution_count": null,
   "metadata": {},
   "outputs": [],
   "source": [
    "state_mobility= pd.read_csv('../Output/Mobility_Result/DL_mobility_state.csv',dtype={\"fips\": str})\n",
    "state_mobility = state_mobility[state_mobility['class'] == 'm50_index']\n",
    "state_mobility.drop(['fips','class'], axis=1, inplace=True )\n",
    "state_mobility.head(10)"
   ]
  },
  {
   "cell_type": "code",
   "execution_count": null,
   "metadata": {},
   "outputs": [],
   "source": [
    "state = 'New York'\n",
    "case = computeStateCases(state_codes[state])\n",
    "mobility = computeStateMobility(state)\n",
    "mergePlot(case, mobility, state)"
   ]
  },
  {
   "cell_type": "code",
   "execution_count": null,
   "metadata": {},
   "outputs": [],
   "source": [
    "state = 'Washington'\n",
    "case = computeStateCases(state_codes[state])\n",
    "mobility = computeStateMobility(state)\n",
    "mergePlot(case, mobility, state)"
   ]
  },
  {
   "cell_type": "code",
   "execution_count": null,
   "metadata": {},
   "outputs": [],
   "source": [
    "state = 'Georgia'\n",
    "case = computeStateCases(state_codes[state])\n",
    "mobility = computeStateMobility(state)\n",
    "mergePlot(case, mobility, state)"
   ]
  },
  {
   "cell_type": "code",
   "execution_count": null,
   "metadata": {},
   "outputs": [],
   "source": [
    "state = 'Montana'\n",
    "case = computeStateCases(state_codes[state])\n",
    "mobility = computeStateMobility(state)\n",
    "mergePlot(case, mobility, state)"
   ]
  },
  {
   "cell_type": "code",
   "execution_count": null,
   "metadata": {},
   "outputs": [],
   "source": [
    "state = 'California'\n",
    "case = computeStateCases(state_codes[state])\n",
    "mobility = computeStateMobility(state)\n",
    "mergePlot(case, mobility, state)"
   ]
  },
  {
   "cell_type": "code",
   "execution_count": null,
   "metadata": {},
   "outputs": [],
   "source": [
    "state = 'Wisconsin'\n",
    "case = computeStateCases(state_codes[state])\n",
    "mobility = computeStateMobility(state)\n",
    "mergePlot(case, mobility, state)"
   ]
  },
  {
   "cell_type": "code",
   "execution_count": null,
   "metadata": {},
   "outputs": [],
   "source": [
    "state = 'Texas'\n",
    "case = computeStateCases(state_codes[state])\n",
    "mobility = computeStateMobility(state)\n",
    "mergePlot(case, mobility, state)"
   ]
  },
  {
   "cell_type": "code",
   "execution_count": null,
   "metadata": {},
   "outputs": [],
   "source": [
    "state = 'New Mexico'\n",
    "case = computeStateCases(state_codes[state])\n",
    "mobility = computeStateMobility(state)\n",
    "mergePlot(case, mobility, state)"
   ]
  },
  {
   "cell_type": "code",
   "execution_count": null,
   "metadata": {},
   "outputs": [],
   "source": [
    "state = 'Iowa'\n",
    "case = computeStateCases(state_codes[state])\n",
    "mobility = computeStateMobility(state)\n",
    "mergePlot(case, mobility, state)"
   ]
  },
  {
   "cell_type": "code",
   "execution_count": null,
   "metadata": {},
   "outputs": [],
   "source": [
    "state = 'Nebraska'\n",
    "case = computeStateCases(state_codes[state])\n",
    "mobility = computeStateMobility(state)\n",
    "mergePlot(case, mobility, state)"
   ]
  },
  {
   "cell_type": "code",
   "execution_count": null,
   "metadata": {},
   "outputs": [],
   "source": [
    "state = 'North Dakota'\n",
    "case = computeStateCases(state_codes[state])\n",
    "mobility = computeStateMobility(state)\n",
    "mergePlot(case, mobility, state)"
   ]
  },
  {
   "cell_type": "code",
   "execution_count": null,
   "metadata": {},
   "outputs": [],
   "source": [
    "state = 'South Dakota'\n",
    "case = computeStateCases(state_codes[state])\n",
    "mobility = computeStateMobility(state)\n",
    "mergePlot(case, mobility, state)"
   ]
  },
  {
   "cell_type": "code",
   "execution_count": null,
   "metadata": {},
   "outputs": [],
   "source": [
    "state = 'Utah'\n",
    "case = computeStateCases(state_codes[state])\n",
    "mobility = computeStateMobility(state)\n",
    "mergePlot(case, mobility, state)"
   ]
  },
  {
   "cell_type": "code",
   "execution_count": null,
   "metadata": {},
   "outputs": [],
   "source": [
    "state = 'Wyoming'\n",
    "case = computeStateCases(state_codes[state])\n",
    "mobility = computeStateMobility(state)\n",
    "mergePlot(case, mobility, state)"
   ]
  },
  {
   "cell_type": "code",
   "execution_count": null,
   "metadata": {},
   "outputs": [],
   "source": [
    "state = 'Arkansas'\n",
    "case = computeStateCases(state_codes[state])\n",
    "mobility = computeStateMobility(state)\n",
    "mergePlot(case, mobility, state)"
   ]
  },
  {
   "cell_type": "code",
   "execution_count": null,
   "metadata": {},
   "outputs": [],
   "source": [
    "state = 'Illinois'\n",
    "case = computeStateCases(state_codes[state])\n",
    "mobility = computeStateMobility(state)\n",
    "mergePlot(case, mobility, state)"
   ]
  },
  {
   "cell_type": "code",
   "execution_count": null,
   "metadata": {},
   "outputs": [],
   "source": []
  }
 ],
 "metadata": {
  "kernelspec": {
   "display_name": "Python 3",
   "language": "python",
   "name": "python3"
  },
  "language_info": {
   "codemirror_mode": {
    "name": "ipython",
    "version": 3
   },
   "file_extension": ".py",
   "mimetype": "text/x-python",
   "name": "python",
   "nbconvert_exporter": "python",
   "pygments_lexer": "ipython3",
   "version": "3.7.6"
  }
 },
 "nbformat": 4,
 "nbformat_minor": 4
}
